{
 "cells": [
  {
   "cell_type": "markdown",
   "metadata": {},
   "source": [
    "# Aggregation Edit Analysis\n",
    "The purpose of this notebook is to analyze the aggregated effect of editing certain locations of the gene"
   ]
  },
  {
   "cell_type": "code",
   "execution_count": 1,
   "metadata": {},
   "outputs": [
    {
     "name": "stdout",
     "output_type": "stream",
     "text": [
      "/home/carlyn.1/tmp\n"
     ]
    }
   ],
   "source": [
    "import os\n",
    "from pathlib import Path\n",
    "from dataclasses import dataclass\n",
    "import tempfile\n",
    "\n",
    "import torch\n",
    "\n",
    "from gtp.configs.loaders import load_configs\n",
    "from gtp.configs.project import GenotypeToPhenotypeConfigs\n",
    "from gtp.dataloading.path_collectors import (\n",
    "    get_experiment_directory,\n",
    "    get_post_processed_genotype_directory,\n",
    ")\n",
    "from gtp.dataloading.tools import collect_chromosome\n",
    "from gtp.models.net import SoyBeanNet\n",
    "from gtp.options.process_attribution import ProcessAttributionOptions\n",
    "\n",
    "# SPECIFY GPU\n",
    "os.environ[\"CUDA_DEVICE_ORDER\"] = \"PCI_BUS_ID\"\n",
    "os.environ[\"CUDA_VISIBLE_DEVICES\"] = \"7\"\n",
    "device = \"cuda\"\n",
    "\n",
    "# Set temp directory\n",
    "tempfile.tempdir = \"/home/carlyn.1/tmp\"\n",
    "print(tempfile.gettempdir())\n",
    "\n",
    "\n",
    "class GeneEditingDashboardState:\n",
    "    def __init__(\n",
    "        self,\n",
    "        wing: str,\n",
    "        species: str,\n",
    "        color: str,\n",
    "        chromosome: int,\n",
    "        exp_name: str,\n",
    "        config_path: str,\n",
    "    ):\n",
    "        self.wing = wing\n",
    "        self.species = species\n",
    "        self.color = color\n",
    "        self.chromosome = chromosome\n",
    "        self.exp_name = exp_name\n",
    "        self.configs: GenotypeToPhenotypeConfigs = load_configs(config_path)\n",
    "        self.model = None\n",
    "        self.camids = None\n",
    "        self.data = None\n",
    "\n",
    "        self.load_data_and_model()\n",
    "\n",
    "    def load_data_and_model(self):\n",
    "        match self.exp_name:\n",
    "            case \"base\":\n",
    "                drop_out_prob = 0.75\n",
    "                out_dims = 1\n",
    "                out_dims_start_idx = 0\n",
    "                insize = 3\n",
    "                hidden_dim = 10\n",
    "            case \"pca_10\":\n",
    "                drop_out_prob = 0.75\n",
    "                out_dims = 10\n",
    "                out_dims_start_idx = 0\n",
    "                insize = 3\n",
    "                hidden_dim = 10\n",
    "            case _:\n",
    "                raise NotImplementedError(\n",
    "                    f\"Experiment {self.exp_name} isn't implemented for this visualization. Please create a case and update configs.\"\n",
    "                )\n",
    "\n",
    "        opts: ProcessAttributionOptions = ProcessAttributionOptions(\n",
    "            drop_out_prob=drop_out_prob,\n",
    "            out_dims=out_dims,\n",
    "            out_dims_start_idx=out_dims_start_idx,\n",
    "            insize=insize,\n",
    "            hidden_dim=hidden_dim,\n",
    "            species=self.species,\n",
    "            chromosome=self.chromosome,\n",
    "            color=self.color,\n",
    "            wing=self.wing,\n",
    "            exp_name=self.exp_name,\n",
    "        )\n",
    "\n",
    "        processed_genotype_dir = (\n",
    "            get_post_processed_genotype_directory(self.configs.io)\n",
    "            / self.configs.experiment.genotype_scope\n",
    "        )\n",
    "\n",
    "        # Collect genotype data\n",
    "        self.camids, self.data = collect_chromosome(\n",
    "            processed_genotype_dir, self.species, self.chromosome\n",
    "        )\n",
    "\n",
    "        self.model = SoyBeanNet(\n",
    "            window_size=self.data.shape[1],\n",
    "            num_out_dims=opts.out_dims,\n",
    "            insize=opts.insize,\n",
    "            hidden_dim=opts.hidden_dim,\n",
    "            drop_out_prob=opts.drop_out_prob,\n",
    "        )\n",
    "\n",
    "        experiment_dir = get_experiment_directory(\n",
    "            self.configs.io,\n",
    "            species=self.species,\n",
    "            wing=self.wing,\n",
    "            color=self.color,\n",
    "            chromosome=self.chromosome,\n",
    "            exp_name=self.exp_name,\n",
    "        )\n",
    "\n",
    "        self.model.load_state_dict(\n",
    "            torch.load(experiment_dir / \"model.pt\", weights_only=True)\n",
    "        )\n",
    "        self.model = self.model.to(device)\n",
    "        self.model.eval()\n",
    "\n",
    "\n",
    "\"\"\"\n",
    "EDIT HERE\n",
    "\"\"\"\n",
    "gene_editing_dashboard_state = GeneEditingDashboardState(\n",
    "    wing=\"forewings\",\n",
    "    species=\"erato\",\n",
    "    color=\"color_3\",\n",
    "    chromosome=18,\n",
    "    exp_name=\"pca_10\",\n",
    "    config_path=Path(\"../configs/default.yaml\"),\n",
    ")"
   ]
  },
  {
   "cell_type": "code",
   "execution_count": null,
   "metadata": {},
   "outputs": [],
   "source": [
    "import math\n",
    "from copy import copy\n",
    "from collections import defaultdict\n",
    "\n",
    "from tqdm.auto import tqdm\n",
    "from ipywidgets import VBox\n",
    "import plotly.graph_objs as go\n",
    "import numpy as np\n",
    "from torch.utils.data import DataLoader\n",
    "\n",
    "\n",
    "def get_model_input(camid):\n",
    "    input_idx = np.where(gene_editing_dashboard_state.camids == camid)[0][0]\n",
    "    x = gene_editing_dashboard_state.data[input_idx]\n",
    "    x = torch.tensor(x).unsqueeze(0).unsqueeze(0).float().to(device)\n",
    "    return x\n",
    "\n",
    "\n",
    "def get_model_output(input_x):\n",
    "    with torch.no_grad():\n",
    "        return gene_editing_dashboard_state.model(input_x)\n",
    "\n",
    "\n",
    "def get_edited_input(batch, edit_loc, edit, ws):\n",
    "    input_x = batch.detach().clone()\n",
    "    match edit:\n",
    "        case \"AA\":\n",
    "            edit_vec = torch.tensor([0, 0, 1])\n",
    "        case \"Aa/aA\":\n",
    "            edit_vec = torch.tensor([0, 1, 0])\n",
    "        case \"aa\":\n",
    "            edit_vec = torch.tensor([1, 0, 0])\n",
    "        case \"zero-out\":\n",
    "            edit_vec = torch.tensor([0, 0, 0])\n",
    "        case _:\n",
    "            pass\n",
    "\n",
    "    if ws != 0:\n",
    "        min_idx = max(0, edit_loc - ws)\n",
    "        max_idx = min(input_x.shape[2], edit_loc + ws)\n",
    "        edit_vec = edit_vec.unsqueeze(0).repeat(max_idx - min_idx, 1)\n",
    "\n",
    "    if ws == 0:\n",
    "        input_x[:, 0, edit_loc] = edit_vec\n",
    "    else:\n",
    "        input_x[:, 0, min_idx:max_idx] = edit_vec\n",
    "\n",
    "    return input_x\n",
    "\n",
    "\n",
    "def get_gene_edit_attrs(ws=10_000, batch_size=16):\n",
    "    dataloader = DataLoader(\n",
    "        gene_editing_dashboard_state.data,\n",
    "        batch_size=batch_size,\n",
    "        num_workers=4,\n",
    "        shuffle=False,\n",
    "    )\n",
    "    edit_options = [\"AA\", \"Aa/aA\", \"aa\", \"zero-out\"]\n",
    "    change_tracker = defaultdict(lambda: defaultdict(list))\n",
    "    for batch in tqdm(\n",
    "        dataloader, desc=\"Collecting Batched Edits\", leave=True, position=1\n",
    "    ):\n",
    "        input_x = torch.tensor(batch).unsqueeze(1).float().to(device)\n",
    "        org_model_pca_output = get_model_output(input_x)\n",
    "\n",
    "        chromosome_length = input_x.shape[2]\n",
    "        num_of_edits = math.ceil(chromosome_length / (ws * 2))\n",
    "        for edit_num in tqdm(\n",
    "            range(num_of_edits),\n",
    "            desc=\"recording changes\",\n",
    "            colour=\"#8822CC\",\n",
    "            leave=False,\n",
    "            position=0,\n",
    "        ):\n",
    "            edit_loc = min((edit_num * ws * 2) + ws, chromosome_length)\n",
    "            for edit_value in edit_options:\n",
    "                edited_input_x = get_edited_input(input_x, edit_loc, edit_value, ws)\n",
    "                edited_model_pca_output = get_model_output(edited_input_x)\n",
    "                diff = (edited_model_pca_output - org_model_pca_output).detach().cpu()\n",
    "                l2_dist = np.sqrt((diff**2).sum(1).numpy())\n",
    "                change_tracker[edit_loc][edit_value].append(l2_dist)\n",
    "\n",
    "    return change_tracker\n",
    "\n",
    "\n",
    "def get_gene_edit_attrs_by_pca(ws=10_000, batch_size=16):\n",
    "    dataloader = DataLoader(\n",
    "        gene_editing_dashboard_state.data,\n",
    "        batch_size=batch_size,\n",
    "        num_workers=4,\n",
    "        shuffle=False,\n",
    "    )\n",
    "    edit_options = [\"AA\", \"Aa/aA\", \"aa\", \"zero-out\"]\n",
    "    change_tracker = defaultdict(lambda: defaultdict(list))\n",
    "    for batch in tqdm(\n",
    "        dataloader, desc=\"Collecting Batched Edits\", leave=True, position=1\n",
    "    ):\n",
    "        input_x = torch.tensor(batch).unsqueeze(1).float().to(device)\n",
    "        org_model_pca_output = get_model_output(input_x)\n",
    "\n",
    "        chromosome_length = input_x.shape[2]\n",
    "        num_of_edits = math.ceil(chromosome_length / (ws * 2))\n",
    "        for edit_num in tqdm(\n",
    "            range(num_of_edits),\n",
    "            desc=\"recording changes\",\n",
    "            colour=\"#8822CC\",\n",
    "            leave=False,\n",
    "            position=0,\n",
    "        ):\n",
    "            edit_loc = min((edit_num * ws * 2) + ws, chromosome_length)\n",
    "            for edit_value in edit_options:\n",
    "                edited_input_x = get_edited_input(input_x, edit_loc, edit_value, ws)\n",
    "                edited_model_pca_output = get_model_output(edited_input_x)\n",
    "                diff = (edited_model_pca_output - org_model_pca_output).detach().cpu()\n",
    "                l2_dist = diff.abs().numpy()\n",
    "                change_tracker[edit_loc][edit_value].append(l2_dist)\n",
    "\n",
    "    return change_tracker\n"
   ]
  },
  {
   "cell_type": "code",
   "execution_count": null,
   "metadata": {},
   "outputs": [
    {
     "data": {
      "application/vnd.jupyter.widget-view+json": {
       "model_id": "392473784921499d912c3e8a7f5e4181",
       "version_major": 2,
       "version_minor": 0
      },
      "text/plain": [
       "Collecting Batched Edits:   0%|          | 0/31 [00:00<?, ?it/s]"
      ]
     },
     "metadata": {},
     "output_type": "display_data"
    },
    {
     "name": "stderr",
     "output_type": "stream",
     "text": [
      "/home/carlyn.1/tmp/ipykernel_2051238/3007053191.py:63: UserWarning:\n",
      "\n",
      "To copy construct from a tensor, it is recommended to use sourceTensor.clone().detach() or sourceTensor.clone().detach().requires_grad_(True), rather than torch.tensor(sourceTensor).\n",
      "\n"
     ]
    },
    {
     "data": {
      "application/vnd.jupyter.widget-view+json": {
       "model_id": "ead0d559455e46d9b9d998b6ee5c52d3",
       "version_major": 2,
       "version_minor": 0
      },
      "text/plain": [
       "recording changes:   0%|          | 0/83 [00:00<?, ?it/s]"
      ]
     },
     "metadata": {},
     "output_type": "display_data"
    },
    {
     "data": {
      "application/vnd.jupyter.widget-view+json": {
       "model_id": "f6b1b0c4d3ad4cd88f3c11860ca52e3b",
       "version_major": 2,
       "version_minor": 0
      },
      "text/plain": [
       "recording changes:   0%|          | 0/83 [00:00<?, ?it/s]"
      ]
     },
     "metadata": {},
     "output_type": "display_data"
    },
    {
     "data": {
      "application/vnd.jupyter.widget-view+json": {
       "model_id": "74712d20cc4a448cb19cd446b4d64dc8",
       "version_major": 2,
       "version_minor": 0
      },
      "text/plain": [
       "recording changes:   0%|          | 0/83 [00:00<?, ?it/s]"
      ]
     },
     "metadata": {},
     "output_type": "display_data"
    },
    {
     "data": {
      "application/vnd.jupyter.widget-view+json": {
       "model_id": "785f470414c04311b841b72ccbf9e10a",
       "version_major": 2,
       "version_minor": 0
      },
      "text/plain": [
       "recording changes:   0%|          | 0/83 [00:00<?, ?it/s]"
      ]
     },
     "metadata": {},
     "output_type": "display_data"
    },
    {
     "data": {
      "application/vnd.jupyter.widget-view+json": {
       "model_id": "2fe270ee28ff4297a075f67e6ff67b26",
       "version_major": 2,
       "version_minor": 0
      },
      "text/plain": [
       "recording changes:   0%|          | 0/83 [00:00<?, ?it/s]"
      ]
     },
     "metadata": {},
     "output_type": "display_data"
    },
    {
     "data": {
      "application/vnd.jupyter.widget-view+json": {
       "model_id": "90eb1f485f7c475da8d5f1d5f387df4a",
       "version_major": 2,
       "version_minor": 0
      },
      "text/plain": [
       "recording changes:   0%|          | 0/83 [00:00<?, ?it/s]"
      ]
     },
     "metadata": {},
     "output_type": "display_data"
    },
    {
     "data": {
      "application/vnd.jupyter.widget-view+json": {
       "model_id": "450aa40cbf8c40f58e6a76a54c6bde29",
       "version_major": 2,
       "version_minor": 0
      },
      "text/plain": [
       "recording changes:   0%|          | 0/83 [00:00<?, ?it/s]"
      ]
     },
     "metadata": {},
     "output_type": "display_data"
    },
    {
     "data": {
      "application/vnd.jupyter.widget-view+json": {
       "model_id": "4a984c2783e84d5fa4ae441460872b9a",
       "version_major": 2,
       "version_minor": 0
      },
      "text/plain": [
       "recording changes:   0%|          | 0/83 [00:00<?, ?it/s]"
      ]
     },
     "metadata": {},
     "output_type": "display_data"
    },
    {
     "data": {
      "application/vnd.jupyter.widget-view+json": {
       "model_id": "de52946d1e424890a6feef5b6db3213a",
       "version_major": 2,
       "version_minor": 0
      },
      "text/plain": [
       "recording changes:   0%|          | 0/83 [00:00<?, ?it/s]"
      ]
     },
     "metadata": {},
     "output_type": "display_data"
    },
    {
     "data": {
      "application/vnd.jupyter.widget-view+json": {
       "model_id": "f5d4d36245c24c87956104b9d5779ef6",
       "version_major": 2,
       "version_minor": 0
      },
      "text/plain": [
       "recording changes:   0%|          | 0/83 [00:00<?, ?it/s]"
      ]
     },
     "metadata": {},
     "output_type": "display_data"
    },
    {
     "data": {
      "application/vnd.jupyter.widget-view+json": {
       "model_id": "3814a84347cf4e639261c9d2e6d3c685",
       "version_major": 2,
       "version_minor": 0
      },
      "text/plain": [
       "recording changes:   0%|          | 0/83 [00:00<?, ?it/s]"
      ]
     },
     "metadata": {},
     "output_type": "display_data"
    },
    {
     "data": {
      "application/vnd.jupyter.widget-view+json": {
       "model_id": "92f769b3de004b43ae365a38e475d447",
       "version_major": 2,
       "version_minor": 0
      },
      "text/plain": [
       "recording changes:   0%|          | 0/83 [00:00<?, ?it/s]"
      ]
     },
     "metadata": {},
     "output_type": "display_data"
    },
    {
     "data": {
      "application/vnd.jupyter.widget-view+json": {
       "model_id": "c95f01dd32d04bf8ad6876a895a9f950",
       "version_major": 2,
       "version_minor": 0
      },
      "text/plain": [
       "recording changes:   0%|          | 0/83 [00:00<?, ?it/s]"
      ]
     },
     "metadata": {},
     "output_type": "display_data"
    },
    {
     "data": {
      "application/vnd.jupyter.widget-view+json": {
       "model_id": "f5c413735e5546a9bfddb62ce7010383",
       "version_major": 2,
       "version_minor": 0
      },
      "text/plain": [
       "recording changes:   0%|          | 0/83 [00:00<?, ?it/s]"
      ]
     },
     "metadata": {},
     "output_type": "display_data"
    },
    {
     "data": {
      "application/vnd.jupyter.widget-view+json": {
       "model_id": "3d018b4805934890a0e19236b450cfae",
       "version_major": 2,
       "version_minor": 0
      },
      "text/plain": [
       "recording changes:   0%|          | 0/83 [00:00<?, ?it/s]"
      ]
     },
     "metadata": {},
     "output_type": "display_data"
    },
    {
     "data": {
      "application/vnd.jupyter.widget-view+json": {
       "model_id": "0204935b695f4edf964c236b7e2df8ca",
       "version_major": 2,
       "version_minor": 0
      },
      "text/plain": [
       "recording changes:   0%|          | 0/83 [00:00<?, ?it/s]"
      ]
     },
     "metadata": {},
     "output_type": "display_data"
    },
    {
     "data": {
      "application/vnd.jupyter.widget-view+json": {
       "model_id": "bdffdfe1fcce4911906cef5dd59a20cd",
       "version_major": 2,
       "version_minor": 0
      },
      "text/plain": [
       "recording changes:   0%|          | 0/83 [00:00<?, ?it/s]"
      ]
     },
     "metadata": {},
     "output_type": "display_data"
    },
    {
     "data": {
      "application/vnd.jupyter.widget-view+json": {
       "model_id": "f6324e956e24409aa8935c73e3135a72",
       "version_major": 2,
       "version_minor": 0
      },
      "text/plain": [
       "recording changes:   0%|          | 0/83 [00:00<?, ?it/s]"
      ]
     },
     "metadata": {},
     "output_type": "display_data"
    },
    {
     "data": {
      "application/vnd.jupyter.widget-view+json": {
       "model_id": "d31c0f7fb4514f44b9b691723c113496",
       "version_major": 2,
       "version_minor": 0
      },
      "text/plain": [
       "recording changes:   0%|          | 0/83 [00:00<?, ?it/s]"
      ]
     },
     "metadata": {},
     "output_type": "display_data"
    },
    {
     "data": {
      "application/vnd.jupyter.widget-view+json": {
       "model_id": "7de284b06eee4edc87b98824d862d6d9",
       "version_major": 2,
       "version_minor": 0
      },
      "text/plain": [
       "recording changes:   0%|          | 0/83 [00:00<?, ?it/s]"
      ]
     },
     "metadata": {},
     "output_type": "display_data"
    },
    {
     "data": {
      "application/vnd.jupyter.widget-view+json": {
       "model_id": "81a26128091843418e53e8ead850dd2b",
       "version_major": 2,
       "version_minor": 0
      },
      "text/plain": [
       "recording changes:   0%|          | 0/83 [00:00<?, ?it/s]"
      ]
     },
     "metadata": {},
     "output_type": "display_data"
    },
    {
     "data": {
      "application/vnd.jupyter.widget-view+json": {
       "model_id": "0799c1a268d74d7392784a5005df520b",
       "version_major": 2,
       "version_minor": 0
      },
      "text/plain": [
       "recording changes:   0%|          | 0/83 [00:00<?, ?it/s]"
      ]
     },
     "metadata": {},
     "output_type": "display_data"
    },
    {
     "data": {
      "application/vnd.jupyter.widget-view+json": {
       "model_id": "fc26eae809844b7f85ed2461145dba0c",
       "version_major": 2,
       "version_minor": 0
      },
      "text/plain": [
       "recording changes:   0%|          | 0/83 [00:00<?, ?it/s]"
      ]
     },
     "metadata": {},
     "output_type": "display_data"
    },
    {
     "data": {
      "application/vnd.jupyter.widget-view+json": {
       "model_id": "7fcf9f94fc544315bca91df3865e2103",
       "version_major": 2,
       "version_minor": 0
      },
      "text/plain": [
       "recording changes:   0%|          | 0/83 [00:00<?, ?it/s]"
      ]
     },
     "metadata": {},
     "output_type": "display_data"
    },
    {
     "data": {
      "application/vnd.jupyter.widget-view+json": {
       "model_id": "968ea9b0d7724ca6ba26a36dc0787885",
       "version_major": 2,
       "version_minor": 0
      },
      "text/plain": [
       "recording changes:   0%|          | 0/83 [00:00<?, ?it/s]"
      ]
     },
     "metadata": {},
     "output_type": "display_data"
    },
    {
     "data": {
      "application/vnd.jupyter.widget-view+json": {
       "model_id": "ebb37e37d4f94c6ea5ee8b79af596072",
       "version_major": 2,
       "version_minor": 0
      },
      "text/plain": [
       "recording changes:   0%|          | 0/83 [00:00<?, ?it/s]"
      ]
     },
     "metadata": {},
     "output_type": "display_data"
    },
    {
     "data": {
      "application/vnd.jupyter.widget-view+json": {
       "model_id": "c8ef042292fa422583254bbacdc33f27",
       "version_major": 2,
       "version_minor": 0
      },
      "text/plain": [
       "recording changes:   0%|          | 0/83 [00:00<?, ?it/s]"
      ]
     },
     "metadata": {},
     "output_type": "display_data"
    },
    {
     "data": {
      "application/vnd.jupyter.widget-view+json": {
       "model_id": "a7e71444721446f39bf103a5686afac5",
       "version_major": 2,
       "version_minor": 0
      },
      "text/plain": [
       "recording changes:   0%|          | 0/83 [00:00<?, ?it/s]"
      ]
     },
     "metadata": {},
     "output_type": "display_data"
    },
    {
     "data": {
      "application/vnd.jupyter.widget-view+json": {
       "model_id": "c01cc4237932430dbbdaabc94e79d456",
       "version_major": 2,
       "version_minor": 0
      },
      "text/plain": [
       "recording changes:   0%|          | 0/83 [00:00<?, ?it/s]"
      ]
     },
     "metadata": {},
     "output_type": "display_data"
    },
    {
     "data": {
      "application/vnd.jupyter.widget-view+json": {
       "model_id": "1a5fdf0d3aa240f4aaf520d122cfae2a",
       "version_major": 2,
       "version_minor": 0
      },
      "text/plain": [
       "recording changes:   0%|          | 0/83 [00:00<?, ?it/s]"
      ]
     },
     "metadata": {},
     "output_type": "display_data"
    },
    {
     "data": {
      "application/vnd.jupyter.widget-view+json": {
       "model_id": "c9580eddc85746b6a0293ab0b1750fbd",
       "version_major": 2,
       "version_minor": 0
      },
      "text/plain": [
       "recording changes:   0%|          | 0/83 [00:00<?, ?it/s]"
      ]
     },
     "metadata": {},
     "output_type": "display_data"
    },
    {
     "name": "stderr",
     "output_type": "stream",
     "text": [
      "Traceback (most recent call last):\n",
      "Traceback (most recent call last):\n",
      "Traceback (most recent call last):\n",
      "Traceback (most recent call last):\n",
      "  File \"/home/carlyn.1/miniconda3/envs/gtp/lib/python3.10/multiprocessing/util.py\", line 300, in _run_finalizers\n",
      "    finalizer()\n",
      "  File \"/home/carlyn.1/miniconda3/envs/gtp/lib/python3.10/multiprocessing/util.py\", line 300, in _run_finalizers\n",
      "    finalizer()\n",
      "  File \"/home/carlyn.1/miniconda3/envs/gtp/lib/python3.10/multiprocessing/util.py\", line 300, in _run_finalizers\n",
      "    finalizer()\n",
      "  File \"/home/carlyn.1/miniconda3/envs/gtp/lib/python3.10/multiprocessing/util.py\", line 224, in __call__\n",
      "    res = self._callback(*self._args, **self._kwargs)\n",
      "  File \"/home/carlyn.1/miniconda3/envs/gtp/lib/python3.10/multiprocessing/util.py\", line 300, in _run_finalizers\n",
      "    finalizer()\n",
      "  File \"/home/carlyn.1/miniconda3/envs/gtp/lib/python3.10/multiprocessing/util.py\", line 224, in __call__\n",
      "    res = self._callback(*self._args, **self._kwargs)\n",
      "  File \"/home/carlyn.1/miniconda3/envs/gtp/lib/python3.10/multiprocessing/util.py\", line 224, in __call__\n",
      "    res = self._callback(*self._args, **self._kwargs)\n",
      "  File \"/home/carlyn.1/miniconda3/envs/gtp/lib/python3.10/multiprocessing/util.py\", line 133, in _remove_temp_dir\n",
      "    rmtree(tempdir)\n",
      "  File \"/home/carlyn.1/miniconda3/envs/gtp/lib/python3.10/multiprocessing/util.py\", line 224, in __call__\n",
      "    res = self._callback(*self._args, **self._kwargs)\n",
      "  File \"/home/carlyn.1/miniconda3/envs/gtp/lib/python3.10/multiprocessing/util.py\", line 133, in _remove_temp_dir\n",
      "    rmtree(tempdir)\n",
      "  File \"/home/carlyn.1/miniconda3/envs/gtp/lib/python3.10/shutil.py\", line 725, in rmtree\n",
      "    _rmtree_safe_fd(fd, path, onerror)\n",
      "  File \"/home/carlyn.1/miniconda3/envs/gtp/lib/python3.10/multiprocessing/util.py\", line 133, in _remove_temp_dir\n",
      "    rmtree(tempdir)\n",
      "  File \"/home/carlyn.1/miniconda3/envs/gtp/lib/python3.10/shutil.py\", line 725, in rmtree\n",
      "    _rmtree_safe_fd(fd, path, onerror)\n",
      "  File \"/home/carlyn.1/miniconda3/envs/gtp/lib/python3.10/multiprocessing/util.py\", line 133, in _remove_temp_dir\n",
      "    rmtree(tempdir)\n",
      "  File \"/home/carlyn.1/miniconda3/envs/gtp/lib/python3.10/shutil.py\", line 681, in _rmtree_safe_fd\n",
      "    onerror(os.unlink, fullname, sys.exc_info())\n",
      "  File \"/home/carlyn.1/miniconda3/envs/gtp/lib/python3.10/shutil.py\", line 725, in rmtree\n",
      "    _rmtree_safe_fd(fd, path, onerror)\n",
      "  File \"/home/carlyn.1/miniconda3/envs/gtp/lib/python3.10/shutil.py\", line 681, in _rmtree_safe_fd\n",
      "    onerror(os.unlink, fullname, sys.exc_info())\n",
      "  File \"/home/carlyn.1/miniconda3/envs/gtp/lib/python3.10/shutil.py\", line 725, in rmtree\n",
      "    _rmtree_safe_fd(fd, path, onerror)\n",
      "  File \"/home/carlyn.1/miniconda3/envs/gtp/lib/python3.10/shutil.py\", line 679, in _rmtree_safe_fd\n",
      "    os.unlink(entry.name, dir_fd=topfd)\n",
      "  File \"/home/carlyn.1/miniconda3/envs/gtp/lib/python3.10/shutil.py\", line 681, in _rmtree_safe_fd\n",
      "    onerror(os.unlink, fullname, sys.exc_info())\n",
      "  File \"/home/carlyn.1/miniconda3/envs/gtp/lib/python3.10/shutil.py\", line 679, in _rmtree_safe_fd\n",
      "    os.unlink(entry.name, dir_fd=topfd)\n",
      "OSError: [Errno 16] Device or resource busy: '.nfs8043d48202f50424000485ec'\n",
      "  File \"/home/carlyn.1/miniconda3/envs/gtp/lib/python3.10/shutil.py\", line 679, in _rmtree_safe_fd\n",
      "    os.unlink(entry.name, dir_fd=topfd)\n",
      "  File \"/home/carlyn.1/miniconda3/envs/gtp/lib/python3.10/shutil.py\", line 681, in _rmtree_safe_fd\n",
      "    onerror(os.unlink, fullname, sys.exc_info())\n",
      "OSError: [Errno 16] Device or resource busy: '.nfs8043d48002ed2515000485ee'\n",
      "  File \"/home/carlyn.1/miniconda3/envs/gtp/lib/python3.10/shutil.py\", line 679, in _rmtree_safe_fd\n",
      "    os.unlink(entry.name, dir_fd=topfd)\n",
      "OSError: [Errno 16] Device or resource busy: '.nfs8043d4830046806e000485ed'\n",
      "OSError: [Errno 16] Device or resource busy: '.nfs8043d481029d1084000485eb'\n"
     ]
    }
   ],
   "source": [
    "# change_tracker = get_gene_edit_attrs(ws=10_000, batch_size=16)\n",
    "change_tracker = get_gene_edit_attrs_by_pca(ws=10_000, batch_size=16)"
   ]
  },
  {
   "cell_type": "code",
   "execution_count": 43,
   "metadata": {},
   "outputs": [
    {
     "name": "stdout",
     "output_type": "stream",
     "text": [
      "rgba(245,138,66,0.2)\n",
      "rgba(66,245,102,0.2)\n",
      "rgba(47,74,196,0.2)\n",
      "rgba(189,32,131,0.2)\n"
     ]
    },
    {
     "data": {
      "application/vnd.plotly.v1+json": {
       "config": {
        "plotlyServerURL": "https://plot.ly"
       },
       "data": [
        {
         "fill": "toself",
         "fillcolor": "rgba(245,138,66,0.2)",
         "hoverinfo": "skip",
         "line": {
          "color": "rgba(255, 255, 255, 0)"
         },
         "name": "AA",
         "showlegend": false,
         "type": "scatter",
         "x": [
          10000,
          30000,
          50000,
          70000,
          90000,
          110000,
          130000,
          150000,
          170000,
          190000,
          210000,
          230000,
          250000,
          270000,
          290000,
          310000,
          330000,
          350000,
          370000,
          390000,
          410000,
          430000,
          450000,
          470000,
          490000,
          510000,
          530000,
          550000,
          570000,
          590000,
          610000,
          630000,
          650000,
          670000,
          690000,
          710000,
          730000,
          750000,
          770000,
          790000,
          810000,
          830000,
          850000,
          870000,
          890000,
          910000,
          930000,
          950000,
          970000,
          990000,
          1010000,
          1030000,
          1050000,
          1070000,
          1090000,
          1110000,
          1130000,
          1150000,
          1170000,
          1190000,
          1210000,
          1230000,
          1250000,
          1270000,
          1290000,
          1310000,
          1330000,
          1350000,
          1370000,
          1390000,
          1410000,
          1430000,
          1450000,
          1470000,
          1490000,
          1510000,
          1530000,
          1550000,
          1570000,
          1590000,
          1610000,
          1630000,
          1646818,
          1646818,
          1630000,
          1610000,
          1590000,
          1570000,
          1550000,
          1530000,
          1510000,
          1490000,
          1470000,
          1450000,
          1430000,
          1410000,
          1390000,
          1370000,
          1350000,
          1330000,
          1310000,
          1290000,
          1270000,
          1250000,
          1230000,
          1210000,
          1190000,
          1170000,
          1150000,
          1130000,
          1110000,
          1090000,
          1070000,
          1050000,
          1030000,
          1010000,
          990000,
          970000,
          950000,
          930000,
          910000,
          890000,
          870000,
          850000,
          830000,
          810000,
          790000,
          770000,
          750000,
          730000,
          710000,
          690000,
          670000,
          650000,
          630000,
          610000,
          590000,
          570000,
          550000,
          530000,
          510000,
          490000,
          470000,
          450000,
          430000,
          410000,
          390000,
          370000,
          350000,
          330000,
          310000,
          290000,
          270000,
          250000,
          230000,
          210000,
          190000,
          170000,
          150000,
          130000,
          110000,
          90000,
          70000,
          50000,
          30000,
          10000
         ],
         "y": [
          0.9015628099441528,
          1.3268365859985352,
          1.6144542694091797,
          2.444115161895752,
          5.711043834686279,
          6.753732681274414,
          1.397637963294983,
          0.8110761046409607,
          0.8181408047676086,
          0.7411303520202637,
          0.7154073715209961,
          0.6406335830688477,
          0.8124485015869141,
          0.9521260261535645,
          0.656977653503418,
          0.71146160364151,
          1.0066657066345215,
          1.143688440322876,
          0.8399341702461243,
          1.4186495542526245,
          0.7738138437271118,
          0.7643024921417236,
          0.6757955551147461,
          0.673864483833313,
          0.9911456108093262,
          0.844584584236145,
          0.6831395030021667,
          0.7787750363349915,
          0.7277160882949829,
          0.6754489541053772,
          0.7077590823173523,
          0.8079081177711487,
          0.6469874978065491,
          0.8446933627128601,
          0.7093409299850464,
          0.824700117111206,
          0.8335021734237671,
          0.6615389585494995,
          0.7128995060920715,
          0.6791102290153503,
          0.9143192172050476,
          0.723969042301178,
          0.7828198671340942,
          0.7510448098182678,
          0.8063911199569702,
          0.7739490270614624,
          0.6311407089233398,
          0.6656516790390015,
          0.7435185313224792,
          0.77409827709198,
          0.7010108828544617,
          0.8447535634040833,
          0.7338607907295227,
          0.962121307849884,
          0.8568296432495117,
          0.7607156038284302,
          0.8061046004295349,
          0.7531867623329163,
          0.726241409778595,
          0.7190332412719727,
          0.7427946329116821,
          0.7677873373031616,
          0.846311628818512,
          0.6295313835144043,
          0.7467339038848877,
          0.8407566547393799,
          0.6818777322769165,
          0.7250279784202576,
          0.9049807786941528,
          0.8331211805343628,
          0.7299793362617493,
          0.7584744095802307,
          0.8377561569213867,
          0.6941267251968384,
          0.7389445304870605,
          0.7890310883522034,
          0.9112077951431274,
          0.7862778902053833,
          0.8520642518997192,
          0.8888779878616333,
          0.9558432102203369,
          0.9446794390678406,
          0.6318985819816589,
          0.3804677128791809,
          0.5842799544334412,
          0.3196508586406708,
          0.47844207286834717,
          0.48171043395996094,
          0.42976057529449463,
          0.567164421081543,
          0.4465598464012146,
          0.49506688117980957,
          0.4370485246181488,
          0.5491307973861694,
          0.5177571177482605,
          0.47545164823532104,
          0.5375305414199829,
          0.6132255792617798,
          0.468423068523407,
          0.4483189582824707,
          0.5697637796401978,
          0.45821788907051086,
          0.33656662702560425,
          0.46857744455337524,
          0.40303662419319153,
          0.4313172399997711,
          0.42856261134147644,
          0.3819581866264343,
          0.45873361825942993,
          0.5184128880500793,
          0.45528388023376465,
          0.5523676872253418,
          0.5083423256874084,
          0.3391038775444031,
          0.4792056679725647,
          0.4212607741355896,
          0.5225702524185181,
          0.47634822130203247,
          0.37764379382133484,
          0.3483745753765106,
          0.4005798399448395,
          0.516260027885437,
          0.41655856370925903,
          0.4127521216869354,
          0.3555681109428406,
          0.4295669198036194,
          0.4331117272377014,
          0.4834440052509308,
          0.3660794496536255,
          0.38279733061790466,
          0.43609580397605896,
          0.33464857935905457,
          0.43636006116867065,
          0.3819405436515808,
          0.48753923177719116,
          0.46376970410346985,
          0.4476633667945862,
          0.4634592533111572,
          0.4932261109352112,
          0.4161667227745056,
          0.4439696967601776,
          0.4716263711452484,
          0.35833775997161865,
          0.421117901802063,
          0.5349148511886597,
          0.4641648232936859,
          0.8442195653915405,
          0.4962577223777771,
          0.7187526822090149,
          0.43891552090644836,
          0.3438393473625183,
          0.32396313548088074,
          0.5363682508468628,
          0.4010104835033417,
          0.27853626012802124,
          0.37358784675598145,
          0.39775028824806213,
          0.5270761847496033,
          0.5396763682365417,
          0.6531096696853638,
          5.326313018798828,
          4.156334400177002,
          1.2868967056274414,
          0.7749966979026794,
          0.7589516043663025,
          0.5052671432495117
         ]
        },
        {
         "line": {
          "color": "rgb(245,138,66)",
          "width": 2.5
         },
         "mode": "lines",
         "name": "AA",
         "type": "scatter",
         "x": [
          10000,
          30000,
          50000,
          70000,
          90000,
          110000,
          130000,
          150000,
          170000,
          190000,
          210000,
          230000,
          250000,
          270000,
          290000,
          310000,
          330000,
          350000,
          370000,
          390000,
          410000,
          430000,
          450000,
          470000,
          490000,
          510000,
          530000,
          550000,
          570000,
          590000,
          610000,
          630000,
          650000,
          670000,
          690000,
          710000,
          730000,
          750000,
          770000,
          790000,
          810000,
          830000,
          850000,
          870000,
          890000,
          910000,
          930000,
          950000,
          970000,
          990000,
          1010000,
          1030000,
          1050000,
          1070000,
          1090000,
          1110000,
          1130000,
          1150000,
          1170000,
          1190000,
          1210000,
          1230000,
          1250000,
          1270000,
          1290000,
          1310000,
          1330000,
          1350000,
          1370000,
          1390000,
          1410000,
          1430000,
          1450000,
          1470000,
          1490000,
          1510000,
          1530000,
          1550000,
          1570000,
          1590000,
          1610000,
          1630000,
          1646818
         ],
         "y": [
          0.7034149765968323,
          1.0428941249847412,
          1.194725513458252,
          1.8655059337615967,
          4.933689117431641,
          6.040022850036621,
          1.0253738164901733,
          0.6753762364387512,
          0.672608494758606,
          0.5694403052330017,
          0.5444976091384888,
          0.45958492159843445,
          0.6067295074462891,
          0.7442471385002136,
          0.49047040939331055,
          0.5276504755020142,
          0.7227905988693237,
          0.931220531463623,
          0.6680959463119507,
          1.1314345598220825,
          0.6189893484115601,
          0.6496086716651917,
          0.5484567284584045,
          0.5161011219024658,
          0.7313860058784485,
          0.6442771553993225,
          0.5496531128883362,
          0.6360005736351013,
          0.5955876708030701,
          0.5615561604499817,
          0.5857644081115723,
          0.6477236747741699,
          0.5144640207290649,
          0.6405267119407654,
          0.5219947695732117,
          0.6303979754447937,
          0.6081497669219971,
          0.5138092041015625,
          0.5981717705726624,
          0.5561109781265259,
          0.6719430685043335,
          0.5397685766220093,
          0.597786009311676,
          0.5838016867637634,
          0.6613255739212036,
          0.5872644186019897,
          0.4897576570510864,
          0.5216477513313293,
          0.6099333763122559,
          0.648334264755249,
          0.5611358284950256,
          0.661979615688324,
          0.5364823341369629,
          0.7352318167686462,
          0.7045986652374268,
          0.6079997420310974,
          0.6622587442398071,
          0.6059601902961731,
          0.5540997982025146,
          0.5737979412078857,
          0.5870559215545654,
          0.5854119658470154,
          0.6574445366859436,
          0.4830490052700043,
          0.6024758815765381,
          0.7052602171897888,
          0.5650983452796936,
          0.5967255234718323,
          0.7591031789779663,
          0.6853258609771729,
          0.6027154922485352,
          0.6381157636642456,
          0.6934434771537781,
          0.5655876398086548,
          0.6170057058334351,
          0.617795467376709,
          0.7391861081123352,
          0.608019232749939,
          0.6668873429298401,
          0.6836600303649902,
          0.637747049331665,
          0.7644796967506409,
          0.5061831474304199
         ]
        },
        {
         "fill": "toself",
         "fillcolor": "rgba(66,245,102,0.2)",
         "hoverinfo": "skip",
         "line": {
          "color": "rgba(255, 255, 255, 0)"
         },
         "name": "Aa/aA",
         "showlegend": false,
         "type": "scatter",
         "x": [
          10000,
          30000,
          50000,
          70000,
          90000,
          110000,
          130000,
          150000,
          170000,
          190000,
          210000,
          230000,
          250000,
          270000,
          290000,
          310000,
          330000,
          350000,
          370000,
          390000,
          410000,
          430000,
          450000,
          470000,
          490000,
          510000,
          530000,
          550000,
          570000,
          590000,
          610000,
          630000,
          650000,
          670000,
          690000,
          710000,
          730000,
          750000,
          770000,
          790000,
          810000,
          830000,
          850000,
          870000,
          890000,
          910000,
          930000,
          950000,
          970000,
          990000,
          1010000,
          1030000,
          1050000,
          1070000,
          1090000,
          1110000,
          1130000,
          1150000,
          1170000,
          1190000,
          1210000,
          1230000,
          1250000,
          1270000,
          1290000,
          1310000,
          1330000,
          1350000,
          1370000,
          1390000,
          1410000,
          1430000,
          1450000,
          1470000,
          1490000,
          1510000,
          1530000,
          1550000,
          1570000,
          1590000,
          1610000,
          1630000,
          1646818,
          1646818,
          1630000,
          1610000,
          1590000,
          1570000,
          1550000,
          1530000,
          1510000,
          1490000,
          1470000,
          1450000,
          1430000,
          1410000,
          1390000,
          1370000,
          1350000,
          1330000,
          1310000,
          1290000,
          1270000,
          1250000,
          1230000,
          1210000,
          1190000,
          1170000,
          1150000,
          1130000,
          1110000,
          1090000,
          1070000,
          1050000,
          1030000,
          1010000,
          990000,
          970000,
          950000,
          930000,
          910000,
          890000,
          870000,
          850000,
          830000,
          810000,
          790000,
          770000,
          750000,
          730000,
          710000,
          690000,
          670000,
          650000,
          630000,
          610000,
          590000,
          570000,
          550000,
          530000,
          510000,
          490000,
          470000,
          450000,
          430000,
          410000,
          390000,
          370000,
          350000,
          330000,
          310000,
          290000,
          270000,
          250000,
          230000,
          210000,
          190000,
          170000,
          150000,
          130000,
          110000,
          90000,
          70000,
          50000,
          30000,
          10000
         ],
         "y": [
          1.3896102905273438,
          1.5400080680847168,
          2.057796001434326,
          3.3011465072631836,
          6.239336013793945,
          7.128857135772705,
          1.5048153400421143,
          0.9576848149299622,
          0.8805442452430725,
          1.2396719455718994,
          1.0986559391021729,
          0.9323165416717529,
          1.0818345546722412,
          1.159926176071167,
          1.0949931144714355,
          1.2165888547897339,
          1.1002418994903564,
          1.2408511638641357,
          1.0245394706726074,
          1.550752878189087,
          0.7512184977531433,
          0.8927667737007141,
          0.8797202110290527,
          0.8117378950119019,
          1.1364223957061768,
          0.9110870361328125,
          0.7640318870544434,
          0.8028882741928101,
          0.8479903936386108,
          0.8051879405975342,
          0.7697856426239014,
          1.3935797214508057,
          0.8153917789459229,
          1.2557129859924316,
          1.1579779386520386,
          0.9928248524665833,
          1.2470886707305908,
          0.8161250948905945,
          0.6856889724731445,
          0.7286701798439026,
          1.1211895942687988,
          0.8520177006721497,
          1.1281147003173828,
          0.6952400803565979,
          0.9844847917556763,
          0.9017417430877686,
          0.8946442008018494,
          0.8357201814651489,
          0.7806248664855957,
          0.7857430577278137,
          0.7034334540367126,
          0.8471798896789551,
          0.945870041847229,
          0.9798270463943481,
          0.9233435988426208,
          0.8300480842590332,
          0.785162091255188,
          0.9399969577789307,
          0.8677063584327698,
          0.809775710105896,
          0.7981477975845337,
          0.7802197933197021,
          0.8726332187652588,
          0.9637448191642761,
          0.7028617262840271,
          1.0972622632980347,
          0.8183829188346863,
          1.0328247547149658,
          1.14430570602417,
          0.8084917664527893,
          0.6963825225830078,
          0.6871329545974731,
          1.0054833889007568,
          0.7278637886047363,
          0.8110002279281616,
          0.7873556017875671,
          0.8184051513671875,
          1.0470998287200928,
          1.3430001735687256,
          0.84694504737854,
          0.9528310894966125,
          0.9088826179504395,
          0.832185685634613,
          0.5490705370903015,
          0.5339559316635132,
          0.5756654143333435,
          0.5992696285247803,
          0.9600350856781006,
          0.7847492694854736,
          0.5048452615737915,
          0.4737721085548401,
          0.5186877250671387,
          0.4305323362350464,
          0.5523408055305481,
          0.4376639127731323,
          0.4416661262512207,
          0.5616552233695984,
          0.7370816469192505,
          0.6317660808563232,
          0.5540576577186584,
          0.7051339149475098,
          0.4144330620765686,
          0.632326066493988,
          0.43460559844970703,
          0.37572869658470154,
          0.44665324687957764,
          0.4694962501525879,
          0.5351361632347107,
          0.6076927185058594,
          0.49180078506469727,
          0.5058550834655762,
          0.5695248246192932,
          0.44765082001686096,
          0.570775032043457,
          0.5544736385345459,
          0.4567931592464447,
          0.4651363492012024,
          0.48193565011024475,
          0.5544382333755493,
          0.6098005175590515,
          0.6450086832046509,
          0.6858739852905273,
          0.41444700956344604,
          0.8229525685310364,
          0.5611423850059509,
          0.8303335905075073,
          0.4272165894508362,
          0.42466476559638977,
          0.5622419714927673,
          0.8231000900268555,
          0.6187687516212463,
          0.8320133090019226,
          0.8838767409324646,
          0.5559455156326294,
          1.019625186920166,
          0.43052950501441956,
          0.48177850246429443,
          0.574988842010498,
          0.5218745470046997,
          0.47497430443763733,
          0.5820294618606567,
          0.48470786213874817,
          0.48997941613197327,
          0.6070345640182495,
          0.6214084029197693,
          0.45348435640335083,
          0.5218034386634827,
          0.6372122764587402,
          0.5128290057182312,
          0.6461528539657593,
          0.8366929292678833,
          0.7705821990966797,
          0.5139415860176086,
          0.727866530418396,
          0.6589376926422119,
          0.7829775214195251,
          0.8787205219268799,
          0.5850035548210144,
          0.6611583828926086,
          0.7285473942756653,
          3.4415392875671387,
          2.016606569290161,
          0.70848548412323,
          0.5407086610794067,
          0.6183856129646301,
          0.9980438351631165
         ]
        },
        {
         "line": {
          "color": "rgb(66,245,102)",
          "width": 2.5
         },
         "mode": "lines",
         "name": "Aa/aA",
         "type": "scatter",
         "x": [
          10000,
          30000,
          50000,
          70000,
          90000,
          110000,
          130000,
          150000,
          170000,
          190000,
          210000,
          230000,
          250000,
          270000,
          290000,
          310000,
          330000,
          350000,
          370000,
          390000,
          410000,
          430000,
          450000,
          470000,
          490000,
          510000,
          530000,
          550000,
          570000,
          590000,
          610000,
          630000,
          650000,
          670000,
          690000,
          710000,
          730000,
          750000,
          770000,
          790000,
          810000,
          830000,
          850000,
          870000,
          890000,
          910000,
          930000,
          950000,
          970000,
          990000,
          1010000,
          1030000,
          1050000,
          1070000,
          1090000,
          1110000,
          1130000,
          1150000,
          1170000,
          1190000,
          1210000,
          1230000,
          1250000,
          1270000,
          1290000,
          1310000,
          1330000,
          1350000,
          1370000,
          1390000,
          1410000,
          1430000,
          1450000,
          1470000,
          1490000,
          1510000,
          1530000,
          1550000,
          1570000,
          1590000,
          1610000,
          1630000,
          1646818
         ],
         "y": [
          1.1938270330429077,
          1.079196810722351,
          1.2992523908615112,
          2.0048160552978516,
          4.127971172332764,
          5.285198211669922,
          1.1166813373565674,
          0.8094215989112854,
          0.7327739000320435,
          1.0591962337493896,
          0.9408167004585266,
          0.7956271171569824,
          0.9048505425453186,
          0.8369339108467102,
          0.9327876567840576,
          1.0266408920288086,
          0.8731973767280579,
          0.8768400549888611,
          0.8308758735656738,
          1.0362781286239624,
          0.6023514270782471,
          0.7570875883102417,
          0.7433773875236511,
          0.6508586406707764,
          0.8105651140213013,
          0.7465582489967346,
          0.6195030808448792,
          0.6623814105987549,
          0.7114896178245544,
          0.6434832215309143,
          0.6001575589179993,
          1.2066024541854858,
          0.6856686472892761,
          1.0697948932647705,
          0.9949955940246582,
          0.8057968020439148,
          1.0350943803787231,
          0.6891835331916809,
          0.555176854133606,
          0.5779433846473694,
          0.9757615923881531,
          0.7065800428390503,
          0.975533664226532,
          0.554843544960022,
          0.8351793885231018,
          0.7733752131462097,
          0.7522223591804504,
          0.6950792074203491,
          0.631280243396759,
          0.6254397034645081,
          0.5801132917404175,
          0.7008267641067505,
          0.758322536945343,
          0.7137389183044434,
          0.746434211730957,
          0.6679515838623047,
          0.6384814381599426,
          0.773844838142395,
          0.7014212608337402,
          0.6396359801292419,
          0.6224005222320557,
          0.577974259853363,
          0.6536194086074829,
          0.7980354428291321,
          0.5586473941802979,
          0.9011980891227722,
          0.6862202882766724,
          0.8322954177856445,
          0.9406936764717102,
          0.6850734949111938,
          0.5690243244171143,
          0.5623984336853027,
          0.7789121270179749,
          0.5791980624198914,
          0.6648439764976501,
          0.6305638551712036,
          0.6616252064704895,
          0.9159245491027832,
          1.151517629623413,
          0.7231073379516602,
          0.764248251914978,
          0.7214192748069763,
          0.6906281113624573
         ]
        },
        {
         "fill": "toself",
         "fillcolor": "rgba(47,74,196,0.2)",
         "hoverinfo": "skip",
         "line": {
          "color": "rgba(255, 255, 255, 0)"
         },
         "name": "aa",
         "showlegend": false,
         "type": "scatter",
         "x": [
          10000,
          30000,
          50000,
          70000,
          90000,
          110000,
          130000,
          150000,
          170000,
          190000,
          210000,
          230000,
          250000,
          270000,
          290000,
          310000,
          330000,
          350000,
          370000,
          390000,
          410000,
          430000,
          450000,
          470000,
          490000,
          510000,
          530000,
          550000,
          570000,
          590000,
          610000,
          630000,
          650000,
          670000,
          690000,
          710000,
          730000,
          750000,
          770000,
          790000,
          810000,
          830000,
          850000,
          870000,
          890000,
          910000,
          930000,
          950000,
          970000,
          990000,
          1010000,
          1030000,
          1050000,
          1070000,
          1090000,
          1110000,
          1130000,
          1150000,
          1170000,
          1190000,
          1210000,
          1230000,
          1250000,
          1270000,
          1290000,
          1310000,
          1330000,
          1350000,
          1370000,
          1390000,
          1410000,
          1430000,
          1450000,
          1470000,
          1490000,
          1510000,
          1530000,
          1550000,
          1570000,
          1590000,
          1610000,
          1630000,
          1646818,
          1646818,
          1630000,
          1610000,
          1590000,
          1570000,
          1550000,
          1530000,
          1510000,
          1490000,
          1470000,
          1450000,
          1430000,
          1410000,
          1390000,
          1370000,
          1350000,
          1330000,
          1310000,
          1290000,
          1270000,
          1250000,
          1230000,
          1210000,
          1190000,
          1170000,
          1150000,
          1130000,
          1110000,
          1090000,
          1070000,
          1050000,
          1030000,
          1010000,
          990000,
          970000,
          950000,
          930000,
          910000,
          890000,
          870000,
          850000,
          830000,
          810000,
          790000,
          770000,
          750000,
          730000,
          710000,
          690000,
          670000,
          650000,
          630000,
          610000,
          590000,
          570000,
          550000,
          530000,
          510000,
          490000,
          470000,
          450000,
          430000,
          410000,
          390000,
          370000,
          350000,
          330000,
          310000,
          290000,
          270000,
          250000,
          230000,
          210000,
          190000,
          170000,
          150000,
          130000,
          110000,
          90000,
          70000,
          50000,
          30000,
          10000
         ],
         "y": [
          0.7742863297462463,
          1.157178521156311,
          1.5456616878509521,
          2.16864013671875,
          4.501866340637207,
          5.572055816650391,
          1.3197766542434692,
          0.6467530727386475,
          0.6203795671463013,
          0.6102328896522522,
          0.5808117389678955,
          0.5690561532974243,
          0.6785361170768738,
          0.8336766362190247,
          0.6174899935722351,
          0.6350948214530945,
          0.8918728828430176,
          0.9775159955024719,
          0.7159533500671387,
          1.2187399864196777,
          0.6235880851745605,
          0.519129753112793,
          0.5871199369430542,
          0.6329910159111023,
          0.9807103872299194,
          0.8134538531303406,
          0.6119510531425476,
          0.6290902495384216,
          0.5361319184303284,
          0.5081833600997925,
          0.5576215982437134,
          0.6536802053451538,
          0.5697054862976074,
          0.7079459428787231,
          0.6042370796203613,
          0.7329076528549194,
          0.6804507970809937,
          0.5695752501487732,
          0.5483869314193726,
          0.5163568258285522,
          0.7351132035255432,
          0.6243827939033508,
          0.6471954584121704,
          0.6141923666000366,
          0.6242120265960693,
          0.6196209192276001,
          0.5732720494270325,
          0.5797653198242188,
          0.6086400747299194,
          0.5347217917442322,
          0.602916419506073,
          0.6488805413246155,
          0.7284010052680969,
          0.7831631302833557,
          0.6876081824302673,
          0.6920360922813416,
          0.6812081933021545,
          0.6329063773155212,
          0.7029112577438354,
          0.6431534886360168,
          0.6624367237091064,
          0.6781318783760071,
          0.71835857629776,
          0.5912615060806274,
          0.6352756023406982,
          0.6463780403137207,
          0.573535144329071,
          0.5798938274383545,
          0.6741312742233276,
          0.6033579111099243,
          0.5515384078025818,
          0.5621642470359802,
          0.6476565599441528,
          0.5801341533660889,
          0.575494647026062,
          0.6671138405799866,
          0.5851002931594849,
          0.5866096019744873,
          0.6229332685470581,
          0.5912162065505981,
          0.8478879928588867,
          0.7143167853355408,
          0.5299612283706665,
          0.2346729338169098,
          0.31899791955947876,
          0.26707831025123596,
          0.2519380450248718,
          0.22065630555152893,
          0.21545326709747314,
          0.2715859115123749,
          0.3256731629371643,
          0.301315575838089,
          0.26782575249671936,
          0.2932596802711487,
          0.3026500344276428,
          0.23262733221054077,
          0.2972007989883423,
          0.36125171184539795,
          0.3131442964076996,
          0.29296088218688965,
          0.333741694688797,
          0.2346329540014267,
          0.2547001838684082,
          0.2882954478263855,
          0.26640427112579346,
          0.3274379074573517,
          0.2921629548072815,
          0.30769702792167664,
          0.2809116840362549,
          0.34598416090011597,
          0.3531849980354309,
          0.36198633909225464,
          0.35238200426101685,
          0.2744562029838562,
          0.2587631940841675,
          0.2953934073448181,
          0.26532942056655884,
          0.286733478307724,
          0.26588308811187744,
          0.27099287509918213,
          0.25072795152664185,
          0.3066057562828064,
          0.24070866405963898,
          0.21871283650398254,
          0.22468705475330353,
          0.21268928050994873,
          0.26122093200683594,
          0.26287537813186646,
          0.2472401112318039,
          0.17728987336158752,
          0.29347240924835205,
          0.1827198565006256,
          0.16311898827552795,
          0.2794509530067444,
          0.2927201986312866,
          0.2727890610694885,
          0.25525158643722534,
          0.23298250138759613,
          0.2835649251937866,
          0.2741292119026184,
          0.297720730304718,
          0.3794182240962982,
          0.25529754161834717,
          0.3060774803161621,
          0.24774852395057678,
          0.2722202241420746,
          0.561849057674408,
          0.29131197929382324,
          0.3837612271308899,
          0.21700528264045715,
          0.18902206420898438,
          0.24800466001033783,
          0.3462236523628235,
          0.19666071236133575,
          0.2099412977695465,
          0.21820947527885437,
          0.20864015817642212,
          0.272100031375885,
          0.25127503275871277,
          0.3649902045726776,
          3.865633010864258,
          2.7397806644439697,
          0.7362499237060547,
          0.4858205318450928,
          0.3739931285381317,
          0.3774188160896301
         ]
        },
        {
         "line": {
          "color": "rgb(47,74,196)",
          "width": 2.5
         },
         "mode": "lines",
         "name": "aa",
         "type": "scatter",
         "x": [
          10000,
          30000,
          50000,
          70000,
          90000,
          110000,
          130000,
          150000,
          170000,
          190000,
          210000,
          230000,
          250000,
          270000,
          290000,
          310000,
          330000,
          350000,
          370000,
          390000,
          410000,
          430000,
          450000,
          470000,
          490000,
          510000,
          530000,
          550000,
          570000,
          590000,
          610000,
          630000,
          650000,
          670000,
          690000,
          710000,
          730000,
          750000,
          770000,
          790000,
          810000,
          830000,
          850000,
          870000,
          890000,
          910000,
          930000,
          950000,
          970000,
          990000,
          1010000,
          1030000,
          1050000,
          1070000,
          1090000,
          1110000,
          1130000,
          1150000,
          1170000,
          1190000,
          1210000,
          1230000,
          1250000,
          1270000,
          1290000,
          1310000,
          1330000,
          1350000,
          1370000,
          1390000,
          1410000,
          1430000,
          1450000,
          1470000,
          1490000,
          1510000,
          1530000,
          1550000,
          1570000,
          1590000,
          1610000,
          1630000,
          1646818
         ],
         "y": [
          0.5758525729179382,
          0.7655858397483826,
          1.0157411098480225,
          1.4524450302124023,
          3.620823383331299,
          4.718844413757324,
          0.8423834443092346,
          0.4490140676498413,
          0.44623979926109314,
          0.40943652391433716,
          0.39951059222221375,
          0.3894987106323242,
          0.43759840726852417,
          0.5899501442909241,
          0.43274733424186707,
          0.41205844283103943,
          0.5544390678405762,
          0.6806386113166809,
          0.503632664680481,
          0.8902944922447205,
          0.44790413975715637,
          0.3834391236305237,
          0.44659870862960815,
          0.44414427876472473,
          0.68006432056427,
          0.5555872917175293,
          0.443040132522583,
          0.4563275873661041,
          0.38455721735954285,
          0.3817174732685089,
          0.41520532965660095,
          0.4732002019882202,
          0.4245782196521759,
          0.43553245067596436,
          0.3934784531593323,
          0.5131900310516357,
          0.4288703203201294,
          0.40840768814086914,
          0.4056311547756195,
          0.3887888789176941,
          0.47390124201774597,
          0.4245349168777466,
          0.43295416235923767,
          0.4274505078792572,
          0.46540889143943787,
          0.43517443537712097,
          0.4221324622631073,
          0.4228242039680481,
          0.4476867914199829,
          0.4000256061553955,
          0.44915491342544556,
          0.4538218677043915,
          0.5014286041259766,
          0.5677725672721863,
          0.524797260761261,
          0.5226105451583862,
          0.5135961771011353,
          0.45690903067588806,
          0.5053041577339172,
          0.46765822172164917,
          0.49493733048439026,
          0.47226807475090027,
          0.5033270120620728,
          0.4229808449745178,
          0.43495428562164307,
          0.49005988240242004,
          0.43324801325798035,
          0.44651904702186584,
          0.5176914930343628,
          0.4502793550491333,
          0.3920828700065613,
          0.4324071407318115,
          0.47045812010765076,
          0.4239799678325653,
          0.4384050965309143,
          0.49639350175857544,
          0.42834311723709106,
          0.4010314345359802,
          0.4217948019504547,
          0.421577125787735,
          0.5574831366539001,
          0.5166573524475098,
          0.38231706619262695
         ]
        },
        {
         "fill": "toself",
         "fillcolor": "rgba(189,32,131,0.2)",
         "hoverinfo": "skip",
         "line": {
          "color": "rgba(255, 255, 255, 0)"
         },
         "name": "zero-out",
         "showlegend": false,
         "type": "scatter",
         "x": [
          10000,
          30000,
          50000,
          70000,
          90000,
          110000,
          130000,
          150000,
          170000,
          190000,
          210000,
          230000,
          250000,
          270000,
          290000,
          310000,
          330000,
          350000,
          370000,
          390000,
          410000,
          430000,
          450000,
          470000,
          490000,
          510000,
          530000,
          550000,
          570000,
          590000,
          610000,
          630000,
          650000,
          670000,
          690000,
          710000,
          730000,
          750000,
          770000,
          790000,
          810000,
          830000,
          850000,
          870000,
          890000,
          910000,
          930000,
          950000,
          970000,
          990000,
          1010000,
          1030000,
          1050000,
          1070000,
          1090000,
          1110000,
          1130000,
          1150000,
          1170000,
          1190000,
          1210000,
          1230000,
          1250000,
          1270000,
          1290000,
          1310000,
          1330000,
          1350000,
          1370000,
          1390000,
          1410000,
          1430000,
          1450000,
          1470000,
          1490000,
          1510000,
          1530000,
          1550000,
          1570000,
          1590000,
          1610000,
          1630000,
          1646818,
          1646818,
          1630000,
          1610000,
          1590000,
          1570000,
          1550000,
          1530000,
          1510000,
          1490000,
          1470000,
          1450000,
          1430000,
          1410000,
          1390000,
          1370000,
          1350000,
          1330000,
          1310000,
          1290000,
          1270000,
          1250000,
          1230000,
          1210000,
          1190000,
          1170000,
          1150000,
          1130000,
          1110000,
          1090000,
          1070000,
          1050000,
          1030000,
          1010000,
          990000,
          970000,
          950000,
          930000,
          910000,
          890000,
          870000,
          850000,
          830000,
          810000,
          790000,
          770000,
          750000,
          730000,
          710000,
          690000,
          670000,
          650000,
          630000,
          610000,
          590000,
          570000,
          550000,
          530000,
          510000,
          490000,
          470000,
          450000,
          430000,
          410000,
          390000,
          370000,
          350000,
          330000,
          310000,
          290000,
          270000,
          250000,
          230000,
          210000,
          190000,
          170000,
          150000,
          130000,
          110000,
          90000,
          70000,
          50000,
          30000,
          10000
         ],
         "y": [
          0.9006720781326294,
          1.2864832878112793,
          1.6303004026412964,
          2.2633132934570312,
          4.185129165649414,
          5.3658976554870605,
          1.3296247720718384,
          0.6962881088256836,
          0.7381991744041443,
          0.6876897215843201,
          0.5929567813873291,
          0.6751747131347656,
          0.7196426391601562,
          1.0621135234832764,
          0.6861745715141296,
          0.6641064286231995,
          0.9078295230865479,
          1.061281442642212,
          0.7333589196205139,
          1.2287330627441406,
          0.7428925037384033,
          0.6963369846343994,
          0.7014180421829224,
          0.732401430606842,
          1.1093063354492188,
          0.8387470245361328,
          0.6577658653259277,
          0.6569628715515137,
          0.7616040706634521,
          0.6961839199066162,
          0.6501646637916565,
          0.8273254036903381,
          0.7793282270431519,
          0.7953758239746094,
          0.6727246046066284,
          0.7796849012374878,
          0.7195925712585449,
          0.6114034652709961,
          0.5810437202453613,
          0.6212718486785889,
          0.8335834741592407,
          0.7350592613220215,
          0.7713221907615662,
          0.6456621289253235,
          0.7238098382949829,
          0.7087942361831665,
          0.5916562080383301,
          0.5790542960166931,
          0.7030038833618164,
          0.688930869102478,
          0.6417083740234375,
          0.7026102542877197,
          0.750112771987915,
          0.8170872330665588,
          0.6697260141372681,
          0.6848435997962952,
          0.7134749889373779,
          0.6783982515335083,
          0.7541148066520691,
          0.7594730257987976,
          0.7742108702659607,
          0.7805224657058716,
          0.731640100479126,
          0.6131619215011597,
          0.6551318168640137,
          0.7544023394584656,
          0.6103570461273193,
          0.76875239610672,
          0.7301837205886841,
          0.6091206073760986,
          0.6702656745910645,
          0.5740141272544861,
          0.744880199432373,
          0.6739043593406677,
          0.676008939743042,
          0.783134937286377,
          0.6790814995765686,
          0.6901814937591553,
          0.6464465260505676,
          0.6628537178039551,
          0.8566553592681885,
          0.7308008074760437,
          0.5811412334442139,
          0.26546037197113037,
          0.3693036437034607,
          0.34078872203826904,
          0.3183557987213135,
          0.36405426263809204,
          0.3860754668712616,
          0.3588685393333435,
          0.4142203629016876,
          0.385095477104187,
          0.3593917489051819,
          0.30752280354499817,
          0.3177030086517334,
          0.37484192848205566,
          0.3266245424747467,
          0.4354080259799957,
          0.40631014108657837,
          0.3427465856075287,
          0.43203312158584595,
          0.2833593487739563,
          0.2951163053512573,
          0.2710469961166382,
          0.38029858469963074,
          0.4015708565711975,
          0.3808961510658264,
          0.37484031915664673,
          0.38110947608947754,
          0.3966050148010254,
          0.3673068881034851,
          0.325969934463501,
          0.3124927878379822,
          0.34811922907829285,
          0.3470919132232666,
          0.36011290550231934,
          0.39817067980766296,
          0.3786260187625885,
          0.29191887378692627,
          0.32579323649406433,
          0.37273308634757996,
          0.373038649559021,
          0.31808632612228394,
          0.3843105435371399,
          0.3404935598373413,
          0.353742390871048,
          0.32611218094825745,
          0.29059091210365295,
          0.3260071873664856,
          0.32775771617889404,
          0.35529837012290955,
          0.3448601961135864,
          0.3532518148422241,
          0.4283648729324341,
          0.5372841954231262,
          0.3073222041130066,
          0.4023662805557251,
          0.4481867551803589,
          0.35252845287323,
          0.34193772077560425,
          0.372810959815979,
          0.4543553292751312,
          0.3792174458503723,
          0.4317457377910614,
          0.4074209928512573,
          0.3675166666507721,
          0.47901076078414917,
          0.3195921778678894,
          0.3813912272453308,
          0.3038882315158844,
          0.3142988085746765,
          0.3734515309333801,
          0.43408799171447754,
          0.330981969833374,
          0.33179008960723877,
          0.31040170788764954,
          0.36444252729415894,
          0.3892971873283386,
          0.33462485671043396,
          0.2934767007827759,
          2.801640033721924,
          1.3437376022338867,
          0.32382404804229736,
          0.34518539905548096,
          0.350541889667511,
          0.4830336570739746
         ]
        },
        {
         "line": {
          "color": "rgb(189,32,131)",
          "width": 2.5
         },
         "mode": "lines",
         "name": "zero-out",
         "type": "scatter",
         "x": [
          10000,
          30000,
          50000,
          70000,
          90000,
          110000,
          130000,
          150000,
          170000,
          190000,
          210000,
          230000,
          250000,
          270000,
          290000,
          310000,
          330000,
          350000,
          370000,
          390000,
          410000,
          430000,
          450000,
          470000,
          490000,
          510000,
          530000,
          550000,
          570000,
          590000,
          610000,
          630000,
          650000,
          670000,
          690000,
          710000,
          730000,
          750000,
          770000,
          790000,
          810000,
          830000,
          850000,
          870000,
          890000,
          910000,
          930000,
          950000,
          970000,
          990000,
          1010000,
          1030000,
          1050000,
          1070000,
          1090000,
          1110000,
          1130000,
          1150000,
          1170000,
          1190000,
          1210000,
          1230000,
          1250000,
          1270000,
          1290000,
          1310000,
          1330000,
          1350000,
          1370000,
          1390000,
          1410000,
          1430000,
          1450000,
          1470000,
          1490000,
          1510000,
          1530000,
          1550000,
          1570000,
          1590000,
          1610000,
          1630000,
          1646818
         ],
         "y": [
          0.691852867603302,
          0.8185125589370728,
          0.9877429008483887,
          1.2935686111450195,
          2.7644333839416504,
          4.083768844604492,
          0.8115507364273071,
          0.51545649766922,
          0.5637481808662415,
          0.5260661244392395,
          0.4516792297363281,
          0.5034824013710022,
          0.5253123044967651,
          0.748100757598877,
          0.5298130512237549,
          0.489202618598938,
          0.6058588624000549,
          0.7213363647460938,
          0.5264755487442017,
          0.8538719415664673,
          0.5552045702934265,
          0.5518789887428284,
          0.5665819048881531,
          0.5558094382286072,
          0.7818308472633362,
          0.6057789921760559,
          0.499851793050766,
          0.5047456622123718,
          0.6048954129219055,
          0.5492751002311707,
          0.47874343395233154,
          0.6823047995567322,
          0.603846549987793,
          0.5743138194084167,
          0.5087924003601074,
          0.5674916505813599,
          0.5236751437187195,
          0.46870532631874084,
          0.43581733107566833,
          0.47369199991226196,
          0.5936629176139832,
          0.5377764105796814,
          0.577816367149353,
          0.4818742275238037,
          0.548424243927002,
          0.5407636761665344,
          0.4587247371673584,
          0.4354865849018097,
          0.5408149361610413,
          0.5435507893562317,
          0.5009106397628784,
          0.5248510837554932,
          0.5491160154342651,
          0.5647900104522705,
          0.4978479743003845,
          0.5260752439498901,
          0.5550400018692017,
          0.5297538638114929,
          0.5644775629043579,
          0.570184588432312,
          0.5878908634185791,
          0.5804105401039124,
          0.5013435482978821,
          0.4541391134262085,
          0.469245582818985,
          0.5932177305221558,
          0.4765518307685852,
          0.5875312685966492,
          0.5827958583831787,
          0.4678725600242615,
          0.5225538015365601,
          0.44585856795310974,
          0.5262014865875244,
          0.5166480541229248,
          0.5305522084236145,
          0.5986776351928711,
          0.518975019454956,
          0.5381284952163696,
          0.5052503943443298,
          0.4906047582626343,
          0.5987220406532288,
          0.5500522255897522,
          0.4233008027076721
         ]
        }
       ],
       "layout": {
        "template": {
         "data": {
          "bar": [
           {
            "error_x": {
             "color": "#2a3f5f"
            },
            "error_y": {
             "color": "#2a3f5f"
            },
            "marker": {
             "line": {
              "color": "#E5ECF6",
              "width": 0.5
             },
             "pattern": {
              "fillmode": "overlay",
              "size": 10,
              "solidity": 0.2
             }
            },
            "type": "bar"
           }
          ],
          "barpolar": [
           {
            "marker": {
             "line": {
              "color": "#E5ECF6",
              "width": 0.5
             },
             "pattern": {
              "fillmode": "overlay",
              "size": 10,
              "solidity": 0.2
             }
            },
            "type": "barpolar"
           }
          ],
          "carpet": [
           {
            "aaxis": {
             "endlinecolor": "#2a3f5f",
             "gridcolor": "white",
             "linecolor": "white",
             "minorgridcolor": "white",
             "startlinecolor": "#2a3f5f"
            },
            "baxis": {
             "endlinecolor": "#2a3f5f",
             "gridcolor": "white",
             "linecolor": "white",
             "minorgridcolor": "white",
             "startlinecolor": "#2a3f5f"
            },
            "type": "carpet"
           }
          ],
          "choropleth": [
           {
            "colorbar": {
             "outlinewidth": 0,
             "ticks": ""
            },
            "type": "choropleth"
           }
          ],
          "contour": [
           {
            "colorbar": {
             "outlinewidth": 0,
             "ticks": ""
            },
            "colorscale": [
             [
              0,
              "#0d0887"
             ],
             [
              0.1111111111111111,
              "#46039f"
             ],
             [
              0.2222222222222222,
              "#7201a8"
             ],
             [
              0.3333333333333333,
              "#9c179e"
             ],
             [
              0.4444444444444444,
              "#bd3786"
             ],
             [
              0.5555555555555556,
              "#d8576b"
             ],
             [
              0.6666666666666666,
              "#ed7953"
             ],
             [
              0.7777777777777778,
              "#fb9f3a"
             ],
             [
              0.8888888888888888,
              "#fdca26"
             ],
             [
              1,
              "#f0f921"
             ]
            ],
            "type": "contour"
           }
          ],
          "contourcarpet": [
           {
            "colorbar": {
             "outlinewidth": 0,
             "ticks": ""
            },
            "type": "contourcarpet"
           }
          ],
          "heatmap": [
           {
            "colorbar": {
             "outlinewidth": 0,
             "ticks": ""
            },
            "colorscale": [
             [
              0,
              "#0d0887"
             ],
             [
              0.1111111111111111,
              "#46039f"
             ],
             [
              0.2222222222222222,
              "#7201a8"
             ],
             [
              0.3333333333333333,
              "#9c179e"
             ],
             [
              0.4444444444444444,
              "#bd3786"
             ],
             [
              0.5555555555555556,
              "#d8576b"
             ],
             [
              0.6666666666666666,
              "#ed7953"
             ],
             [
              0.7777777777777778,
              "#fb9f3a"
             ],
             [
              0.8888888888888888,
              "#fdca26"
             ],
             [
              1,
              "#f0f921"
             ]
            ],
            "type": "heatmap"
           }
          ],
          "heatmapgl": [
           {
            "colorbar": {
             "outlinewidth": 0,
             "ticks": ""
            },
            "colorscale": [
             [
              0,
              "#0d0887"
             ],
             [
              0.1111111111111111,
              "#46039f"
             ],
             [
              0.2222222222222222,
              "#7201a8"
             ],
             [
              0.3333333333333333,
              "#9c179e"
             ],
             [
              0.4444444444444444,
              "#bd3786"
             ],
             [
              0.5555555555555556,
              "#d8576b"
             ],
             [
              0.6666666666666666,
              "#ed7953"
             ],
             [
              0.7777777777777778,
              "#fb9f3a"
             ],
             [
              0.8888888888888888,
              "#fdca26"
             ],
             [
              1,
              "#f0f921"
             ]
            ],
            "type": "heatmapgl"
           }
          ],
          "histogram": [
           {
            "marker": {
             "pattern": {
              "fillmode": "overlay",
              "size": 10,
              "solidity": 0.2
             }
            },
            "type": "histogram"
           }
          ],
          "histogram2d": [
           {
            "colorbar": {
             "outlinewidth": 0,
             "ticks": ""
            },
            "colorscale": [
             [
              0,
              "#0d0887"
             ],
             [
              0.1111111111111111,
              "#46039f"
             ],
             [
              0.2222222222222222,
              "#7201a8"
             ],
             [
              0.3333333333333333,
              "#9c179e"
             ],
             [
              0.4444444444444444,
              "#bd3786"
             ],
             [
              0.5555555555555556,
              "#d8576b"
             ],
             [
              0.6666666666666666,
              "#ed7953"
             ],
             [
              0.7777777777777778,
              "#fb9f3a"
             ],
             [
              0.8888888888888888,
              "#fdca26"
             ],
             [
              1,
              "#f0f921"
             ]
            ],
            "type": "histogram2d"
           }
          ],
          "histogram2dcontour": [
           {
            "colorbar": {
             "outlinewidth": 0,
             "ticks": ""
            },
            "colorscale": [
             [
              0,
              "#0d0887"
             ],
             [
              0.1111111111111111,
              "#46039f"
             ],
             [
              0.2222222222222222,
              "#7201a8"
             ],
             [
              0.3333333333333333,
              "#9c179e"
             ],
             [
              0.4444444444444444,
              "#bd3786"
             ],
             [
              0.5555555555555556,
              "#d8576b"
             ],
             [
              0.6666666666666666,
              "#ed7953"
             ],
             [
              0.7777777777777778,
              "#fb9f3a"
             ],
             [
              0.8888888888888888,
              "#fdca26"
             ],
             [
              1,
              "#f0f921"
             ]
            ],
            "type": "histogram2dcontour"
           }
          ],
          "mesh3d": [
           {
            "colorbar": {
             "outlinewidth": 0,
             "ticks": ""
            },
            "type": "mesh3d"
           }
          ],
          "parcoords": [
           {
            "line": {
             "colorbar": {
              "outlinewidth": 0,
              "ticks": ""
             }
            },
            "type": "parcoords"
           }
          ],
          "pie": [
           {
            "automargin": true,
            "type": "pie"
           }
          ],
          "scatter": [
           {
            "fillpattern": {
             "fillmode": "overlay",
             "size": 10,
             "solidity": 0.2
            },
            "type": "scatter"
           }
          ],
          "scatter3d": [
           {
            "line": {
             "colorbar": {
              "outlinewidth": 0,
              "ticks": ""
             }
            },
            "marker": {
             "colorbar": {
              "outlinewidth": 0,
              "ticks": ""
             }
            },
            "type": "scatter3d"
           }
          ],
          "scattercarpet": [
           {
            "marker": {
             "colorbar": {
              "outlinewidth": 0,
              "ticks": ""
             }
            },
            "type": "scattercarpet"
           }
          ],
          "scattergeo": [
           {
            "marker": {
             "colorbar": {
              "outlinewidth": 0,
              "ticks": ""
             }
            },
            "type": "scattergeo"
           }
          ],
          "scattergl": [
           {
            "marker": {
             "colorbar": {
              "outlinewidth": 0,
              "ticks": ""
             }
            },
            "type": "scattergl"
           }
          ],
          "scattermapbox": [
           {
            "marker": {
             "colorbar": {
              "outlinewidth": 0,
              "ticks": ""
             }
            },
            "type": "scattermapbox"
           }
          ],
          "scatterpolar": [
           {
            "marker": {
             "colorbar": {
              "outlinewidth": 0,
              "ticks": ""
             }
            },
            "type": "scatterpolar"
           }
          ],
          "scatterpolargl": [
           {
            "marker": {
             "colorbar": {
              "outlinewidth": 0,
              "ticks": ""
             }
            },
            "type": "scatterpolargl"
           }
          ],
          "scatterternary": [
           {
            "marker": {
             "colorbar": {
              "outlinewidth": 0,
              "ticks": ""
             }
            },
            "type": "scatterternary"
           }
          ],
          "surface": [
           {
            "colorbar": {
             "outlinewidth": 0,
             "ticks": ""
            },
            "colorscale": [
             [
              0,
              "#0d0887"
             ],
             [
              0.1111111111111111,
              "#46039f"
             ],
             [
              0.2222222222222222,
              "#7201a8"
             ],
             [
              0.3333333333333333,
              "#9c179e"
             ],
             [
              0.4444444444444444,
              "#bd3786"
             ],
             [
              0.5555555555555556,
              "#d8576b"
             ],
             [
              0.6666666666666666,
              "#ed7953"
             ],
             [
              0.7777777777777778,
              "#fb9f3a"
             ],
             [
              0.8888888888888888,
              "#fdca26"
             ],
             [
              1,
              "#f0f921"
             ]
            ],
            "type": "surface"
           }
          ],
          "table": [
           {
            "cells": {
             "fill": {
              "color": "#EBF0F8"
             },
             "line": {
              "color": "white"
             }
            },
            "header": {
             "fill": {
              "color": "#C8D4E3"
             },
             "line": {
              "color": "white"
             }
            },
            "type": "table"
           }
          ]
         },
         "layout": {
          "annotationdefaults": {
           "arrowcolor": "#2a3f5f",
           "arrowhead": 0,
           "arrowwidth": 1
          },
          "autotypenumbers": "strict",
          "coloraxis": {
           "colorbar": {
            "outlinewidth": 0,
            "ticks": ""
           }
          },
          "colorscale": {
           "diverging": [
            [
             0,
             "#8e0152"
            ],
            [
             0.1,
             "#c51b7d"
            ],
            [
             0.2,
             "#de77ae"
            ],
            [
             0.3,
             "#f1b6da"
            ],
            [
             0.4,
             "#fde0ef"
            ],
            [
             0.5,
             "#f7f7f7"
            ],
            [
             0.6,
             "#e6f5d0"
            ],
            [
             0.7,
             "#b8e186"
            ],
            [
             0.8,
             "#7fbc41"
            ],
            [
             0.9,
             "#4d9221"
            ],
            [
             1,
             "#276419"
            ]
           ],
           "sequential": [
            [
             0,
             "#0d0887"
            ],
            [
             0.1111111111111111,
             "#46039f"
            ],
            [
             0.2222222222222222,
             "#7201a8"
            ],
            [
             0.3333333333333333,
             "#9c179e"
            ],
            [
             0.4444444444444444,
             "#bd3786"
            ],
            [
             0.5555555555555556,
             "#d8576b"
            ],
            [
             0.6666666666666666,
             "#ed7953"
            ],
            [
             0.7777777777777778,
             "#fb9f3a"
            ],
            [
             0.8888888888888888,
             "#fdca26"
            ],
            [
             1,
             "#f0f921"
            ]
           ],
           "sequentialminus": [
            [
             0,
             "#0d0887"
            ],
            [
             0.1111111111111111,
             "#46039f"
            ],
            [
             0.2222222222222222,
             "#7201a8"
            ],
            [
             0.3333333333333333,
             "#9c179e"
            ],
            [
             0.4444444444444444,
             "#bd3786"
            ],
            [
             0.5555555555555556,
             "#d8576b"
            ],
            [
             0.6666666666666666,
             "#ed7953"
            ],
            [
             0.7777777777777778,
             "#fb9f3a"
            ],
            [
             0.8888888888888888,
             "#fdca26"
            ],
            [
             1,
             "#f0f921"
            ]
           ]
          },
          "colorway": [
           "#636efa",
           "#EF553B",
           "#00cc96",
           "#ab63fa",
           "#FFA15A",
           "#19d3f3",
           "#FF6692",
           "#B6E880",
           "#FF97FF",
           "#FECB52"
          ],
          "font": {
           "color": "#2a3f5f"
          },
          "geo": {
           "bgcolor": "white",
           "lakecolor": "white",
           "landcolor": "#E5ECF6",
           "showlakes": true,
           "showland": true,
           "subunitcolor": "white"
          },
          "hoverlabel": {
           "align": "left"
          },
          "hovermode": "closest",
          "mapbox": {
           "style": "light"
          },
          "paper_bgcolor": "white",
          "plot_bgcolor": "#E5ECF6",
          "polar": {
           "angularaxis": {
            "gridcolor": "white",
            "linecolor": "white",
            "ticks": ""
           },
           "bgcolor": "#E5ECF6",
           "radialaxis": {
            "gridcolor": "white",
            "linecolor": "white",
            "ticks": ""
           }
          },
          "scene": {
           "xaxis": {
            "backgroundcolor": "#E5ECF6",
            "gridcolor": "white",
            "gridwidth": 2,
            "linecolor": "white",
            "showbackground": true,
            "ticks": "",
            "zerolinecolor": "white"
           },
           "yaxis": {
            "backgroundcolor": "#E5ECF6",
            "gridcolor": "white",
            "gridwidth": 2,
            "linecolor": "white",
            "showbackground": true,
            "ticks": "",
            "zerolinecolor": "white"
           },
           "zaxis": {
            "backgroundcolor": "#E5ECF6",
            "gridcolor": "white",
            "gridwidth": 2,
            "linecolor": "white",
            "showbackground": true,
            "ticks": "",
            "zerolinecolor": "white"
           }
          },
          "shapedefaults": {
           "line": {
            "color": "#2a3f5f"
           }
          },
          "ternary": {
           "aaxis": {
            "gridcolor": "white",
            "linecolor": "white",
            "ticks": ""
           },
           "baxis": {
            "gridcolor": "white",
            "linecolor": "white",
            "ticks": ""
           },
           "bgcolor": "#E5ECF6",
           "caxis": {
            "gridcolor": "white",
            "linecolor": "white",
            "ticks": ""
           }
          },
          "title": {
           "x": 0.05
          },
          "xaxis": {
           "automargin": true,
           "gridcolor": "white",
           "linecolor": "white",
           "ticks": "",
           "title": {
            "standoff": 15
           },
           "zerolinecolor": "white",
           "zerolinewidth": 2
          },
          "yaxis": {
           "automargin": true,
           "gridcolor": "white",
           "linecolor": "white",
           "ticks": "",
           "title": {
            "standoff": 15
           },
           "zerolinecolor": "white",
           "zerolinewidth": 2
          }
         }
        }
       }
      },
      "text/html": [
       "<div>                            <div id=\"a345deac-f248-482a-a84d-be85f8c40832\" class=\"plotly-graph-div\" style=\"height:525px; width:100%;\"></div>            <script type=\"text/javascript\">                require([\"plotly\"], function(Plotly) {                    window.PLOTLYENV=window.PLOTLYENV || {};                                    if (document.getElementById(\"a345deac-f248-482a-a84d-be85f8c40832\")) {                    Plotly.newPlot(                        \"a345deac-f248-482a-a84d-be85f8c40832\",                        [{\"fill\":\"toself\",\"fillcolor\":\"rgba(245,138,66,0.2)\",\"hoverinfo\":\"skip\",\"line\":{\"color\":\"rgba(255, 255, 255, 0)\"},\"name\":\"AA\",\"showlegend\":false,\"x\":[10000,30000,50000,70000,90000,110000,130000,150000,170000,190000,210000,230000,250000,270000,290000,310000,330000,350000,370000,390000,410000,430000,450000,470000,490000,510000,530000,550000,570000,590000,610000,630000,650000,670000,690000,710000,730000,750000,770000,790000,810000,830000,850000,870000,890000,910000,930000,950000,970000,990000,1010000,1030000,1050000,1070000,1090000,1110000,1130000,1150000,1170000,1190000,1210000,1230000,1250000,1270000,1290000,1310000,1330000,1350000,1370000,1390000,1410000,1430000,1450000,1470000,1490000,1510000,1530000,1550000,1570000,1590000,1610000,1630000,1646818,1646818,1630000,1610000,1590000,1570000,1550000,1530000,1510000,1490000,1470000,1450000,1430000,1410000,1390000,1370000,1350000,1330000,1310000,1290000,1270000,1250000,1230000,1210000,1190000,1170000,1150000,1130000,1110000,1090000,1070000,1050000,1030000,1010000,990000,970000,950000,930000,910000,890000,870000,850000,830000,810000,790000,770000,750000,730000,710000,690000,670000,650000,630000,610000,590000,570000,550000,530000,510000,490000,470000,450000,430000,410000,390000,370000,350000,330000,310000,290000,270000,250000,230000,210000,190000,170000,150000,130000,110000,90000,70000,50000,30000,10000],\"y\":[0.9015628099441528,1.3268365859985352,1.6144542694091797,2.444115161895752,5.711043834686279,6.753732681274414,1.397637963294983,0.8110761046409607,0.8181408047676086,0.7411303520202637,0.7154073715209961,0.6406335830688477,0.8124485015869141,0.9521260261535645,0.656977653503418,0.71146160364151,1.0066657066345215,1.143688440322876,0.8399341702461243,1.4186495542526245,0.7738138437271118,0.7643024921417236,0.6757955551147461,0.673864483833313,0.9911456108093262,0.844584584236145,0.6831395030021667,0.7787750363349915,0.7277160882949829,0.6754489541053772,0.7077590823173523,0.8079081177711487,0.6469874978065491,0.8446933627128601,0.7093409299850464,0.824700117111206,0.8335021734237671,0.6615389585494995,0.7128995060920715,0.6791102290153503,0.9143192172050476,0.723969042301178,0.7828198671340942,0.7510448098182678,0.8063911199569702,0.7739490270614624,0.6311407089233398,0.6656516790390015,0.7435185313224792,0.77409827709198,0.7010108828544617,0.8447535634040833,0.7338607907295227,0.962121307849884,0.8568296432495117,0.7607156038284302,0.8061046004295349,0.7531867623329163,0.726241409778595,0.7190332412719727,0.7427946329116821,0.7677873373031616,0.846311628818512,0.6295313835144043,0.7467339038848877,0.8407566547393799,0.6818777322769165,0.7250279784202576,0.9049807786941528,0.8331211805343628,0.7299793362617493,0.7584744095802307,0.8377561569213867,0.6941267251968384,0.7389445304870605,0.7890310883522034,0.9112077951431274,0.7862778902053833,0.8520642518997192,0.8888779878616333,0.9558432102203369,0.9446794390678406,0.6318985819816589,0.3804677128791809,0.5842799544334412,0.3196508586406708,0.47844207286834717,0.48171043395996094,0.42976057529449463,0.567164421081543,0.4465598464012146,0.49506688117980957,0.4370485246181488,0.5491307973861694,0.5177571177482605,0.47545164823532104,0.5375305414199829,0.6132255792617798,0.468423068523407,0.4483189582824707,0.5697637796401978,0.45821788907051086,0.33656662702560425,0.46857744455337524,0.40303662419319153,0.4313172399997711,0.42856261134147644,0.3819581866264343,0.45873361825942993,0.5184128880500793,0.45528388023376465,0.5523676872253418,0.5083423256874084,0.3391038775444031,0.4792056679725647,0.4212607741355896,0.5225702524185181,0.47634822130203247,0.37764379382133484,0.3483745753765106,0.4005798399448395,0.516260027885437,0.41655856370925903,0.4127521216869354,0.3555681109428406,0.4295669198036194,0.4331117272377014,0.4834440052509308,0.3660794496536255,0.38279733061790466,0.43609580397605896,0.33464857935905457,0.43636006116867065,0.3819405436515808,0.48753923177719116,0.46376970410346985,0.4476633667945862,0.4634592533111572,0.4932261109352112,0.4161667227745056,0.4439696967601776,0.4716263711452484,0.35833775997161865,0.421117901802063,0.5349148511886597,0.4641648232936859,0.8442195653915405,0.4962577223777771,0.7187526822090149,0.43891552090644836,0.3438393473625183,0.32396313548088074,0.5363682508468628,0.4010104835033417,0.27853626012802124,0.37358784675598145,0.39775028824806213,0.5270761847496033,0.5396763682365417,0.6531096696853638,5.326313018798828,4.156334400177002,1.2868967056274414,0.7749966979026794,0.7589516043663025,0.5052671432495117],\"type\":\"scatter\"},{\"line\":{\"color\":\"rgb(245,138,66)\",\"width\":2.5},\"mode\":\"lines\",\"name\":\"AA\",\"x\":[10000,30000,50000,70000,90000,110000,130000,150000,170000,190000,210000,230000,250000,270000,290000,310000,330000,350000,370000,390000,410000,430000,450000,470000,490000,510000,530000,550000,570000,590000,610000,630000,650000,670000,690000,710000,730000,750000,770000,790000,810000,830000,850000,870000,890000,910000,930000,950000,970000,990000,1010000,1030000,1050000,1070000,1090000,1110000,1130000,1150000,1170000,1190000,1210000,1230000,1250000,1270000,1290000,1310000,1330000,1350000,1370000,1390000,1410000,1430000,1450000,1470000,1490000,1510000,1530000,1550000,1570000,1590000,1610000,1630000,1646818],\"y\":[0.7034149765968323,1.0428941249847412,1.194725513458252,1.8655059337615967,4.933689117431641,6.040022850036621,1.0253738164901733,0.6753762364387512,0.672608494758606,0.5694403052330017,0.5444976091384888,0.45958492159843445,0.6067295074462891,0.7442471385002136,0.49047040939331055,0.5276504755020142,0.7227905988693237,0.931220531463623,0.6680959463119507,1.1314345598220825,0.6189893484115601,0.6496086716651917,0.5484567284584045,0.5161011219024658,0.7313860058784485,0.6442771553993225,0.5496531128883362,0.6360005736351013,0.5955876708030701,0.5615561604499817,0.5857644081115723,0.6477236747741699,0.5144640207290649,0.6405267119407654,0.5219947695732117,0.6303979754447937,0.6081497669219971,0.5138092041015625,0.5981717705726624,0.5561109781265259,0.6719430685043335,0.5397685766220093,0.597786009311676,0.5838016867637634,0.6613255739212036,0.5872644186019897,0.4897576570510864,0.5216477513313293,0.6099333763122559,0.648334264755249,0.5611358284950256,0.661979615688324,0.5364823341369629,0.7352318167686462,0.7045986652374268,0.6079997420310974,0.6622587442398071,0.6059601902961731,0.5540997982025146,0.5737979412078857,0.5870559215545654,0.5854119658470154,0.6574445366859436,0.4830490052700043,0.6024758815765381,0.7052602171897888,0.5650983452796936,0.5967255234718323,0.7591031789779663,0.6853258609771729,0.6027154922485352,0.6381157636642456,0.6934434771537781,0.5655876398086548,0.6170057058334351,0.617795467376709,0.7391861081123352,0.608019232749939,0.6668873429298401,0.6836600303649902,0.637747049331665,0.7644796967506409,0.5061831474304199],\"type\":\"scatter\"},{\"fill\":\"toself\",\"fillcolor\":\"rgba(66,245,102,0.2)\",\"hoverinfo\":\"skip\",\"line\":{\"color\":\"rgba(255, 255, 255, 0)\"},\"name\":\"Aa\\u002faA\",\"showlegend\":false,\"x\":[10000,30000,50000,70000,90000,110000,130000,150000,170000,190000,210000,230000,250000,270000,290000,310000,330000,350000,370000,390000,410000,430000,450000,470000,490000,510000,530000,550000,570000,590000,610000,630000,650000,670000,690000,710000,730000,750000,770000,790000,810000,830000,850000,870000,890000,910000,930000,950000,970000,990000,1010000,1030000,1050000,1070000,1090000,1110000,1130000,1150000,1170000,1190000,1210000,1230000,1250000,1270000,1290000,1310000,1330000,1350000,1370000,1390000,1410000,1430000,1450000,1470000,1490000,1510000,1530000,1550000,1570000,1590000,1610000,1630000,1646818,1646818,1630000,1610000,1590000,1570000,1550000,1530000,1510000,1490000,1470000,1450000,1430000,1410000,1390000,1370000,1350000,1330000,1310000,1290000,1270000,1250000,1230000,1210000,1190000,1170000,1150000,1130000,1110000,1090000,1070000,1050000,1030000,1010000,990000,970000,950000,930000,910000,890000,870000,850000,830000,810000,790000,770000,750000,730000,710000,690000,670000,650000,630000,610000,590000,570000,550000,530000,510000,490000,470000,450000,430000,410000,390000,370000,350000,330000,310000,290000,270000,250000,230000,210000,190000,170000,150000,130000,110000,90000,70000,50000,30000,10000],\"y\":[1.3896102905273438,1.5400080680847168,2.057796001434326,3.3011465072631836,6.239336013793945,7.128857135772705,1.5048153400421143,0.9576848149299622,0.8805442452430725,1.2396719455718994,1.0986559391021729,0.9323165416717529,1.0818345546722412,1.159926176071167,1.0949931144714355,1.2165888547897339,1.1002418994903564,1.2408511638641357,1.0245394706726074,1.550752878189087,0.7512184977531433,0.8927667737007141,0.8797202110290527,0.8117378950119019,1.1364223957061768,0.9110870361328125,0.7640318870544434,0.8028882741928101,0.8479903936386108,0.8051879405975342,0.7697856426239014,1.3935797214508057,0.8153917789459229,1.2557129859924316,1.1579779386520386,0.9928248524665833,1.2470886707305908,0.8161250948905945,0.6856889724731445,0.7286701798439026,1.1211895942687988,0.8520177006721497,1.1281147003173828,0.6952400803565979,0.9844847917556763,0.9017417430877686,0.8946442008018494,0.8357201814651489,0.7806248664855957,0.7857430577278137,0.7034334540367126,0.8471798896789551,0.945870041847229,0.9798270463943481,0.9233435988426208,0.8300480842590332,0.785162091255188,0.9399969577789307,0.8677063584327698,0.809775710105896,0.7981477975845337,0.7802197933197021,0.8726332187652588,0.9637448191642761,0.7028617262840271,1.0972622632980347,0.8183829188346863,1.0328247547149658,1.14430570602417,0.8084917664527893,0.6963825225830078,0.6871329545974731,1.0054833889007568,0.7278637886047363,0.8110002279281616,0.7873556017875671,0.8184051513671875,1.0470998287200928,1.3430001735687256,0.84694504737854,0.9528310894966125,0.9088826179504395,0.832185685634613,0.5490705370903015,0.5339559316635132,0.5756654143333435,0.5992696285247803,0.9600350856781006,0.7847492694854736,0.5048452615737915,0.4737721085548401,0.5186877250671387,0.4305323362350464,0.5523408055305481,0.4376639127731323,0.4416661262512207,0.5616552233695984,0.7370816469192505,0.6317660808563232,0.5540576577186584,0.7051339149475098,0.4144330620765686,0.632326066493988,0.43460559844970703,0.37572869658470154,0.44665324687957764,0.4694962501525879,0.5351361632347107,0.6076927185058594,0.49180078506469727,0.5058550834655762,0.5695248246192932,0.44765082001686096,0.570775032043457,0.5544736385345459,0.4567931592464447,0.4651363492012024,0.48193565011024475,0.5544382333755493,0.6098005175590515,0.6450086832046509,0.6858739852905273,0.41444700956344604,0.8229525685310364,0.5611423850059509,0.8303335905075073,0.4272165894508362,0.42466476559638977,0.5622419714927673,0.8231000900268555,0.6187687516212463,0.8320133090019226,0.8838767409324646,0.5559455156326294,1.019625186920166,0.43052950501441956,0.48177850246429443,0.574988842010498,0.5218745470046997,0.47497430443763733,0.5820294618606567,0.48470786213874817,0.48997941613197327,0.6070345640182495,0.6214084029197693,0.45348435640335083,0.5218034386634827,0.6372122764587402,0.5128290057182312,0.6461528539657593,0.8366929292678833,0.7705821990966797,0.5139415860176086,0.727866530418396,0.6589376926422119,0.7829775214195251,0.8787205219268799,0.5850035548210144,0.6611583828926086,0.7285473942756653,3.4415392875671387,2.016606569290161,0.70848548412323,0.5407086610794067,0.6183856129646301,0.9980438351631165],\"type\":\"scatter\"},{\"line\":{\"color\":\"rgb(66,245,102)\",\"width\":2.5},\"mode\":\"lines\",\"name\":\"Aa\\u002faA\",\"x\":[10000,30000,50000,70000,90000,110000,130000,150000,170000,190000,210000,230000,250000,270000,290000,310000,330000,350000,370000,390000,410000,430000,450000,470000,490000,510000,530000,550000,570000,590000,610000,630000,650000,670000,690000,710000,730000,750000,770000,790000,810000,830000,850000,870000,890000,910000,930000,950000,970000,990000,1010000,1030000,1050000,1070000,1090000,1110000,1130000,1150000,1170000,1190000,1210000,1230000,1250000,1270000,1290000,1310000,1330000,1350000,1370000,1390000,1410000,1430000,1450000,1470000,1490000,1510000,1530000,1550000,1570000,1590000,1610000,1630000,1646818],\"y\":[1.1938270330429077,1.079196810722351,1.2992523908615112,2.0048160552978516,4.127971172332764,5.285198211669922,1.1166813373565674,0.8094215989112854,0.7327739000320435,1.0591962337493896,0.9408167004585266,0.7956271171569824,0.9048505425453186,0.8369339108467102,0.9327876567840576,1.0266408920288086,0.8731973767280579,0.8768400549888611,0.8308758735656738,1.0362781286239624,0.6023514270782471,0.7570875883102417,0.7433773875236511,0.6508586406707764,0.8105651140213013,0.7465582489967346,0.6195030808448792,0.6623814105987549,0.7114896178245544,0.6434832215309143,0.6001575589179993,1.2066024541854858,0.6856686472892761,1.0697948932647705,0.9949955940246582,0.8057968020439148,1.0350943803787231,0.6891835331916809,0.555176854133606,0.5779433846473694,0.9757615923881531,0.7065800428390503,0.975533664226532,0.554843544960022,0.8351793885231018,0.7733752131462097,0.7522223591804504,0.6950792074203491,0.631280243396759,0.6254397034645081,0.5801132917404175,0.7008267641067505,0.758322536945343,0.7137389183044434,0.746434211730957,0.6679515838623047,0.6384814381599426,0.773844838142395,0.7014212608337402,0.6396359801292419,0.6224005222320557,0.577974259853363,0.6536194086074829,0.7980354428291321,0.5586473941802979,0.9011980891227722,0.6862202882766724,0.8322954177856445,0.9406936764717102,0.6850734949111938,0.5690243244171143,0.5623984336853027,0.7789121270179749,0.5791980624198914,0.6648439764976501,0.6305638551712036,0.6616252064704895,0.9159245491027832,1.151517629623413,0.7231073379516602,0.764248251914978,0.7214192748069763,0.6906281113624573],\"type\":\"scatter\"},{\"fill\":\"toself\",\"fillcolor\":\"rgba(47,74,196,0.2)\",\"hoverinfo\":\"skip\",\"line\":{\"color\":\"rgba(255, 255, 255, 0)\"},\"name\":\"aa\",\"showlegend\":false,\"x\":[10000,30000,50000,70000,90000,110000,130000,150000,170000,190000,210000,230000,250000,270000,290000,310000,330000,350000,370000,390000,410000,430000,450000,470000,490000,510000,530000,550000,570000,590000,610000,630000,650000,670000,690000,710000,730000,750000,770000,790000,810000,830000,850000,870000,890000,910000,930000,950000,970000,990000,1010000,1030000,1050000,1070000,1090000,1110000,1130000,1150000,1170000,1190000,1210000,1230000,1250000,1270000,1290000,1310000,1330000,1350000,1370000,1390000,1410000,1430000,1450000,1470000,1490000,1510000,1530000,1550000,1570000,1590000,1610000,1630000,1646818,1646818,1630000,1610000,1590000,1570000,1550000,1530000,1510000,1490000,1470000,1450000,1430000,1410000,1390000,1370000,1350000,1330000,1310000,1290000,1270000,1250000,1230000,1210000,1190000,1170000,1150000,1130000,1110000,1090000,1070000,1050000,1030000,1010000,990000,970000,950000,930000,910000,890000,870000,850000,830000,810000,790000,770000,750000,730000,710000,690000,670000,650000,630000,610000,590000,570000,550000,530000,510000,490000,470000,450000,430000,410000,390000,370000,350000,330000,310000,290000,270000,250000,230000,210000,190000,170000,150000,130000,110000,90000,70000,50000,30000,10000],\"y\":[0.7742863297462463,1.157178521156311,1.5456616878509521,2.16864013671875,4.501866340637207,5.572055816650391,1.3197766542434692,0.6467530727386475,0.6203795671463013,0.6102328896522522,0.5808117389678955,0.5690561532974243,0.6785361170768738,0.8336766362190247,0.6174899935722351,0.6350948214530945,0.8918728828430176,0.9775159955024719,0.7159533500671387,1.2187399864196777,0.6235880851745605,0.519129753112793,0.5871199369430542,0.6329910159111023,0.9807103872299194,0.8134538531303406,0.6119510531425476,0.6290902495384216,0.5361319184303284,0.5081833600997925,0.5576215982437134,0.6536802053451538,0.5697054862976074,0.7079459428787231,0.6042370796203613,0.7329076528549194,0.6804507970809937,0.5695752501487732,0.5483869314193726,0.5163568258285522,0.7351132035255432,0.6243827939033508,0.6471954584121704,0.6141923666000366,0.6242120265960693,0.6196209192276001,0.5732720494270325,0.5797653198242188,0.6086400747299194,0.5347217917442322,0.602916419506073,0.6488805413246155,0.7284010052680969,0.7831631302833557,0.6876081824302673,0.6920360922813416,0.6812081933021545,0.6329063773155212,0.7029112577438354,0.6431534886360168,0.6624367237091064,0.6781318783760071,0.71835857629776,0.5912615060806274,0.6352756023406982,0.6463780403137207,0.573535144329071,0.5798938274383545,0.6741312742233276,0.6033579111099243,0.5515384078025818,0.5621642470359802,0.6476565599441528,0.5801341533660889,0.575494647026062,0.6671138405799866,0.5851002931594849,0.5866096019744873,0.6229332685470581,0.5912162065505981,0.8478879928588867,0.7143167853355408,0.5299612283706665,0.2346729338169098,0.31899791955947876,0.26707831025123596,0.2519380450248718,0.22065630555152893,0.21545326709747314,0.2715859115123749,0.3256731629371643,0.301315575838089,0.26782575249671936,0.2932596802711487,0.3026500344276428,0.23262733221054077,0.2972007989883423,0.36125171184539795,0.3131442964076996,0.29296088218688965,0.333741694688797,0.2346329540014267,0.2547001838684082,0.2882954478263855,0.26640427112579346,0.3274379074573517,0.2921629548072815,0.30769702792167664,0.2809116840362549,0.34598416090011597,0.3531849980354309,0.36198633909225464,0.35238200426101685,0.2744562029838562,0.2587631940841675,0.2953934073448181,0.26532942056655884,0.286733478307724,0.26588308811187744,0.27099287509918213,0.25072795152664185,0.3066057562828064,0.24070866405963898,0.21871283650398254,0.22468705475330353,0.21268928050994873,0.26122093200683594,0.26287537813186646,0.2472401112318039,0.17728987336158752,0.29347240924835205,0.1827198565006256,0.16311898827552795,0.2794509530067444,0.2927201986312866,0.2727890610694885,0.25525158643722534,0.23298250138759613,0.2835649251937866,0.2741292119026184,0.297720730304718,0.3794182240962982,0.25529754161834717,0.3060774803161621,0.24774852395057678,0.2722202241420746,0.561849057674408,0.29131197929382324,0.3837612271308899,0.21700528264045715,0.18902206420898438,0.24800466001033783,0.3462236523628235,0.19666071236133575,0.2099412977695465,0.21820947527885437,0.20864015817642212,0.272100031375885,0.25127503275871277,0.3649902045726776,3.865633010864258,2.7397806644439697,0.7362499237060547,0.4858205318450928,0.3739931285381317,0.3774188160896301],\"type\":\"scatter\"},{\"line\":{\"color\":\"rgb(47,74,196)\",\"width\":2.5},\"mode\":\"lines\",\"name\":\"aa\",\"x\":[10000,30000,50000,70000,90000,110000,130000,150000,170000,190000,210000,230000,250000,270000,290000,310000,330000,350000,370000,390000,410000,430000,450000,470000,490000,510000,530000,550000,570000,590000,610000,630000,650000,670000,690000,710000,730000,750000,770000,790000,810000,830000,850000,870000,890000,910000,930000,950000,970000,990000,1010000,1030000,1050000,1070000,1090000,1110000,1130000,1150000,1170000,1190000,1210000,1230000,1250000,1270000,1290000,1310000,1330000,1350000,1370000,1390000,1410000,1430000,1450000,1470000,1490000,1510000,1530000,1550000,1570000,1590000,1610000,1630000,1646818],\"y\":[0.5758525729179382,0.7655858397483826,1.0157411098480225,1.4524450302124023,3.620823383331299,4.718844413757324,0.8423834443092346,0.4490140676498413,0.44623979926109314,0.40943652391433716,0.39951059222221375,0.3894987106323242,0.43759840726852417,0.5899501442909241,0.43274733424186707,0.41205844283103943,0.5544390678405762,0.6806386113166809,0.503632664680481,0.8902944922447205,0.44790413975715637,0.3834391236305237,0.44659870862960815,0.44414427876472473,0.68006432056427,0.5555872917175293,0.443040132522583,0.4563275873661041,0.38455721735954285,0.3817174732685089,0.41520532965660095,0.4732002019882202,0.4245782196521759,0.43553245067596436,0.3934784531593323,0.5131900310516357,0.4288703203201294,0.40840768814086914,0.4056311547756195,0.3887888789176941,0.47390124201774597,0.4245349168777466,0.43295416235923767,0.4274505078792572,0.46540889143943787,0.43517443537712097,0.4221324622631073,0.4228242039680481,0.4476867914199829,0.4000256061553955,0.44915491342544556,0.4538218677043915,0.5014286041259766,0.5677725672721863,0.524797260761261,0.5226105451583862,0.5135961771011353,0.45690903067588806,0.5053041577339172,0.46765822172164917,0.49493733048439026,0.47226807475090027,0.5033270120620728,0.4229808449745178,0.43495428562164307,0.49005988240242004,0.43324801325798035,0.44651904702186584,0.5176914930343628,0.4502793550491333,0.3920828700065613,0.4324071407318115,0.47045812010765076,0.4239799678325653,0.4384050965309143,0.49639350175857544,0.42834311723709106,0.4010314345359802,0.4217948019504547,0.421577125787735,0.5574831366539001,0.5166573524475098,0.38231706619262695],\"type\":\"scatter\"},{\"fill\":\"toself\",\"fillcolor\":\"rgba(189,32,131,0.2)\",\"hoverinfo\":\"skip\",\"line\":{\"color\":\"rgba(255, 255, 255, 0)\"},\"name\":\"zero-out\",\"showlegend\":false,\"x\":[10000,30000,50000,70000,90000,110000,130000,150000,170000,190000,210000,230000,250000,270000,290000,310000,330000,350000,370000,390000,410000,430000,450000,470000,490000,510000,530000,550000,570000,590000,610000,630000,650000,670000,690000,710000,730000,750000,770000,790000,810000,830000,850000,870000,890000,910000,930000,950000,970000,990000,1010000,1030000,1050000,1070000,1090000,1110000,1130000,1150000,1170000,1190000,1210000,1230000,1250000,1270000,1290000,1310000,1330000,1350000,1370000,1390000,1410000,1430000,1450000,1470000,1490000,1510000,1530000,1550000,1570000,1590000,1610000,1630000,1646818,1646818,1630000,1610000,1590000,1570000,1550000,1530000,1510000,1490000,1470000,1450000,1430000,1410000,1390000,1370000,1350000,1330000,1310000,1290000,1270000,1250000,1230000,1210000,1190000,1170000,1150000,1130000,1110000,1090000,1070000,1050000,1030000,1010000,990000,970000,950000,930000,910000,890000,870000,850000,830000,810000,790000,770000,750000,730000,710000,690000,670000,650000,630000,610000,590000,570000,550000,530000,510000,490000,470000,450000,430000,410000,390000,370000,350000,330000,310000,290000,270000,250000,230000,210000,190000,170000,150000,130000,110000,90000,70000,50000,30000,10000],\"y\":[0.9006720781326294,1.2864832878112793,1.6303004026412964,2.2633132934570312,4.185129165649414,5.3658976554870605,1.3296247720718384,0.6962881088256836,0.7381991744041443,0.6876897215843201,0.5929567813873291,0.6751747131347656,0.7196426391601562,1.0621135234832764,0.6861745715141296,0.6641064286231995,0.9078295230865479,1.061281442642212,0.7333589196205139,1.2287330627441406,0.7428925037384033,0.6963369846343994,0.7014180421829224,0.732401430606842,1.1093063354492188,0.8387470245361328,0.6577658653259277,0.6569628715515137,0.7616040706634521,0.6961839199066162,0.6501646637916565,0.8273254036903381,0.7793282270431519,0.7953758239746094,0.6727246046066284,0.7796849012374878,0.7195925712585449,0.6114034652709961,0.5810437202453613,0.6212718486785889,0.8335834741592407,0.7350592613220215,0.7713221907615662,0.6456621289253235,0.7238098382949829,0.7087942361831665,0.5916562080383301,0.5790542960166931,0.7030038833618164,0.688930869102478,0.6417083740234375,0.7026102542877197,0.750112771987915,0.8170872330665588,0.6697260141372681,0.6848435997962952,0.7134749889373779,0.6783982515335083,0.7541148066520691,0.7594730257987976,0.7742108702659607,0.7805224657058716,0.731640100479126,0.6131619215011597,0.6551318168640137,0.7544023394584656,0.6103570461273193,0.76875239610672,0.7301837205886841,0.6091206073760986,0.6702656745910645,0.5740141272544861,0.744880199432373,0.6739043593406677,0.676008939743042,0.783134937286377,0.6790814995765686,0.6901814937591553,0.6464465260505676,0.6628537178039551,0.8566553592681885,0.7308008074760437,0.5811412334442139,0.26546037197113037,0.3693036437034607,0.34078872203826904,0.3183557987213135,0.36405426263809204,0.3860754668712616,0.3588685393333435,0.4142203629016876,0.385095477104187,0.3593917489051819,0.30752280354499817,0.3177030086517334,0.37484192848205566,0.3266245424747467,0.4354080259799957,0.40631014108657837,0.3427465856075287,0.43203312158584595,0.2833593487739563,0.2951163053512573,0.2710469961166382,0.38029858469963074,0.4015708565711975,0.3808961510658264,0.37484031915664673,0.38110947608947754,0.3966050148010254,0.3673068881034851,0.325969934463501,0.3124927878379822,0.34811922907829285,0.3470919132232666,0.36011290550231934,0.39817067980766296,0.3786260187625885,0.29191887378692627,0.32579323649406433,0.37273308634757996,0.373038649559021,0.31808632612228394,0.3843105435371399,0.3404935598373413,0.353742390871048,0.32611218094825745,0.29059091210365295,0.3260071873664856,0.32775771617889404,0.35529837012290955,0.3448601961135864,0.3532518148422241,0.4283648729324341,0.5372841954231262,0.3073222041130066,0.4023662805557251,0.4481867551803589,0.35252845287323,0.34193772077560425,0.372810959815979,0.4543553292751312,0.3792174458503723,0.4317457377910614,0.4074209928512573,0.3675166666507721,0.47901076078414917,0.3195921778678894,0.3813912272453308,0.3038882315158844,0.3142988085746765,0.3734515309333801,0.43408799171447754,0.330981969833374,0.33179008960723877,0.31040170788764954,0.36444252729415894,0.3892971873283386,0.33462485671043396,0.2934767007827759,2.801640033721924,1.3437376022338867,0.32382404804229736,0.34518539905548096,0.350541889667511,0.4830336570739746],\"type\":\"scatter\"},{\"line\":{\"color\":\"rgb(189,32,131)\",\"width\":2.5},\"mode\":\"lines\",\"name\":\"zero-out\",\"x\":[10000,30000,50000,70000,90000,110000,130000,150000,170000,190000,210000,230000,250000,270000,290000,310000,330000,350000,370000,390000,410000,430000,450000,470000,490000,510000,530000,550000,570000,590000,610000,630000,650000,670000,690000,710000,730000,750000,770000,790000,810000,830000,850000,870000,890000,910000,930000,950000,970000,990000,1010000,1030000,1050000,1070000,1090000,1110000,1130000,1150000,1170000,1190000,1210000,1230000,1250000,1270000,1290000,1310000,1330000,1350000,1370000,1390000,1410000,1430000,1450000,1470000,1490000,1510000,1530000,1550000,1570000,1590000,1610000,1630000,1646818],\"y\":[0.691852867603302,0.8185125589370728,0.9877429008483887,1.2935686111450195,2.7644333839416504,4.083768844604492,0.8115507364273071,0.51545649766922,0.5637481808662415,0.5260661244392395,0.4516792297363281,0.5034824013710022,0.5253123044967651,0.748100757598877,0.5298130512237549,0.489202618598938,0.6058588624000549,0.7213363647460938,0.5264755487442017,0.8538719415664673,0.5552045702934265,0.5518789887428284,0.5665819048881531,0.5558094382286072,0.7818308472633362,0.6057789921760559,0.499851793050766,0.5047456622123718,0.6048954129219055,0.5492751002311707,0.47874343395233154,0.6823047995567322,0.603846549987793,0.5743138194084167,0.5087924003601074,0.5674916505813599,0.5236751437187195,0.46870532631874084,0.43581733107566833,0.47369199991226196,0.5936629176139832,0.5377764105796814,0.577816367149353,0.4818742275238037,0.548424243927002,0.5407636761665344,0.4587247371673584,0.4354865849018097,0.5408149361610413,0.5435507893562317,0.5009106397628784,0.5248510837554932,0.5491160154342651,0.5647900104522705,0.4978479743003845,0.5260752439498901,0.5550400018692017,0.5297538638114929,0.5644775629043579,0.570184588432312,0.5878908634185791,0.5804105401039124,0.5013435482978821,0.4541391134262085,0.469245582818985,0.5932177305221558,0.4765518307685852,0.5875312685966492,0.5827958583831787,0.4678725600242615,0.5225538015365601,0.44585856795310974,0.5262014865875244,0.5166480541229248,0.5305522084236145,0.5986776351928711,0.518975019454956,0.5381284952163696,0.5052503943443298,0.4906047582626343,0.5987220406532288,0.5500522255897522,0.4233008027076721],\"type\":\"scatter\"}],                        {\"template\":{\"data\":{\"histogram2dcontour\":[{\"type\":\"histogram2dcontour\",\"colorbar\":{\"outlinewidth\":0,\"ticks\":\"\"},\"colorscale\":[[0.0,\"#0d0887\"],[0.1111111111111111,\"#46039f\"],[0.2222222222222222,\"#7201a8\"],[0.3333333333333333,\"#9c179e\"],[0.4444444444444444,\"#bd3786\"],[0.5555555555555556,\"#d8576b\"],[0.6666666666666666,\"#ed7953\"],[0.7777777777777778,\"#fb9f3a\"],[0.8888888888888888,\"#fdca26\"],[1.0,\"#f0f921\"]]}],\"choropleth\":[{\"type\":\"choropleth\",\"colorbar\":{\"outlinewidth\":0,\"ticks\":\"\"}}],\"histogram2d\":[{\"type\":\"histogram2d\",\"colorbar\":{\"outlinewidth\":0,\"ticks\":\"\"},\"colorscale\":[[0.0,\"#0d0887\"],[0.1111111111111111,\"#46039f\"],[0.2222222222222222,\"#7201a8\"],[0.3333333333333333,\"#9c179e\"],[0.4444444444444444,\"#bd3786\"],[0.5555555555555556,\"#d8576b\"],[0.6666666666666666,\"#ed7953\"],[0.7777777777777778,\"#fb9f3a\"],[0.8888888888888888,\"#fdca26\"],[1.0,\"#f0f921\"]]}],\"heatmap\":[{\"type\":\"heatmap\",\"colorbar\":{\"outlinewidth\":0,\"ticks\":\"\"},\"colorscale\":[[0.0,\"#0d0887\"],[0.1111111111111111,\"#46039f\"],[0.2222222222222222,\"#7201a8\"],[0.3333333333333333,\"#9c179e\"],[0.4444444444444444,\"#bd3786\"],[0.5555555555555556,\"#d8576b\"],[0.6666666666666666,\"#ed7953\"],[0.7777777777777778,\"#fb9f3a\"],[0.8888888888888888,\"#fdca26\"],[1.0,\"#f0f921\"]]}],\"heatmapgl\":[{\"type\":\"heatmapgl\",\"colorbar\":{\"outlinewidth\":0,\"ticks\":\"\"},\"colorscale\":[[0.0,\"#0d0887\"],[0.1111111111111111,\"#46039f\"],[0.2222222222222222,\"#7201a8\"],[0.3333333333333333,\"#9c179e\"],[0.4444444444444444,\"#bd3786\"],[0.5555555555555556,\"#d8576b\"],[0.6666666666666666,\"#ed7953\"],[0.7777777777777778,\"#fb9f3a\"],[0.8888888888888888,\"#fdca26\"],[1.0,\"#f0f921\"]]}],\"contourcarpet\":[{\"type\":\"contourcarpet\",\"colorbar\":{\"outlinewidth\":0,\"ticks\":\"\"}}],\"contour\":[{\"type\":\"contour\",\"colorbar\":{\"outlinewidth\":0,\"ticks\":\"\"},\"colorscale\":[[0.0,\"#0d0887\"],[0.1111111111111111,\"#46039f\"],[0.2222222222222222,\"#7201a8\"],[0.3333333333333333,\"#9c179e\"],[0.4444444444444444,\"#bd3786\"],[0.5555555555555556,\"#d8576b\"],[0.6666666666666666,\"#ed7953\"],[0.7777777777777778,\"#fb9f3a\"],[0.8888888888888888,\"#fdca26\"],[1.0,\"#f0f921\"]]}],\"surface\":[{\"type\":\"surface\",\"colorbar\":{\"outlinewidth\":0,\"ticks\":\"\"},\"colorscale\":[[0.0,\"#0d0887\"],[0.1111111111111111,\"#46039f\"],[0.2222222222222222,\"#7201a8\"],[0.3333333333333333,\"#9c179e\"],[0.4444444444444444,\"#bd3786\"],[0.5555555555555556,\"#d8576b\"],[0.6666666666666666,\"#ed7953\"],[0.7777777777777778,\"#fb9f3a\"],[0.8888888888888888,\"#fdca26\"],[1.0,\"#f0f921\"]]}],\"mesh3d\":[{\"type\":\"mesh3d\",\"colorbar\":{\"outlinewidth\":0,\"ticks\":\"\"}}],\"scatter\":[{\"fillpattern\":{\"fillmode\":\"overlay\",\"size\":10,\"solidity\":0.2},\"type\":\"scatter\"}],\"parcoords\":[{\"type\":\"parcoords\",\"line\":{\"colorbar\":{\"outlinewidth\":0,\"ticks\":\"\"}}}],\"scatterpolargl\":[{\"type\":\"scatterpolargl\",\"marker\":{\"colorbar\":{\"outlinewidth\":0,\"ticks\":\"\"}}}],\"bar\":[{\"error_x\":{\"color\":\"#2a3f5f\"},\"error_y\":{\"color\":\"#2a3f5f\"},\"marker\":{\"line\":{\"color\":\"#E5ECF6\",\"width\":0.5},\"pattern\":{\"fillmode\":\"overlay\",\"size\":10,\"solidity\":0.2}},\"type\":\"bar\"}],\"scattergeo\":[{\"type\":\"scattergeo\",\"marker\":{\"colorbar\":{\"outlinewidth\":0,\"ticks\":\"\"}}}],\"scatterpolar\":[{\"type\":\"scatterpolar\",\"marker\":{\"colorbar\":{\"outlinewidth\":0,\"ticks\":\"\"}}}],\"histogram\":[{\"marker\":{\"pattern\":{\"fillmode\":\"overlay\",\"size\":10,\"solidity\":0.2}},\"type\":\"histogram\"}],\"scattergl\":[{\"type\":\"scattergl\",\"marker\":{\"colorbar\":{\"outlinewidth\":0,\"ticks\":\"\"}}}],\"scatter3d\":[{\"type\":\"scatter3d\",\"line\":{\"colorbar\":{\"outlinewidth\":0,\"ticks\":\"\"}},\"marker\":{\"colorbar\":{\"outlinewidth\":0,\"ticks\":\"\"}}}],\"scattermapbox\":[{\"type\":\"scattermapbox\",\"marker\":{\"colorbar\":{\"outlinewidth\":0,\"ticks\":\"\"}}}],\"scatterternary\":[{\"type\":\"scatterternary\",\"marker\":{\"colorbar\":{\"outlinewidth\":0,\"ticks\":\"\"}}}],\"scattercarpet\":[{\"type\":\"scattercarpet\",\"marker\":{\"colorbar\":{\"outlinewidth\":0,\"ticks\":\"\"}}}],\"carpet\":[{\"aaxis\":{\"endlinecolor\":\"#2a3f5f\",\"gridcolor\":\"white\",\"linecolor\":\"white\",\"minorgridcolor\":\"white\",\"startlinecolor\":\"#2a3f5f\"},\"baxis\":{\"endlinecolor\":\"#2a3f5f\",\"gridcolor\":\"white\",\"linecolor\":\"white\",\"minorgridcolor\":\"white\",\"startlinecolor\":\"#2a3f5f\"},\"type\":\"carpet\"}],\"table\":[{\"cells\":{\"fill\":{\"color\":\"#EBF0F8\"},\"line\":{\"color\":\"white\"}},\"header\":{\"fill\":{\"color\":\"#C8D4E3\"},\"line\":{\"color\":\"white\"}},\"type\":\"table\"}],\"barpolar\":[{\"marker\":{\"line\":{\"color\":\"#E5ECF6\",\"width\":0.5},\"pattern\":{\"fillmode\":\"overlay\",\"size\":10,\"solidity\":0.2}},\"type\":\"barpolar\"}],\"pie\":[{\"automargin\":true,\"type\":\"pie\"}]},\"layout\":{\"autotypenumbers\":\"strict\",\"colorway\":[\"#636efa\",\"#EF553B\",\"#00cc96\",\"#ab63fa\",\"#FFA15A\",\"#19d3f3\",\"#FF6692\",\"#B6E880\",\"#FF97FF\",\"#FECB52\"],\"font\":{\"color\":\"#2a3f5f\"},\"hovermode\":\"closest\",\"hoverlabel\":{\"align\":\"left\"},\"paper_bgcolor\":\"white\",\"plot_bgcolor\":\"#E5ECF6\",\"polar\":{\"bgcolor\":\"#E5ECF6\",\"angularaxis\":{\"gridcolor\":\"white\",\"linecolor\":\"white\",\"ticks\":\"\"},\"radialaxis\":{\"gridcolor\":\"white\",\"linecolor\":\"white\",\"ticks\":\"\"}},\"ternary\":{\"bgcolor\":\"#E5ECF6\",\"aaxis\":{\"gridcolor\":\"white\",\"linecolor\":\"white\",\"ticks\":\"\"},\"baxis\":{\"gridcolor\":\"white\",\"linecolor\":\"white\",\"ticks\":\"\"},\"caxis\":{\"gridcolor\":\"white\",\"linecolor\":\"white\",\"ticks\":\"\"}},\"coloraxis\":{\"colorbar\":{\"outlinewidth\":0,\"ticks\":\"\"}},\"colorscale\":{\"sequential\":[[0.0,\"#0d0887\"],[0.1111111111111111,\"#46039f\"],[0.2222222222222222,\"#7201a8\"],[0.3333333333333333,\"#9c179e\"],[0.4444444444444444,\"#bd3786\"],[0.5555555555555556,\"#d8576b\"],[0.6666666666666666,\"#ed7953\"],[0.7777777777777778,\"#fb9f3a\"],[0.8888888888888888,\"#fdca26\"],[1.0,\"#f0f921\"]],\"sequentialminus\":[[0.0,\"#0d0887\"],[0.1111111111111111,\"#46039f\"],[0.2222222222222222,\"#7201a8\"],[0.3333333333333333,\"#9c179e\"],[0.4444444444444444,\"#bd3786\"],[0.5555555555555556,\"#d8576b\"],[0.6666666666666666,\"#ed7953\"],[0.7777777777777778,\"#fb9f3a\"],[0.8888888888888888,\"#fdca26\"],[1.0,\"#f0f921\"]],\"diverging\":[[0,\"#8e0152\"],[0.1,\"#c51b7d\"],[0.2,\"#de77ae\"],[0.3,\"#f1b6da\"],[0.4,\"#fde0ef\"],[0.5,\"#f7f7f7\"],[0.6,\"#e6f5d0\"],[0.7,\"#b8e186\"],[0.8,\"#7fbc41\"],[0.9,\"#4d9221\"],[1,\"#276419\"]]},\"xaxis\":{\"gridcolor\":\"white\",\"linecolor\":\"white\",\"ticks\":\"\",\"title\":{\"standoff\":15},\"zerolinecolor\":\"white\",\"automargin\":true,\"zerolinewidth\":2},\"yaxis\":{\"gridcolor\":\"white\",\"linecolor\":\"white\",\"ticks\":\"\",\"title\":{\"standoff\":15},\"zerolinecolor\":\"white\",\"automargin\":true,\"zerolinewidth\":2},\"scene\":{\"xaxis\":{\"backgroundcolor\":\"#E5ECF6\",\"gridcolor\":\"white\",\"linecolor\":\"white\",\"showbackground\":true,\"ticks\":\"\",\"zerolinecolor\":\"white\",\"gridwidth\":2},\"yaxis\":{\"backgroundcolor\":\"#E5ECF6\",\"gridcolor\":\"white\",\"linecolor\":\"white\",\"showbackground\":true,\"ticks\":\"\",\"zerolinecolor\":\"white\",\"gridwidth\":2},\"zaxis\":{\"backgroundcolor\":\"#E5ECF6\",\"gridcolor\":\"white\",\"linecolor\":\"white\",\"showbackground\":true,\"ticks\":\"\",\"zerolinecolor\":\"white\",\"gridwidth\":2}},\"shapedefaults\":{\"line\":{\"color\":\"#2a3f5f\"}},\"annotationdefaults\":{\"arrowcolor\":\"#2a3f5f\",\"arrowhead\":0,\"arrowwidth\":1},\"geo\":{\"bgcolor\":\"white\",\"landcolor\":\"#E5ECF6\",\"subunitcolor\":\"white\",\"showland\":true,\"showlakes\":true,\"lakecolor\":\"white\"},\"title\":{\"x\":0.05},\"mapbox\":{\"style\":\"light\"}}}},                        {\"responsive\": true}                    ).then(function(){\n",
       "                            \n",
       "var gd = document.getElementById('a345deac-f248-482a-a84d-be85f8c40832');\n",
       "var x = new MutationObserver(function (mutations, observer) {{\n",
       "        var display = window.getComputedStyle(gd).display;\n",
       "        if (!display || display === 'none') {{\n",
       "            console.log([gd, 'removed!']);\n",
       "            Plotly.purge(gd);\n",
       "            observer.disconnect();\n",
       "        }}\n",
       "}});\n",
       "\n",
       "// Listen for the removal of the full notebook cells\n",
       "var notebookContainer = gd.closest('#notebook-container');\n",
       "if (notebookContainer) {{\n",
       "    x.observe(notebookContainer, {childList: true});\n",
       "}}\n",
       "\n",
       "// Listen for the clearing of the current output cell\n",
       "var outputEl = gd.closest('.output');\n",
       "if (outputEl) {{\n",
       "    x.observe(outputEl, {childList: true});\n",
       "}}\n",
       "\n",
       "                        })                };                });            </script>        </div>"
      ]
     },
     "metadata": {},
     "output_type": "display_data"
    }
   ],
   "source": [
    "import plotly.graph_objs as go\n",
    "\n",
    "edit_options = [\"AA\", \"Aa/aA\", \"aa\", \"zero-out\"]\n",
    "gene_positions = list(change_tracker.keys())\n",
    "plot_data = {}\n",
    "for edit_opt in edit_options:\n",
    "    all_pos = []\n",
    "    for pos in gene_positions:\n",
    "        all_data = np.concatenate(change_tracker[pos][edit_opt])\n",
    "        all_pos.append(all_data)\n",
    "    plot_data[edit_opt] = np.stack(all_pos, axis=1)\n",
    "\n",
    "fig = go.Figure()\n",
    "colors = [(245, 138, 66), (66, 245, 102), (47, 74, 196), (189, 32, 131)]\n",
    "for i, edit_opt in enumerate(edit_options):\n",
    "    means = plot_data[edit_opt].mean(axis=0)\n",
    "    stds = plot_data[edit_opt].std(axis=0)\n",
    "    y_upper = means + stds\n",
    "    y_lower = means - stds\n",
    "\n",
    "    std_color = f\"rgba({','.join(str(c) for c in colors[i])},0.2)\"\n",
    "    print(std_color)\n",
    "    fig.add_traces(\n",
    "        go.Scatter(\n",
    "            x=gene_positions + gene_positions[::-1],\n",
    "            y=y_upper.tolist() + y_lower.tolist()[::-1],\n",
    "            fill=\"toself\",\n",
    "            fillcolor=std_color,\n",
    "            line=dict(color=\"rgba(255, 255, 255, 0)\"),\n",
    "            hoverinfo=\"skip\",\n",
    "            showlegend=False,\n",
    "            name=edit_opt,\n",
    "        )\n",
    "    )\n",
    "    line_color = f\"rgb({','.join(str(c) for c in colors[i])})\"\n",
    "    fig.add_traces(\n",
    "        go.Scatter(\n",
    "            x=gene_positions,\n",
    "            y=means,\n",
    "            mode=\"lines\",\n",
    "            line=dict(color=line_color, width=2.5),\n",
    "            name=edit_opt,\n",
    "        )\n",
    "    )\n",
    "\n",
    "fig\n"
   ]
  }
 ],
 "metadata": {
  "kernelspec": {
   "display_name": "gtp",
   "language": "python",
   "name": "python3"
  },
  "language_info": {
   "codemirror_mode": {
    "name": "ipython",
    "version": 3
   },
   "file_extension": ".py",
   "mimetype": "text/x-python",
   "name": "python",
   "nbconvert_exporter": "python",
   "pygments_lexer": "ipython3",
   "version": "3.10.16"
  }
 },
 "nbformat": 4,
 "nbformat_minor": 2
}
