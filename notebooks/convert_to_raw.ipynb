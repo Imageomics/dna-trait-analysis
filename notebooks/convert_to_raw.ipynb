{
 "cells": [
  {
   "cell_type": "code",
   "execution_count": null,
   "metadata": {},
   "outputs": [],
   "source": [
    "import json\n",
    "from pathlib import Path\n",
    "import numpy as np\n",
    "\n",
    "ROOT = \"/home/carlyn.1/dna-trait-analysis/plot_results\"\n",
    "\n",
    "current_path = ROOT / \"erato_forewings_color_1\"\n",
    "\n"
   ]
  }
 ],
 "metadata": {
  "language_info": {
   "name": "python"
  }
 },
 "nbformat": 4,
 "nbformat_minor": 2
}
