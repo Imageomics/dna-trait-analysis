{
 "cells": [
  {
   "cell_type": "code",
   "execution_count": 6,
   "metadata": {},
   "outputs": [
    {
     "name": "stdout",
     "output_type": "stream",
     "text": [
      "Train len: 387\n",
      "Val len: 48\n",
      "Test len: 49\n"
     ]
    }
   ],
   "source": [
    "import os\n",
    "import numpy as np\n",
    "import random\n",
    "\n",
    "SEED = 2024\n",
    "SPECIES = \"erato\"\n",
    "EXAMPLE_FILE = f\"/local/scratch/carlyn.1/dna/vcfs/processed/genome/{SPECIES}/Herato0309/camids.npy\"\n",
    "OUTDIR = \"/home/carlyn.1/dna-trait-analysis/data\"\n",
    "TRAIN_RATIO = 0.8\n",
    "VAL_RATIO = 0.1\n",
    "\n",
    "camids = np.load(EXAMPLE_FILE).tolist()\n",
    "\n",
    "random.seed(SEED)\n",
    "random.shuffle(camids)\n",
    "\n",
    "train_idx = int(len(camids) * TRAIN_RATIO)\n",
    "val_idx = int(len(camids) * VAL_RATIO)\n",
    "\n",
    "train_split = camids[:train_idx]\n",
    "val_split = camids[train_idx:train_idx+val_idx]\n",
    "test_split = camids[train_idx+val_idx:]\n",
    "print(f\"Train len: {len(train_split)}\")\n",
    "print(f\"Val len: {len(val_split)}\")\n",
    "print(f\"Test len: {len(test_split)}\")\n",
    "\n",
    "np.save(os.path.join(OUTDIR, f\"{SPECIES}_train.npy\"), train_split)\n",
    "np.save(os.path.join(OUTDIR, f\"{SPECIES}_val.npy\"), val_split)\n",
    "np.save(os.path.join(OUTDIR, f\"{SPECIES}_test.npy\"), test_split)"
   ]
  }
 ],
 "metadata": {
  "kernelspec": {
   "display_name": "dna",
   "language": "python",
   "name": "python3"
  },
  "language_info": {
   "codemirror_mode": {
    "name": "ipython",
    "version": 3
   },
   "file_extension": ".py",
   "mimetype": "text/x-python",
   "name": "python",
   "nbconvert_exporter": "python",
   "pygments_lexer": "ipython3",
   "version": "3.12.3"
  }
 },
 "nbformat": 4,
 "nbformat_minor": 2
}
