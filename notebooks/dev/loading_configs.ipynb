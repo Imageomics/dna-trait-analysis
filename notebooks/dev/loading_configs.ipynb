{
 "cells": [
  {
   "cell_type": "code",
   "execution_count": 1,
   "metadata": {},
   "outputs": [],
   "source": [
    "from gtp.configs.loaders import load_configs\n",
    "from gtp.dataloading.path_collectors import get_raw_genotype_input_directory, get_raw_phenotype_input_directory\n",
    "\n",
    "configs = load_configs(\"../../configs/default.yaml\")"
   ]
  },
  {
   "cell_type": "code",
   "execution_count": 2,
   "metadata": {},
   "outputs": [
    {
     "data": {
      "text/plain": [
       "PosixPath('/local/scratch/carlyn.1/dna/vcfs')"
      ]
     },
     "execution_count": 2,
     "metadata": {},
     "output_type": "execute_result"
    }
   ],
   "source": [
    "get_raw_genotype_input_directory(configs.io)"
   ]
  },
  {
   "cell_type": "code",
   "execution_count": 3,
   "metadata": {},
   "outputs": [
    {
     "data": {
      "text/plain": [
       "PosixPath('/local/scratch/carlyn.1/dna/colors')"
      ]
     },
     "execution_count": 3,
     "metadata": {},
     "output_type": "execute_result"
    }
   ],
   "source": [
    "get_raw_phenotype_input_directory(configs.io)"
   ]
  },
  {
   "cell_type": "code",
   "execution_count": null,
   "metadata": {},
   "outputs": [
    {
     "name": "stdout",
     "output_type": "stream",
     "text": [
      "GenotypeToPhenotypeConfigs(src_yaml={'dev': {'tmp': 'tmp'},\n",
      "                                     'io': {'data_post_process': {'genotype': '',\n",
      "                                                                  'phenotype': '',\n",
      "                                                                  'root': None},\n",
      "                                            'default_root': '/local/scratch/carlyn.1/',\n",
      "                                            'raw_data_input': {'genotype': 'dna/vcfs',\n",
      "                                                               'phenotype': 'dna/colors',\n",
      "                                                               'root': None}}},\n",
      "                           io=IOConfigs(default_root='/local/scratch/carlyn.1/',\n",
      "                                        raw_data_input=RawDataInputConfigs(root=None,\n",
      "                                                                           genotype='dna/vcfs',\n",
      "                                                                           phenotype='dna/colors'),\n",
      "                                        data_post_process=DataPostProcessingConfigs(root=None,\n",
      "                                                                                    genotype='',\n",
      "                                                                                    phenotype='')),\n",
      "                           dev=DevConfigs(tmp='tmp'))\n"
     ]
    }
   ],
   "source": [
    "\n",
    "\n",
    "pprint.pprint(configs)"
   ]
  }
 ],
 "metadata": {
  "kernelspec": {
   "display_name": "gtp",
   "language": "python",
   "name": "python3"
  },
  "language_info": {
   "codemirror_mode": {
    "name": "ipython",
    "version": 3
   },
   "file_extension": ".py",
   "mimetype": "text/x-python",
   "name": "python",
   "nbconvert_exporter": "python",
   "pygments_lexer": "ipython3",
   "version": "3.10.16"
  }
 },
 "nbformat": 4,
 "nbformat_minor": 2
}
