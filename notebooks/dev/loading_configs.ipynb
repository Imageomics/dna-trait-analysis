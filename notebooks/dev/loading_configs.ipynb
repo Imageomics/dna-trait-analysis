{
 "cells": [
  {
   "cell_type": "code",
   "execution_count": 2,
   "metadata": {},
   "outputs": [],
   "source": [
    "from gtp.configs.loaders import load_configs\n",
    "\n",
    "configs = load_configs(\"../../configs/default.yaml\")"
   ]
  },
  {
   "cell_type": "code",
   "execution_count": 3,
   "metadata": {},
   "outputs": [
    {
     "data": {
      "text/plain": [
       "{'io': {'default_root': '/local/scratch/carlyn.1/',\n",
       "  'raw_data_input': {'root': None,\n",
       "   'genotype': 'dna/vcfs',\n",
       "   'phenotype': 'dna/colors'},\n",
       "  'data_post_process': {'root': None, 'genotype': '', 'phenotype': ''}},\n",
       " 'dev': {'tmp': 'tmp'}}"
      ]
     },
     "execution_count": 3,
     "metadata": {},
     "output_type": "execute_result"
    }
   ],
   "source": [
    "import yaml\n",
    "\n",
    "with open(\"../../configs/default.yaml\", 'r') as f:\n",
    "    cfgs = yaml.safe_load(f)\n",
    "    \n",
    "cfgs"
   ]
  },
  {
   "cell_type": "code",
   "execution_count": 4,
   "metadata": {},
   "outputs": [
    {
     "data": {
      "text/plain": [
       "GenotypeToPhenotypeConfigs(src_yaml={'io': {'default_root': '/local/scratch/carlyn.1/', 'raw_data_input': {'root': None, 'genotype': 'dna/vcfs', 'phenotype': 'dna/colors'}, 'data_post_process': {'root': None, 'genotype': '', 'phenotype': ''}}, 'dev': {'tmp': 'tmp'}}, io=IOConfigs(default_root='/local/scratch/carlyn.1/', raw_data_input=RawDataInputConfigs(root=None, genotype='dna/vcfs', phenotype='dna/colors'), data_post_process=DataPostProcessingConfigs(root=None, genotype='', phenotype='')), dev=DevConfigs(tmp='tmp'))"
      ]
     },
     "execution_count": 4,
     "metadata": {},
     "output_type": "execute_result"
    }
   ],
   "source": [
    "configs"
   ]
  },
  {
   "cell_type": "code",
   "execution_count": null,
   "metadata": {},
   "outputs": [],
   "source": []
  }
 ],
 "metadata": {
  "kernelspec": {
   "display_name": "gtp",
   "language": "python",
   "name": "python3"
  },
  "language_info": {
   "codemirror_mode": {
    "name": "ipython",
    "version": 3
   },
   "file_extension": ".py",
   "mimetype": "text/x-python",
   "name": "python",
   "nbconvert_exporter": "python",
   "pygments_lexer": "ipython3",
   "version": "3.10.16"
  }
 },
 "nbformat": 4,
 "nbformat_minor": 2
}
