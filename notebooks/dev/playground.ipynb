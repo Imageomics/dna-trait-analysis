{
 "cells": [
  {
   "cell_type": "code",
   "execution_count": 5,
   "metadata": {},
   "outputs": [
    {
     "name": "stdout",
     "output_type": "stream",
     "text": [
      "Out of 336 training runs, 330 have models.\n",
      "Those paths include: \n",
      "/local/scratch/carlyn.1/dna/training_output/base/erato_hindwings_color_1_chromosome_10\n",
      "/local/scratch/carlyn.1/dna/training_output/base/melpomene_hindwings_color_1_chromosome_15\n",
      "/local/scratch/carlyn.1/dna/training_output/base/melpomene_hindwings_color_1_chromosome_5\n",
      "/local/scratch/carlyn.1/dna/training_output/base/erato_hindwings_color_1_chromosome_11\n",
      "/local/scratch/carlyn.1/dna/training_output/base/melpomene_hindwings_color_1_chromosome_1\n",
      "/local/scratch/carlyn.1/dna/training_output/base/erato_hindwings_color_1_chromosome_13\n"
     ]
    }
   ],
   "source": [
    "import os\n",
    "\n",
    "total = 0\n",
    "has_model = 0\n",
    "no_model_paths = []\n",
    "for root, dirs, files in os.walk(\"/local/scratch/carlyn.1/dna/training_output/base\"):\n",
    "    if len(files) > 0:\n",
    "        total += 1\n",
    "        if \"model.pt\" in files:\n",
    "            has_model += 1\n",
    "        else:\n",
    "            no_model_paths.append(root)\n",
    "\n",
    "print(f\"Out of {total} training runs, {has_model} have models.\")\n",
    "print(\"Those paths include: \")\n",
    "print(\"\\n\".join(no_model_paths))"
   ]
  }
 ],
 "metadata": {
  "kernelspec": {
   "display_name": "gtp",
   "language": "python",
   "name": "python3"
  },
  "language_info": {
   "codemirror_mode": {
    "name": "ipython",
    "version": 3
   },
   "file_extension": ".py",
   "mimetype": "text/x-python",
   "name": "python",
   "nbconvert_exporter": "python",
   "pygments_lexer": "ipython3",
   "version": "3.10.16"
  }
 },
 "nbformat": 4,
 "nbformat_minor": 2
}
