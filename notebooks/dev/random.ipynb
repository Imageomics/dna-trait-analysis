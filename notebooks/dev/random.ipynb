{
 "cells": [
  {
   "cell_type": "code",
   "execution_count": 1,
   "id": "9e5c9699",
   "metadata": {},
   "outputs": [
    {
     "name": "stderr",
     "output_type": "stream",
     "text": [
      "extracting data: 337it [00:02, 124.87it/s]\n"
     ]
    }
   ],
   "source": [
    "from pathlib import Path\n",
    "import os\n",
    "\n",
    "import numpy as np\n",
    "from tqdm import tqdm\n",
    "\n",
    "root_path = Path(\"/local/scratch/carlyn.1/dna/training_output\")\n",
    "exp_path = root_path / \"base\"\n",
    "\n",
    "data = []\n",
    "species = set()\n",
    "wings = set()\n",
    "colors = set()\n",
    "chromosomes = set()\n",
    "for root, dirs, files in tqdm(os.walk(exp_path), desc=\"extracting data\"):\n",
    "    if \"test_attributions.npy\" in files:\n",
    "        x = np.load(root + \"/test_attributions.npy\")[\n",
    "            :, 0\n",
    "        ]  # Only grab first pca attributions\n",
    "        parts = root.split(os.path.sep)[-1].split(\"_\")\n",
    "        if len(parts) == 6:\n",
    "            sp, wing, c, n, _, chromosome = parts\n",
    "            color = f\"{c}_{n}\"\n",
    "        else:\n",
    "            sp, wing, color, _, chromosome = parts\n",
    "\n",
    "        chromosome = int(chromosome)\n",
    "        species.add(sp)\n",
    "        wings.add(wing)\n",
    "        colors.add(color)\n",
    "        chromosomes.add(chromosome)\n",
    "\n",
    "        data.append(\n",
    "            [\n",
    "                sp,\n",
    "                wing,\n",
    "                color,\n",
    "                chromosome,\n",
    "                x,\n",
    "            ]\n",
    "        )"
   ]
  },
  {
   "cell_type": "code",
   "execution_count": 2,
   "id": "f494a568",
   "metadata": {},
   "outputs": [
    {
     "data": {
      "text/plain": [
       "[1, 2, 3, 4, 5, 6, 7, 8, 9, 10, 11, 12, 13, 14, 15, 16, 17, 18, 19, 20, 21]"
      ]
     },
     "execution_count": 2,
     "metadata": {},
     "output_type": "execute_result"
    }
   ],
   "source": [
    "chromosomes = sorted(list(chromosomes))\n",
    "chromosomes"
   ]
  },
  {
   "cell_type": "code",
   "execution_count": 3,
   "id": "10cfef98",
   "metadata": {},
   "outputs": [],
   "source": [
    "data = sorted(data, key=lambda x: (x[0], x[1], x[2], x[3]))"
   ]
  },
  {
   "cell_type": "code",
   "execution_count": null,
   "id": "b04d4cd6",
   "metadata": {},
   "outputs": [
    {
     "name": "stderr",
     "output_type": "stream",
     "text": [
      "processing-rows: 100%|██████████| 336/336 [03:44<00:00,  1.50it/s]\n"
     ]
    }
   ],
   "source": [
    "from gtp.dataloading.tools import collect_chromosome_position_metadata\n",
    "\n",
    "genome_folder = \"/local/scratch/carlyn.1/dna/processed/genome\"\n",
    "\n",
    "groups = []\n",
    "\n",
    "gn = None\n",
    "group = []\n",
    "positions = []\n",
    "group_chromosomes = []\n",
    "prev_chromosome = None\n",
    "for row in tqdm(data, desc=\"processing-rows\"):\n",
    "    sp = row[0]\n",
    "    # if sp == \"erato\":\n",
    "    #    if row[1] == \"forewings\":\n",
    "    #        continue\n",
    "    #    if row[1] == \"hindwings\" and row[2] != \"total\":\n",
    "    #        continue\n",
    "    chromosome = int(row[3])\n",
    "    new_gn = \"-\".join(row[:3])\n",
    "    if gn is None:\n",
    "        gn = new_gn\n",
    "    elif gn != new_gn:\n",
    "        cat_positions = np.concatenate([np.array(x) for x in positions])\n",
    "        groups.append(\n",
    "            (\n",
    "                gn,\n",
    "                np.concatenate(group_chromosomes),\n",
    "                cat_positions,\n",
    "                np.concatenate(group),\n",
    "            )\n",
    "        )\n",
    "        group = []\n",
    "        positions = []\n",
    "        group_chromosomes = []\n",
    "        prev_chromosome = None\n",
    "        gn = new_gn\n",
    "    else:\n",
    "        assert prev_chromosome == chromosome - 1\n",
    "\n",
    "    prev_chromosome = chromosome\n",
    "    group.append(row[-1])\n",
    "    positions.append(\n",
    "        collect_chromosome_position_metadata(genome_folder, sp, chromosome)\n",
    "    )\n",
    "    group_chromosomes.append(np.ones(row[-1].shape[0]) * chromosome)\n"
   ]
  },
  {
   "cell_type": "code",
   "execution_count": 5,
   "id": "8e83535b",
   "metadata": {},
   "outputs": [
    {
     "name": "stderr",
     "output_type": "stream",
     "text": [
      "saving data:   0%|          | 0/8 [00:00<?, ?it/s]"
     ]
    },
    {
     "name": "stdout",
     "output_type": "stream",
     "text": [
      "erato-hindwings-total\n"
     ]
    },
    {
     "name": "stderr",
     "output_type": "stream",
     "text": [
      "saving data:  12%|█▎        | 1/8 [01:35<11:06, 95.15s/it]"
     ]
    },
    {
     "name": "stdout",
     "output_type": "stream",
     "text": [
      "melpomene-forewings-color_1\n"
     ]
    },
    {
     "name": "stderr",
     "output_type": "stream",
     "text": [
      "saving data:  25%|██▌       | 2/8 [03:02<09:04, 90.74s/it]"
     ]
    },
    {
     "name": "stdout",
     "output_type": "stream",
     "text": [
      "melpomene-forewings-color_2\n"
     ]
    },
    {
     "name": "stderr",
     "output_type": "stream",
     "text": [
      "saving data:  38%|███▊      | 3/8 [04:42<07:54, 94.81s/it]"
     ]
    },
    {
     "name": "stdout",
     "output_type": "stream",
     "text": [
      "melpomene-forewings-color_3\n"
     ]
    },
    {
     "name": "stderr",
     "output_type": "stream",
     "text": [
      "saving data:  50%|█████     | 4/8 [06:34<06:47, 101.81s/it]"
     ]
    },
    {
     "name": "stdout",
     "output_type": "stream",
     "text": [
      "melpomene-forewings-total\n"
     ]
    },
    {
     "name": "stderr",
     "output_type": "stream",
     "text": [
      "saving data:  62%|██████▎   | 5/8 [08:21<05:10, 103.36s/it]"
     ]
    },
    {
     "name": "stdout",
     "output_type": "stream",
     "text": [
      "melpomene-hindwings-color_1\n"
     ]
    },
    {
     "name": "stderr",
     "output_type": "stream",
     "text": [
      "saving data:  75%|███████▌  | 6/8 [09:39<03:09, 94.96s/it] "
     ]
    },
    {
     "name": "stdout",
     "output_type": "stream",
     "text": [
      "melpomene-hindwings-color_2\n"
     ]
    },
    {
     "name": "stderr",
     "output_type": "stream",
     "text": [
      "saving data:  88%|████████▊ | 7/8 [10:53<01:28, 88.17s/it]"
     ]
    },
    {
     "name": "stdout",
     "output_type": "stream",
     "text": [
      "melpomene-hindwings-color_3\n"
     ]
    },
    {
     "name": "stderr",
     "output_type": "stream",
     "text": [
      "saving data: 100%|██████████| 8/8 [11:58<00:00, 89.81s/it]\n"
     ]
    }
   ],
   "source": [
    "import pandas as pd\n",
    "\n",
    "outdir = Path(\"/home/carlyn.1/dna-trait-analysis/tmp/csv_att_data\")\n",
    "\n",
    "for group in tqdm(groups, desc=\"saving data\"):\n",
    "    gn = group[0]\n",
    "    print(gn)\n",
    "    chromosomes = group[1]\n",
    "    scaffold_positions = group[2]\n",
    "    attributions = group[3]\n",
    "\n",
    "    all_data = np.stack(\n",
    "        [\n",
    "            chromosomes,\n",
    "            scaffold_positions[:, 0],\n",
    "            scaffold_positions[:, 1],\n",
    "            attributions,\n",
    "        ],\n",
    "        axis=1,\n",
    "    )\n",
    "\n",
    "    df = pd.DataFrame(\n",
    "        all_data, columns=[\"chromosome\", \"scaffold\", \"position\", \"attribution\"]\n",
    "    )\n",
    "    df.to_csv(Path(outdir, f\"{gn}.csv\"))"
   ]
  },
  {
   "cell_type": "code",
   "execution_count": 6,
   "id": "ae0fd75b",
   "metadata": {},
   "outputs": [],
   "source": [
    "# create rows\n",
    "# species, wing, color, chromosome"
   ]
  }
 ],
 "metadata": {
  "kernelspec": {
   "display_name": "gtp",
   "language": "python",
   "name": "python3"
  },
  "language_info": {
   "codemirror_mode": {
    "name": "ipython",
    "version": 3
   },
   "file_extension": ".py",
   "mimetype": "text/x-python",
   "name": "python",
   "nbconvert_exporter": "python",
   "pygments_lexer": "ipython3",
   "version": "3.10.16"
  }
 },
 "nbformat": 4,
 "nbformat_minor": 5
}
