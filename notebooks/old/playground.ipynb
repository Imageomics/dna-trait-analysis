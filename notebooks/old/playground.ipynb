{
 "cells": [
  {
   "cell_type": "code",
   "execution_count": 1,
   "metadata": {},
   "outputs": [
    {
     "name": "stderr",
     "output_type": "stream",
     "text": [
      "/home/carlyn.1/dna-trait-analysis/src/gtp/dataloading/data_preprocessors.py:60: SyntaxWarning: invalid escape sequence '\\/'\n",
      "  \"\"\"\n"
     ]
    },
    {
     "name": "stdout",
     "output_type": "stream",
     "text": [
      "read_df exe time: 00:00:14\n",
      "df_extract_states exe time: 00:00:29\n",
      "create_ml_ready exe time: 00:01:41\n",
      "process exe time: 00:02:46\n"
     ]
    }
   ],
   "source": [
    "import os\n",
    "from concurrent.futures import ThreadPoolExecutor, as_completed\n",
    "from tqdm import tqdm\n",
    "from pathlib import Path\n",
    "\n",
    "from gtp.dataloading.data_preprocessors import ButterflyGenePreprocessor\n",
    "from gtp.tools import profile_exe_time\n",
    "\n",
    "ROOT_GENOTYPE_INPUT_DIR = Path(\"/local/scratch/carlyn.1/dna/vcfs/\")\n",
    "ROOT_GENOTYPE_OUTPUT_DIR = Path(\"/local/scratch/carlyn.1/dna/vcfs/processed\")\n",
    "preprocessor = ButterflyGenePreprocessor(\n",
    "    input_dir = ROOT_GENOTYPE_INPUT_DIR,\n",
    "    output_dir = ROOT_GENOTYPE_OUTPUT_DIR\n",
    ")\n",
    "\n",
    "preprocessor.process(pca_csv_path_suffix=os.path.join(\"erato/genome/Herato1007.tsv\"))\n",
    "\n",
    "preprocessor.save_result(\"tmp\")\n",
    "            "
   ]
  }
 ],
 "metadata": {
  "kernelspec": {
   "display_name": "dna",
   "language": "python",
   "name": "python3"
  },
  "language_info": {
   "codemirror_mode": {
    "name": "ipython",
    "version": 3
   },
   "file_extension": ".py",
   "mimetype": "text/x-python",
   "name": "python",
   "nbconvert_exporter": "python",
   "pygments_lexer": "ipython3",
   "version": "3.12.3"
  }
 },
 "nbformat": 4,
 "nbformat_minor": 2
}
