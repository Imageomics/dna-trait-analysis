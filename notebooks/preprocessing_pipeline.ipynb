{
 "cells": [
  {
   "cell_type": "markdown",
   "metadata": {},
   "source": [
    "### Preprocess Data"
   ]
  },
  {
   "cell_type": "code",
   "execution_count": 1,
   "metadata": {},
   "outputs": [],
   "source": [
    "from pathlib import Path\n",
    "import socket\n",
    "from enum import Enum\n",
    "\n",
    "\n",
    "class Hosts(Enum):\n",
    "    IMAGEOMICS_SERVER = \"cse-cnc196909s.coeit.osu.edu\"\n",
    "\n",
    "\n",
    "hostname = socket.gethostname()\n",
    "if hostname == Hosts.IMAGEOMICS_SERVER.value:\n",
    "    ROOT_PHENOTYPE_INPUT_DIR = Path(\"/local/scratch/carlyn.1/dna/colors\")\n",
    "    ROOT_PHENOTYPE_OUTPUT_DIR = Path(\"/local/scratch/carlyn.1/dna/colors/processed\")\n",
    "    ROOT_GENOTYPE_INPUT_DIR = Path(\"/local/scratch/carlyn.1/dna/vcfs\")\n",
    "    ROOT_GENOTYPE_OUTPUT_DIR = Path(\"/local/scratch/carlyn.1/dna/processed\")\n",
    "else:\n",
    "    ROOT_PHENOTYPE_INPUT_DIR = Path(\"/local/scratch/david/geno-pheno-data/colors\")\n",
    "    ROOT_PHENOTYPE_OUTPUT_DIR = Path(\n",
    "        \"/local/scratch/david/geno-pheno-data/colors/processed\"\n",
    "    )\n",
    "    ROOT_GENOTYPE_INPUT_DIR = Path(\"/local/scratch/david/geno-pheno-data/dna/\")\n",
    "    ROOT_GENOTYPE_OUTPUT_DIR = Path(\n",
    "        \"/local/scratch/david/geno-pheno-data/dna/processed\"\n",
    "    )"
   ]
  },
  {
   "cell_type": "code",
   "execution_count": 2,
   "metadata": {},
   "outputs": [],
   "source": [
    "from gtp.dataloading.data_preprocessors import ButterflyPatternizePreprocessor\n",
    "\n",
    "preprocessor = ButterflyPatternizePreprocessor(\n",
    "    input_dir=ROOT_PHENOTYPE_INPUT_DIR, output_dir=ROOT_PHENOTYPE_OUTPUT_DIR\n",
    ")\n",
    "\n",
    "for species in [\"erato\", \"melpomene\"]:\n",
    "    for wing in [\"forewings\", \"hindwings\"]:\n",
    "        for color in [\"color_1\", \"color_2\", \"color_3\", \"total\"]:\n",
    "            suffix_path = f\"{species}_{wing}_PCA/PCA_{color}_loadings.csv\"\n",
    "            preprocessor.process(pca_csv_path_suffix=suffix_path)\n",
    "            preprocessor.save_result(f\"{species}_{wing}_{color}\")\n"
   ]
  },
  {
   "cell_type": "code",
   "execution_count": null,
   "metadata": {},
   "outputs": [
    {
     "name": "stdout",
     "output_type": "stream",
     "text": [
      "/local/scratch/david/geno-pheno-data/dna/erato/genome\n",
      "/local/scratch/david/geno-pheno-data/dna/melpomene/genome\n",
      "Processing erato/genome/Herato1301.tsv: 11.4 GB bytes\n"
     ]
    },
    {
     "name": "stderr",
     "output_type": "stream",
     "text": [
      "Processing Genotype data. Total: 18: : 0it [00:00, ?it/s]"
     ]
    },
    {
     "name": "stdout",
     "output_type": "stream",
     "text": [
      "read_df exe time: 00:00:56\n",
      "df_extract_states exe time: 00:02:32\n",
      "create_ml_ready exe time: 00:08:38\n",
      "_process exe time: 00:13:54\n"
     ]
    },
    {
     "name": "stderr",
     "output_type": "stream",
     "text": [
      "Processing Genotype data. Total: 18: : 1it [18:07, 1087.42s/it]"
     ]
    },
    {
     "name": "stdout",
     "output_type": "stream",
     "text": [
      "_save_result exe time: 00:03:37\n",
      "Completed erato/genome/Herato1301.tsv: 11.4 GB bytes\n",
      "Processing melpomene/genome/Hmel204001o.tsv: 2.1 GB bytes\n",
      "read_df exe time: 00:00:12\n",
      "df_extract_states exe time: 00:00:29\n",
      "create_ml_ready exe time: 00:01:43\n",
      "_process exe time: 00:02:43\n"
     ]
    },
    {
     "name": "stderr",
     "output_type": "stream",
     "text": [
      "Processing Genotype data. Total: 18: : 2it [22:01, 585.29s/it] "
     ]
    },
    {
     "name": "stdout",
     "output_type": "stream",
     "text": [
      "_save_result exe time: 00:01:03\n",
      "Completed melpomene/genome/Hmel204001o.tsv: 2.1 GB bytes\n",
      "Processing melpomene/genome/Hmel215003o.tsv: 2.2 GB bytes\n",
      "read_df exe time: 00:00:10\n",
      "df_extract_states exe time: 00:00:29\n",
      "create_ml_ready exe time: 00:01:45\n",
      "_process exe time: 00:02:44\n"
     ]
    },
    {
     "name": "stderr",
     "output_type": "stream",
     "text": [
      "Processing Genotype data. Total: 18: : 3it [25:57, 425.99s/it]"
     ]
    },
    {
     "name": "stdout",
     "output_type": "stream",
     "text": [
      "_save_result exe time: 00:01:04\n",
      "Completed melpomene/genome/Hmel215003o.tsv: 2.2 GB bytes\n",
      "Processing melpomene/genome/Hmel221001o.tsv: 2.2 GB bytes\n",
      "read_df exe time: 00:00:10\n",
      "df_extract_states exe time: 00:00:30\n",
      "create_ml_ready exe time: 00:01:47\n",
      "_process exe time: 00:02:47\n"
     ]
    }
   ],
   "source": [
    "import os\n",
    "from enum import Enum\n",
    "from multiprocessing import Pool\n",
    "from concurrent.futures import ThreadPoolExecutor, as_completed\n",
    "from tqdm import tqdm\n",
    "from pathlib import Path\n",
    "\n",
    "from gtp.dataloading.data_preprocessors import ButterflyGenePreprocessor\n",
    "\n",
    "\n",
    "class DNA_SCOPE(Enum):\n",
    "    GENOME = \"genome\"\n",
    "    CHROMOSOME = \"chromosomes\"\n",
    "    GENE = \"genes\"\n",
    "\n",
    "\n",
    "THIS_DNA_SCOPE = DNA_SCOPE.GENOME.value\n",
    "\n",
    "\n",
    "def convert_bytes(num):\n",
    "    \"\"\"\n",
    "    this function will convert bytes to MB.... GB... etc\n",
    "    \"\"\"\n",
    "    for x in [\"bytes\", \"KB\", \"MB\", \"GB\", \"TB\"]:\n",
    "        if num < 1024.0:\n",
    "            return \"%3.1f %s\" % (num, x)\n",
    "        num /= 1024.0\n",
    "\n",
    "\n",
    "def process_fn(pca_csv_path_suffix, save_dir):\n",
    "    size = convert_bytes(os.path.getsize(ROOT_GENOTYPE_INPUT_DIR / pca_csv_path_suffix))\n",
    "    print(f\"Processing {pca_csv_path_suffix}: {size} bytes\")\n",
    "    preprocessor = ButterflyGenePreprocessor(\n",
    "        input_dir=ROOT_GENOTYPE_INPUT_DIR, output_dir=ROOT_GENOTYPE_OUTPUT_DIR\n",
    "    )\n",
    "    preprocessor.process(pca_csv_path_suffix=pca_csv_path_suffix)\n",
    "    preprocessor.save_result(save_dir)\n",
    "    print(f\"Completed {pca_csv_path_suffix}: {size} bytes\")\n",
    "    return True\n",
    "\n",
    "\n",
    "futures = []\n",
    "process_data = []\n",
    "pool = ThreadPoolExecutor(1)\n",
    "\n",
    "for species in [\"erato\", \"melpomene\"]:\n",
    "    species_genome_path = Path(f\"{species}/{THIS_DNA_SCOPE}\")\n",
    "    print(ROOT_GENOTYPE_INPUT_DIR / species_genome_path)\n",
    "    for root, dirs, files in os.walk(ROOT_GENOTYPE_INPUT_DIR / species_genome_path):\n",
    "        for i, f in enumerate(files):\n",
    "            fname = f.split(\".\")[0]\n",
    "            if os.path.exists(\n",
    "                ROOT_GENOTYPE_OUTPUT_DIR\n",
    "                / f\"{THIS_DNA_SCOPE}/{species}/{fname}/ml_ready.npy\"\n",
    "            ):\n",
    "                continue  # Delete this after\n",
    "            \n",
    "            genome_file_path = species_genome_path / f\n",
    "            size = os.path.getsize(ROOT_GENOTYPE_INPUT_DIR / genome_file_path)\n",
    "            process_data.append(\n",
    "                [size, species, genome_file_path, f\"{THIS_DNA_SCOPE}/{species}/{fname}\"]\n",
    "            )\n",
    "\n",
    "process_data = sorted(process_data, key=lambda x: (x[1], x[0]))\n",
    "\n",
    "for size, species, genome_file_path, save_dir in process_data:\n",
    "    future = pool.submit(\n",
    "        process_fn,\n",
    "        genome_file_path,\n",
    "        save_dir,\n",
    "    )\n",
    "    futures.append(future)\n",
    "\n",
    "progress_bar = tqdm(len(process_data))\n",
    "progress_bar.set_description(f\"Processing Genotype data. Total: {len(process_data)}\")\n",
    "\n",
    "for future in as_completed(futures):\n",
    "    success = future.result()\n",
    "    progress_bar.update(1)\n"
   ]
  }
 ],
 "metadata": {
  "kernelspec": {
   "display_name": ".venv",
   "language": "python",
   "name": "python3"
  },
  "language_info": {
   "codemirror_mode": {
    "name": "ipython",
    "version": 3
   },
   "file_extension": ".py",
   "mimetype": "text/x-python",
   "name": "python",
   "nbconvert_exporter": "python",
   "pygments_lexer": "ipython3",
   "version": "3.12.2"
  }
 },
 "nbformat": 4,
 "nbformat_minor": 2
}
