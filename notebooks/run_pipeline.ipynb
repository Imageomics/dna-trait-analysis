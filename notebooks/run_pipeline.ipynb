{
 "cells": [
  {
   "cell_type": "markdown",
   "metadata": {},
   "source": [
    "### Preprocess Data"
   ]
  },
  {
   "cell_type": "code",
   "execution_count": 1,
   "metadata": {},
   "outputs": [
    {
     "name": "stderr",
     "output_type": "stream",
     "text": [
      "/home/carlyn.1/dna-trait-analysis/src/gtp/dataloading/data_preprocessors.py:64: SyntaxWarning: invalid escape sequence '\\/'\n",
      "  \"\"\"\n"
     ]
    },
    {
     "name": "stdout",
     "output_type": "stream",
     "text": [
      "(480, 481)\n",
      "(480, 481)\n",
      "(480, 481)\n",
      "(480, 481)\n",
      "(480, 481)\n",
      "(480, 481)\n",
      "(480, 481)\n",
      "(480, 481)\n",
      "(480, 481)\n",
      "(480, 481)\n",
      "(480, 481)\n",
      "(480, 481)\n",
      "(480, 481)\n",
      "(480, 481)\n",
      "(480, 481)\n",
      "(480, 481)\n",
      "(188, 189)\n",
      "(188, 189)\n",
      "(188, 189)\n",
      "(188, 189)\n",
      "(188, 189)\n",
      "(188, 189)\n",
      "(188, 189)\n",
      "(188, 189)\n",
      "(185, 186)\n",
      "(185, 186)\n",
      "(185, 186)\n",
      "(185, 186)\n",
      "(185, 186)\n",
      "(185, 186)\n",
      "(185, 186)\n",
      "(185, 186)\n"
     ]
    }
   ],
   "source": [
    "from pathlib import Path\n",
    "\n",
    "from gtp.dataloading.data_preprocessors import ButterflyPatternizePreprocessor\n",
    "\n",
    "ROOT_PHENOTYPE_INPUT_DIR = Path(\"/local/scratch/carlyn.1/dna/colors/\")\n",
    "ROOT_PHENOTYPE_OUTPUT_DIR = Path(\"/local/scratch/carlyn.1/dna/colors/processed\")\n",
    "\n",
    "preprocessor = ButterflyPatternizePreprocessor(\n",
    "    input_dir = ROOT_PHENOTYPE_INPUT_DIR,\n",
    "    output_dir = ROOT_PHENOTYPE_OUTPUT_DIR\n",
    ")\n",
    "\n",
    "for species in [\"erato\", \"melpomene\"]:\n",
    "    for wing in [\"forewings\", \"hindwings\"]:\n",
    "        for color in [\"color_1\", \"color_2\", \"color_3\", \"total\"]:\n",
    "            suffix_path = f\"{species}_{wing}_PCA/PCA_{color}_loadings.csv\"\n",
    "            preprocessor.process(pca_csv_path_suffix=suffix_path)\n",
    "            preprocessor.save_result(f\"{species}_{wing}_{color}\")\n"
   ]
  },
  {
   "cell_type": "code",
   "execution_count": null,
   "metadata": {},
   "outputs": [],
   "source": []
  },
  {
   "cell_type": "code",
   "execution_count": null,
   "metadata": {},
   "outputs": [],
   "source": []
  },
  {
   "cell_type": "code",
   "execution_count": 2,
   "metadata": {},
   "outputs": [
    {
     "name": "stderr",
     "output_type": "stream",
     "text": [
      "Processing: erato: 100%|██████████| 195/195 [00:00<00:00, 75437.12it/s]\n",
      "Processing: melpomene: 100%|██████████| 38/38 [00:00<00:00, 63172.24it/s]\n",
      "Processing Genotype data. Total: 9: : 9it [22:32, 150.33s/it]\n"
     ]
    }
   ],
   "source": [
    "import os\n",
    "from concurrent.futures import ThreadPoolExecutor, as_completed\n",
    "from tqdm import tqdm\n",
    "from pathlib import Path\n",
    "\n",
    "from gtp.dataloading.data_preprocessors import ButterflyGenePreprocessor\n",
    "\n",
    "ROOT_GENOTYPE_INPUT_DIR = Path(\"/local/scratch/carlyn.1/dna/vcfs/\")\n",
    "ROOT_GENOTYPE_OUTPUT_DIR = Path(\"/local/scratch/carlyn.1/dna/vcfs/processed\")\n",
    "\n",
    "def convert_bytes(num):\n",
    "    \"\"\"\n",
    "    this function will convert bytes to MB.... GB... etc\n",
    "    \"\"\"\n",
    "    for x in ['bytes', 'KB', 'MB', 'GB', 'TB']:\n",
    "        if num < 1024.0:\n",
    "            return \"%3.1f %s\" % (num, x)\n",
    "        num /= 1024.0\n",
    "\n",
    "def process_fn(pca_csv_path_suffix, save_dir):\n",
    "    size = convert_bytes(os.path.getsize(ROOT_GENOTYPE_INPUT_DIR / pca_csv_path_suffix))\n",
    "    print(f\"Processing {pca_csv_path_suffix}: {size} bytes\")\n",
    "    preprocessor = ButterflyGenePreprocessor(\n",
    "        input_dir = ROOT_GENOTYPE_INPUT_DIR,\n",
    "        output_dir = ROOT_GENOTYPE_OUTPUT_DIR\n",
    "    )\n",
    "    preprocessor.process(pca_csv_path_suffix=pca_csv_path_suffix)\n",
    "    preprocessor.save_result(save_dir)\n",
    "    print(f\"Completed {pca_csv_path_suffix}: {size} bytes\")\n",
    "    return True\n",
    "\n",
    "futures = []\n",
    "process_data = []\n",
    "pool = ThreadPoolExecutor(1)\n",
    "\n",
    "for species in [\"erato\", \"melpomene\"]:\n",
    "    species_genome_path = Path(f\"{species}/genome\")\n",
    "    for root, dirs, files in os.walk(ROOT_GENOTYPE_INPUT_DIR / species_genome_path):\n",
    "        for i, f in enumerate(tqdm(files, desc=f\"Processing: {species}\")):\n",
    "            fname = f.split(\".\")[0]\n",
    "            if os.path.exists(ROOT_GENOTYPE_OUTPUT_DIR / f\"genome/{species}/{fname}/ml_ready.npy\"): \n",
    "                continue # Delete this after\n",
    "            future = pool.submit(process_fn, species_genome_path / f, f\"genome/{species}/{fname}\")\n",
    "            futures.append(future)\n",
    "            process_data.append([species_genome_path / f, f\"genome/{species}/{fname}\"])\n",
    "            \n",
    "progress_bar = tqdm(len(process_data))\n",
    "progress_bar.set_description(f\"Processing Genotype data. Total: {len(process_data)}\")\n",
    "\n",
    "for future in as_completed(futures):\n",
    "    success = future.result()\n",
    "    progress_bar.update(1)\n",
    "    #progress_bar.set_postfix(total=f\"{len(process_data)}\")\n"
   ]
  },
  {
   "cell_type": "code",
   "execution_count": null,
   "metadata": {},
   "outputs": [],
   "source": []
  }
 ],
 "metadata": {
  "kernelspec": {
   "display_name": "dna",
   "language": "python",
   "name": "python3"
  },
  "language_info": {
   "codemirror_mode": {
    "name": "ipython",
    "version": 3
   },
   "file_extension": ".py",
   "mimetype": "text/x-python",
   "name": "python",
   "nbconvert_exporter": "python",
   "pygments_lexer": "ipython3",
   "version": "3.12.3"
  }
 },
 "nbformat": 4,
 "nbformat_minor": 2
}
