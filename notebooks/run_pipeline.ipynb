{
 "cells": [
  {
   "cell_type": "markdown",
   "metadata": {},
   "source": [
    "### Preprocess Data"
   ]
  },
  {
   "cell_type": "code",
   "execution_count": 1,
   "metadata": {},
   "outputs": [],
   "source": [
    "from pathlib import Path\n",
    "\n",
    "from gtp.dataloading.data_preprocessors import ButterflyPatternizePreprocessor\n",
    "\n",
    "ROOT_PHENOTYPE_INPUT_DIR = Path(\"/local/scratch/david/geno-pheno-data/colors\")\n",
    "ROOT_PHENOTYPE_OUTPUT_DIR = Path(\"/local/scratch/david/geno-pheno-data/colors/processed\")\n",
    "\n",
    "preprocessor = ButterflyPatternizePreprocessor(\n",
    "    input_dir = ROOT_PHENOTYPE_INPUT_DIR,\n",
    "    output_dir = ROOT_PHENOTYPE_OUTPUT_DIR\n",
    ")\n",
    "\n",
    "for species in [\"erato\", \"melpomene\"]:\n",
    "    for wing in [\"forewings\", \"hindwings\"]:\n",
    "        for color in [\"color_1\", \"color_2\", \"color_3\", \"total\"]:\n",
    "            suffix_path = f\"{species}_{wing}_PCA/PCA_{color}_loadings.csv\"\n",
    "            preprocessor.process(pca_csv_path_suffix=suffix_path)\n",
    "            preprocessor.save_result(f\"{species}_{wing}_{color}\")\n"
   ]
  },
  {
   "cell_type": "code",
   "execution_count": 12,
   "metadata": {},
   "outputs": [
    {
     "name": "stdout",
     "output_type": "stream",
     "text": [
      "['Herato1505_cortex.tsv', 'Herato1801_optix.tsv', 'Herato1001_wntA.tsv', 'Herato1301_vvl.tsv', 'Herato1003_elf1a.tsv']\n"
     ]
    },
    {
     "name": "stderr",
     "output_type": "stream",
     "text": [
      "Processing: erato: 100%|██████████| 5/5 [00:00<00:00, 1923.64it/s]\n"
     ]
    },
    {
     "name": "stdout",
     "output_type": "stream",
     "text": [
      "Processing erato/genes/Herato1505_cortex.tsv: 366.1 MB bytes\n",
      "['Hmel210001o_elf1a.tsv', 'Hmel215003o_cortex.tsv', 'Hmel213001o_vvl.tsv', 'Hmel218003o_optix.tsv', 'Hmel210001o_wntA.tsv']\n"
     ]
    },
    {
     "name": "stderr",
     "output_type": "stream",
     "text": [
      "Processing: melpomene: 100%|██████████| 5/5 [00:00<00:00, 3492.92it/s]\n",
      "Processing Genotype data. Total: 10: : 10it [00:31,  3.11s/it]\n",
      "Processing Genotype data. Total: 10: : 0it [00:00, ?it/s]"
     ]
    },
    {
     "name": "stdout",
     "output_type": "stream",
     "text": [
      "read_df exe time: 00:00:02\n"
     ]
    },
    {
     "data": {
      "application/vnd.jupyter.widget-view+json": {
       "model_id": "04b370e70942434e92fb9413653137ed",
       "version_major": 2,
       "version_minor": 0
      },
      "text/plain": [
       "Pandas Apply:   0%|          | 0/484 [00:00<?, ?it/s]"
      ]
     },
     "metadata": {},
     "output_type": "display_data"
    },
    {
     "name": "stdout",
     "output_type": "stream",
     "text": [
      "df_extract_states exe time: 00:00:05\n",
      "create_ml_ready exe time: 00:00:14\n",
      "_process exe time: 00:00:25\n"
     ]
    },
    {
     "name": "stderr",
     "output_type": "stream",
     "text": [
      "Processing Genotype data. Total: 10: : 1it [00:34, 34.64s/it]"
     ]
    },
    {
     "name": "stdout",
     "output_type": "stream",
     "text": [
      "_save_result exe time: 00:00:08\n",
      "Completed erato/genes/Herato1505_cortex.tsv: 366.1 MB bytes\n",
      "Processing erato/genes/Herato1801_optix.tsv: 372.4 MB bytes\n",
      "read_df exe time: 00:00:01\n"
     ]
    },
    {
     "data": {
      "application/vnd.jupyter.widget-view+json": {
       "model_id": "328384c72ca6491189c3989a54bbc094",
       "version_major": 2,
       "version_minor": 0
      },
      "text/plain": [
       "Pandas Apply:   0%|          | 0/484 [00:00<?, ?it/s]"
      ]
     },
     "metadata": {},
     "output_type": "display_data"
    },
    {
     "name": "stdout",
     "output_type": "stream",
     "text": [
      "df_extract_states exe time: 00:00:05\n",
      "create_ml_ready exe time: 00:00:14\n",
      "_process exe time: 00:00:25\n"
     ]
    },
    {
     "name": "stderr",
     "output_type": "stream",
     "text": [
      "Processing Genotype data. Total: 10: : 2it [01:09, 34.82s/it]"
     ]
    },
    {
     "name": "stdout",
     "output_type": "stream",
     "text": [
      "_save_result exe time: 00:00:08\n",
      "Completed erato/genes/Herato1801_optix.tsv: 372.4 MB bytes\n",
      "Processing erato/genes/Herato1001_wntA.tsv: 558.6 MB bytes\n",
      "read_df exe time: 00:00:02\n"
     ]
    },
    {
     "data": {
      "application/vnd.jupyter.widget-view+json": {
       "model_id": "80667d7b3791402d81f6109c863831b2",
       "version_major": 2,
       "version_minor": 0
      },
      "text/plain": [
       "Pandas Apply:   0%|          | 0/484 [00:00<?, ?it/s]"
      ]
     },
     "metadata": {},
     "output_type": "display_data"
    },
    {
     "name": "stdout",
     "output_type": "stream",
     "text": [
      "df_extract_states exe time: 00:00:08\n",
      "create_ml_ready exe time: 00:00:21\n",
      "_process exe time: 00:00:37\n"
     ]
    },
    {
     "name": "stderr",
     "output_type": "stream",
     "text": [
      "Processing Genotype data. Total: 10: : 3it [02:00, 42.30s/it]"
     ]
    },
    {
     "name": "stdout",
     "output_type": "stream",
     "text": [
      "_save_result exe time: 00:00:12\n",
      "Completed erato/genes/Herato1001_wntA.tsv: 558.6 MB bytes\n",
      "Processing erato/genes/Herato1301_vvl.tsv: 342.2 MB bytes\n",
      "read_df exe time: 00:00:01\n"
     ]
    },
    {
     "data": {
      "application/vnd.jupyter.widget-view+json": {
       "model_id": "d71a7b34a4c542b197347cb672f219b7",
       "version_major": 2,
       "version_minor": 0
      },
      "text/plain": [
       "Pandas Apply:   0%|          | 0/484 [00:00<?, ?it/s]"
      ]
     },
     "metadata": {},
     "output_type": "display_data"
    },
    {
     "name": "stdout",
     "output_type": "stream",
     "text": [
      "df_extract_states exe time: 00:00:05\n",
      "create_ml_ready exe time: 00:00:13\n",
      "_process exe time: 00:00:23\n"
     ]
    },
    {
     "name": "stderr",
     "output_type": "stream",
     "text": [
      "Processing Genotype data. Total: 10: : 4it [02:32, 38.29s/it]"
     ]
    },
    {
     "name": "stdout",
     "output_type": "stream",
     "text": [
      "_save_result exe time: 00:00:07\n",
      "Completed erato/genes/Herato1301_vvl.tsv: 342.2 MB bytes\n",
      "Processing erato/genes/Herato1003_elf1a.tsv: 566.6 MB bytes\n",
      "read_df exe time: 00:00:02\n"
     ]
    },
    {
     "data": {
      "application/vnd.jupyter.widget-view+json": {
       "model_id": "ae7ba439b02146909e3b090bae4704b7",
       "version_major": 2,
       "version_minor": 0
      },
      "text/plain": [
       "Pandas Apply:   0%|          | 0/484 [00:00<?, ?it/s]"
      ]
     },
     "metadata": {},
     "output_type": "display_data"
    },
    {
     "name": "stdout",
     "output_type": "stream",
     "text": [
      "df_extract_states exe time: 00:00:08\n",
      "create_ml_ready exe time: 00:00:21\n",
      "_process exe time: 00:00:39\n"
     ]
    },
    {
     "name": "stderr",
     "output_type": "stream",
     "text": [
      "Processing Genotype data. Total: 10: : 5it [03:25, 43.61s/it]"
     ]
    },
    {
     "name": "stdout",
     "output_type": "stream",
     "text": [
      "_save_result exe time: 00:00:12\n",
      "Completed erato/genes/Herato1003_elf1a.tsv: 566.6 MB bytes\n",
      "Processing melpomene/genes/Hmel210001o_elf1a.tsv: 227.9 MB bytes\n",
      "read_df exe time: 00:00:00\n"
     ]
    },
    {
     "data": {
      "application/vnd.jupyter.widget-view+json": {
       "model_id": "89c355ee1ea24db9a493e2272f55ae84",
       "version_major": 2,
       "version_minor": 0
      },
      "text/plain": [
       "Pandas Apply:   0%|          | 0/187 [00:00<?, ?it/s]"
      ]
     },
     "metadata": {},
     "output_type": "display_data"
    },
    {
     "name": "stdout",
     "output_type": "stream",
     "text": [
      "df_extract_states exe time: 00:00:03\n",
      "create_ml_ready exe time: 00:00:10\n",
      "_process exe time: 00:00:16\n"
     ]
    },
    {
     "name": "stderr",
     "output_type": "stream",
     "text": [
      "Processing Genotype data. Total: 10: : 6it [03:50, 37.16s/it]"
     ]
    },
    {
     "name": "stdout",
     "output_type": "stream",
     "text": [
      "_save_result exe time: 00:00:07\n",
      "Completed melpomene/genes/Hmel210001o_elf1a.tsv: 227.9 MB bytes\n",
      "Processing melpomene/genes/Hmel215003o_cortex.tsv: 75.7 MB bytes\n",
      "read_df exe time: 00:00:00\n"
     ]
    },
    {
     "data": {
      "application/vnd.jupyter.widget-view+json": {
       "model_id": "48c5323e199a490c974eecc83180c2e3",
       "version_major": 2,
       "version_minor": 0
      },
      "text/plain": [
       "Pandas Apply:   0%|          | 0/187 [00:00<?, ?it/s]"
      ]
     },
     "metadata": {},
     "output_type": "display_data"
    },
    {
     "name": "stdout",
     "output_type": "stream",
     "text": [
      "df_extract_states exe time: 00:00:01\n",
      "create_ml_ready exe time: 00:00:03\n",
      "_process exe time: 00:00:05\n"
     ]
    },
    {
     "name": "stderr",
     "output_type": "stream",
     "text": [
      "Processing Genotype data. Total: 10: : 7it [03:58, 27.74s/it]"
     ]
    },
    {
     "name": "stdout",
     "output_type": "stream",
     "text": [
      "_save_result exe time: 00:00:02\n",
      "Completed melpomene/genes/Hmel215003o_cortex.tsv: 75.7 MB bytes\n",
      "Processing melpomene/genes/Hmel213001o_vvl.tsv: 105.0 MB bytes\n",
      "read_df exe time: 00:00:00\n"
     ]
    },
    {
     "data": {
      "application/vnd.jupyter.widget-view+json": {
       "model_id": "c53085f5eab248aab5830408b264547b",
       "version_major": 2,
       "version_minor": 0
      },
      "text/plain": [
       "Pandas Apply:   0%|          | 0/187 [00:00<?, ?it/s]"
      ]
     },
     "metadata": {},
     "output_type": "display_data"
    },
    {
     "name": "stdout",
     "output_type": "stream",
     "text": [
      "df_extract_states exe time: 00:00:01\n",
      "create_ml_ready exe time: 00:00:04\n",
      "_process exe time: 00:00:07\n"
     ]
    },
    {
     "name": "stderr",
     "output_type": "stream",
     "text": [
      "Processing Genotype data. Total: 10: : 8it [04:10, 22.53s/it]"
     ]
    },
    {
     "name": "stdout",
     "output_type": "stream",
     "text": [
      "_save_result exe time: 00:00:03\n",
      "Completed melpomene/genes/Hmel213001o_vvl.tsv: 105.0 MB bytes\n",
      "Processing melpomene/genes/Hmel218003o_optix.tsv: 124.5 MB bytes\n",
      "read_df exe time: 00:00:00\n"
     ]
    },
    {
     "data": {
      "application/vnd.jupyter.widget-view+json": {
       "model_id": "6b03be871ea84b1cb0a3d213d68b2a6b",
       "version_major": 2,
       "version_minor": 0
      },
      "text/plain": [
       "Pandas Apply:   0%|          | 0/187 [00:00<?, ?it/s]"
      ]
     },
     "metadata": {},
     "output_type": "display_data"
    },
    {
     "name": "stdout",
     "output_type": "stream",
     "text": [
      "df_extract_states exe time: 00:00:01\n",
      "create_ml_ready exe time: 00:00:05\n",
      "_process exe time: 00:00:09\n"
     ]
    },
    {
     "name": "stderr",
     "output_type": "stream",
     "text": [
      "Processing Genotype data. Total: 10: : 9it [04:23, 19.62s/it]"
     ]
    },
    {
     "name": "stdout",
     "output_type": "stream",
     "text": [
      "_save_result exe time: 00:00:03\n",
      "Completed melpomene/genes/Hmel218003o_optix.tsv: 124.5 MB bytes\n",
      "Processing melpomene/genes/Hmel210001o_wntA.tsv: 103.4 MB bytes\n",
      "read_df exe time: 00:00:00\n"
     ]
    },
    {
     "data": {
      "application/vnd.jupyter.widget-view+json": {
       "model_id": "964f0f19b58a47ef989ee64e30195294",
       "version_major": 2,
       "version_minor": 0
      },
      "text/plain": [
       "Pandas Apply:   0%|          | 0/187 [00:00<?, ?it/s]"
      ]
     },
     "metadata": {},
     "output_type": "display_data"
    },
    {
     "name": "stdout",
     "output_type": "stream",
     "text": [
      "df_extract_states exe time: 00:00:01\n",
      "create_ml_ready exe time: 00:00:04\n",
      "_process exe time: 00:00:07\n"
     ]
    },
    {
     "name": "stderr",
     "output_type": "stream",
     "text": [
      "Processing Genotype data. Total: 10: : 10it [04:34, 16.99s/it]"
     ]
    },
    {
     "name": "stdout",
     "output_type": "stream",
     "text": [
      "_save_result exe time: 00:00:03\n",
      "Completed melpomene/genes/Hmel210001o_wntA.tsv: 103.4 MB bytes\n"
     ]
    }
   ],
   "source": [
    "import os\n",
    "from enum import Enum\n",
    "from concurrent.futures import ThreadPoolExecutor, as_completed\n",
    "from tqdm import tqdm\n",
    "from pathlib import Path\n",
    "\n",
    "from gtp.dataloading.data_preprocessors import ButterflyGenePreprocessor\n",
    "\n",
    "class DNA_SCOPE(Enum):\n",
    "    GENOME = \"genome\"\n",
    "    CHROMOSOME = \"chromosomes\"\n",
    "    GENE = \"genes\"\n",
    "    \n",
    "THIS_DNA_SCOPE = DNA_SCOPE.GENE.value    \n",
    "ROOT_GENOTYPE_INPUT_DIR = Path(\"/local/scratch/david/geno-pheno-data/dna/\")\n",
    "ROOT_GENOTYPE_OUTPUT_DIR = Path(\"/local/scratch/david/geno-pheno-data/dna/processed\")\n",
    "\n",
    "\n",
    "def convert_bytes(num):\n",
    "    \"\"\"\n",
    "    this function will convert bytes to MB.... GB... etc\n",
    "    \"\"\"\n",
    "    for x in ['bytes', 'KB', 'MB', 'GB', 'TB']:\n",
    "        if num < 1024.0:\n",
    "            return \"%3.1f %s\" % (num, x)\n",
    "        num /= 1024.0\n",
    "\n",
    "def process_fn(pca_csv_path_suffix, save_dir):\n",
    "    size = convert_bytes(os.path.getsize(ROOT_GENOTYPE_INPUT_DIR / pca_csv_path_suffix))\n",
    "    print(f\"Processing {pca_csv_path_suffix}: {size} bytes\")\n",
    "    preprocessor = ButterflyGenePreprocessor(\n",
    "        input_dir = ROOT_GENOTYPE_INPUT_DIR,\n",
    "        output_dir = ROOT_GENOTYPE_OUTPUT_DIR\n",
    "    )\n",
    "    preprocessor.process(pca_csv_path_suffix=pca_csv_path_suffix)\n",
    "    preprocessor.save_result(save_dir)\n",
    "    print(f\"Completed {pca_csv_path_suffix}: {size} bytes\")\n",
    "    return True\n",
    "\n",
    "futures = []\n",
    "process_data = []\n",
    "pool = ThreadPoolExecutor(1)\n",
    "\n",
    "for species in [\"erato\", \"melpomene\"]:\n",
    "    species_genome_path = Path(f\"{species}/{THIS_DNA_SCOPE}\")\n",
    "    for root, dirs, files in os.walk(ROOT_GENOTYPE_INPUT_DIR / species_genome_path):\n",
    "        for i, f in enumerate(tqdm(files, desc=f\"Processing: {species}\")):\n",
    "            fname = f.split(\".\")[0]\n",
    "            if os.path.exists(ROOT_GENOTYPE_OUTPUT_DIR / f\"{THIS_DNA_SCOPE}/{species}/{fname}/ml_ready.npy\"): \n",
    "                continue # Delete this after\n",
    "            future = pool.submit(process_fn, species_genome_path / f, f\"{THIS_DNA_SCOPE}/{species}/{fname}\")\n",
    "            futures.append(future)\n",
    "            process_data.append([species_genome_path / f, f\"{THIS_DNA_SCOPE}/{species}/{fname}\"])\n",
    "            \n",
    "progress_bar = tqdm(len(process_data))\n",
    "progress_bar.set_description(f\"Processing Genotype data. Total: {len(process_data)}\")\n",
    "\n",
    "for future in as_completed(futures):\n",
    "    success = future.result()\n",
    "    progress_bar.update(1)\n"
   ]
  },
  {
   "cell_type": "code",
   "execution_count": null,
   "metadata": {},
   "outputs": [],
   "source": []
  }
 ],
 "metadata": {
  "kernelspec": {
   "display_name": "dna",
   "language": "python",
   "name": "python3"
  },
  "language_info": {
   "codemirror_mode": {
    "name": "ipython",
    "version": 3
   },
   "file_extension": ".py",
   "mimetype": "text/x-python",
   "name": "python",
   "nbconvert_exporter": "python",
   "pygments_lexer": "ipython3",
   "version": "3.12.3"
  }
 },
 "nbformat": 4,
 "nbformat_minor": 2
}
