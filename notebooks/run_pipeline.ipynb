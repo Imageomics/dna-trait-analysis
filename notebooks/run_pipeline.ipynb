{
 "cells": [
  {
   "cell_type": "markdown",
   "metadata": {},
   "source": [
    "### Preprocess Data"
   ]
  },
  {
   "cell_type": "code",
   "execution_count": 1,
   "metadata": {},
   "outputs": [],
   "source": [
    "from pathlib import Path\n",
    "import socket\n",
    "from enum import Enum\n",
    "\n",
    "\n",
    "class Hosts(Enum):\n",
    "    IMAGEOMICS_SERVER = \"cse-cnc196909s.coeit.osu.edu\"\n",
    "\n",
    "\n",
    "hostname = socket.gethostname()\n",
    "if hostname == Hosts.IMAGEOMICS_SERVER.value:\n",
    "    ROOT_PHENOTYPE_INPUT_DIR = Path(\"/local/scratch/carlyn.1/dna/colors\")\n",
    "    ROOT_PHENOTYPE_OUTPUT_DIR = Path(\"/local/scratch/carlyn.1/dna/colors/processed\")\n",
    "    ROOT_GENOTYPE_INPUT_DIR = Path(\"/local/scratch/carlyn.1/dna/vcfs\")\n",
    "    ROOT_GENOTYPE_OUTPUT_DIR = Path(\"/local/scratch/carlyn.1/dna/processed\")\n",
    "else:\n",
    "    ROOT_PHENOTYPE_INPUT_DIR = Path(\"/local/scratch/david/geno-pheno-data/colors\")\n",
    "    ROOT_PHENOTYPE_OUTPUT_DIR = Path(\n",
    "        \"/local/scratch/david/geno-pheno-data/colors/processed\"\n",
    "    )\n",
    "    ROOT_GENOTYPE_INPUT_DIR = Path(\"/local/scratch/david/geno-pheno-data/dna/\")\n",
    "    ROOT_GENOTYPE_OUTPUT_DIR = Path(\n",
    "        \"/local/scratch/david/geno-pheno-data/dna/processed\"\n",
    "    )"
   ]
  },
  {
   "cell_type": "code",
   "execution_count": 2,
   "metadata": {},
   "outputs": [
    {
     "name": "stderr",
     "output_type": "stream",
     "text": [
      "/home/carlyn.1/dna-trait-analysis/src/gtp/dataloading/data_preprocessors.py:65: SyntaxWarning: invalid escape sequence '\\/'\n",
      "  \"\"\"\n"
     ]
    }
   ],
   "source": [
    "from gtp.dataloading.data_preprocessors import ButterflyPatternizePreprocessor\n",
    "\n",
    "preprocessor = ButterflyPatternizePreprocessor(\n",
    "    input_dir=ROOT_PHENOTYPE_INPUT_DIR, output_dir=ROOT_PHENOTYPE_OUTPUT_DIR\n",
    ")\n",
    "\n",
    "for species in [\"erato\", \"melpomene\"]:\n",
    "    for wing in [\"forewings\", \"hindwings\"]:\n",
    "        for color in [\"color_1\", \"color_2\", \"color_3\", \"total\"]:\n",
    "            suffix_path = f\"{species}_{wing}_PCA/PCA_{color}_loadings.csv\"\n",
    "            preprocessor.process(pca_csv_path_suffix=suffix_path)\n",
    "            preprocessor.save_result(f\"{species}_{wing}_{color}\")\n"
   ]
  },
  {
   "cell_type": "code",
   "execution_count": null,
   "metadata": {},
   "outputs": [],
   "source": []
  },
  {
   "cell_type": "code",
   "execution_count": 3,
   "metadata": {},
   "outputs": [
    {
     "name": "stdout",
     "output_type": "stream",
     "text": [
      "/local/scratch/carlyn.1/dna/vcfs/erato/genome\n"
     ]
    },
    {
     "name": "stderr",
     "output_type": "stream",
     "text": [
      "Processing: erato: 100%|██████████| 195/195 [00:00<00:00, 40155.60it/s]\n"
     ]
    },
    {
     "name": "stdout",
     "output_type": "stream",
     "text": [
      "/local/scratch/carlyn.1/dna/vcfs/melpomene/genome\n"
     ]
    },
    {
     "name": "stderr",
     "output_type": "stream",
     "text": [
      "Processing: melpomene: 100%|██████████| 38/38 [00:00<00:00, 32349.01it/s]\n",
      "Processing Genotype data. Total: 0: : 0it [00:00, ?it/s]"
     ]
    }
   ],
   "source": [
    "import os\n",
    "from enum import Enum\n",
    "from concurrent.futures import ThreadPoolExecutor, as_completed\n",
    "from tqdm import tqdm\n",
    "from pathlib import Path\n",
    "\n",
    "from gtp.dataloading.data_preprocessors import ButterflyGenePreprocessor\n",
    "\n",
    "\n",
    "class DNA_SCOPE(Enum):\n",
    "    GENOME = \"genome\"\n",
    "    CHROMOSOME = \"chromosomes\"\n",
    "    GENE = \"genes\"\n",
    "\n",
    "\n",
    "THIS_DNA_SCOPE = DNA_SCOPE.GENOME.value\n",
    "\n",
    "\n",
    "def convert_bytes(num):\n",
    "    \"\"\"\n",
    "    this function will convert bytes to MB.... GB... etc\n",
    "    \"\"\"\n",
    "    for x in [\"bytes\", \"KB\", \"MB\", \"GB\", \"TB\"]:\n",
    "        if num < 1024.0:\n",
    "            return \"%3.1f %s\" % (num, x)\n",
    "        num /= 1024.0\n",
    "\n",
    "\n",
    "def process_fn(pca_csv_path_suffix, save_dir):\n",
    "    size = convert_bytes(os.path.getsize(ROOT_GENOTYPE_INPUT_DIR / pca_csv_path_suffix))\n",
    "    print(f\"Processing {pca_csv_path_suffix}: {size} bytes\")\n",
    "    preprocessor = ButterflyGenePreprocessor(\n",
    "        input_dir=ROOT_GENOTYPE_INPUT_DIR, output_dir=ROOT_GENOTYPE_OUTPUT_DIR\n",
    "    )\n",
    "    preprocessor.process(pca_csv_path_suffix=pca_csv_path_suffix)\n",
    "    preprocessor.save_result(save_dir)\n",
    "    print(f\"Completed {pca_csv_path_suffix}: {size} bytes\")\n",
    "    return True\n",
    "\n",
    "\n",
    "futures = []\n",
    "process_data = []\n",
    "pool = ThreadPoolExecutor(1)\n",
    "\n",
    "for species in [\"erato\", \"melpomene\"]:\n",
    "    species_genome_path = Path(f\"{species}/{THIS_DNA_SCOPE}\")\n",
    "    print(ROOT_GENOTYPE_INPUT_DIR / species_genome_path)\n",
    "    for root, dirs, files in os.walk(ROOT_GENOTYPE_INPUT_DIR / species_genome_path):\n",
    "        for i, f in enumerate(tqdm(files, desc=f\"Processing: {species}\")):\n",
    "            fname = f.split(\".\")[0]\n",
    "            if os.path.exists(\n",
    "                ROOT_GENOTYPE_OUTPUT_DIR\n",
    "                / f\"{THIS_DNA_SCOPE}/{species}/{fname}/ml_ready.npy\"\n",
    "            ):\n",
    "                continue  # Delete this after\n",
    "            future = pool.submit(\n",
    "                process_fn,\n",
    "                species_genome_path / f,\n",
    "                f\"{THIS_DNA_SCOPE}/{species}/{fname}\",\n",
    "            )\n",
    "            futures.append(future)\n",
    "            process_data.append(\n",
    "                [species_genome_path / f, f\"{THIS_DNA_SCOPE}/{species}/{fname}\"]\n",
    "            )\n",
    "\n",
    "progress_bar = tqdm(len(process_data))\n",
    "progress_bar.set_description(f\"Processing Genotype data. Total: {len(process_data)}\")\n",
    "\n",
    "for future in as_completed(futures):\n",
    "    success = future.result()\n",
    "    progress_bar.update(1)\n"
   ]
  }
 ],
 "metadata": {
  "kernelspec": {
   "display_name": "dna",
   "language": "python",
   "name": "python3"
  },
  "language_info": {
   "codemirror_mode": {
    "name": "ipython",
    "version": 3
   },
   "file_extension": ".py",
   "mimetype": "text/x-python",
   "name": "python",
   "nbconvert_exporter": "python",
   "pygments_lexer": "ipython3",
   "version": "undefined.undefined.undefined"
  }
 },
 "nbformat": 4,
 "nbformat_minor": 2
}
