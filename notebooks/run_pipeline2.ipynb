{
 "cells": [
  {
   "cell_type": "markdown",
   "metadata": {},
   "source": [
    "### Preprocess Data"
   ]
  },
  {
   "cell_type": "code",
   "execution_count": 7,
   "metadata": {},
   "outputs": [],
   "source": [
    "from pathlib import Path\n",
    "\n",
    "from gtp.dataloading.data_preprocessors import ButterflyPatternizePreprocessor\n",
    "\n",
    "ROOT_PHENOTYPE_INPUT_DIR = Path(\"/local/scratch/carlyn.1/dna/colors/\")\n",
    "ROOT_PHENOTYPE_OUTPUT_DIR = Path(\"/local/scratch/carlyn.1/dna/colors/processed\")\n",
    "\n",
    "preprocessor = ButterflyPatternizePreprocessor(\n",
    "    input_dir = ROOT_PHENOTYPE_INPUT_DIR,\n",
    "    output_dir = ROOT_PHENOTYPE_OUTPUT_DIR\n",
    ")\n",
    "\n",
    "for species in [\"erato\", \"melpomene\"]:\n",
    "    for wing in [\"forewings\", \"hindwings\"]:\n",
    "        for color in [\"color_1\", \"color_2\", \"color_3\", \"total\"]:\n",
    "            suffix_path = f\"{species}_{wing}_PCA/PCA_{color}_loadings.csv\"\n",
    "            preprocessor.process(pca_csv_path_suffix=suffix_path)\n",
    "            preprocessor.save_result(f\"{species}_{wing}_{color}\")\n"
   ]
  },
  {
   "cell_type": "code",
   "execution_count": 1,
   "metadata": {},
   "outputs": [
    {
     "name": "stderr",
     "output_type": "stream",
     "text": [
      "/home/carlyn.1/dna-trait-analysis/src/gtp/dataloading/data_preprocessors.py:59: SyntaxWarning: invalid escape sequence '\\/'\n",
      "  \"\"\"\n",
      "Processing: erato:   0%|          | 0/195 [00:00<?, ?it/s]"
     ]
    },
    {
     "name": "stdout",
     "output_type": "stream",
     "text": [
      "continuing\n",
      "continuing\n",
      "continuing\n",
      "continuing\n",
      "continuing\n",
      "continuing\n",
      "continuing\n",
      "continuing\n",
      "continuing\n"
     ]
    },
    {
     "name": "stderr",
     "output_type": "stream",
     "text": [
      "Processing: erato:   9%|▉         | 18/195 [10:27<55:40, 18.87s/it]  "
     ]
    }
   ],
   "source": [
    "import os\n",
    "from pathlib import Path\n",
    "from tqdm import tqdm\n",
    "\n",
    "from gtp.dataloading.data_preprocessors import ButterflyGenePreprocessor\n",
    "\n",
    "ROOT_GENOTYPE_INPUT_DIR = Path(\"/local/scratch/carlyn.1/dna/vcfs/\")\n",
    "ROOT_GENOTYPE_OUTPUT_DIR = Path(\"/local/scratch/carlyn.1/dna/vcfs/processed\")\n",
    "\n",
    "preprocessor = ButterflyGenePreprocessor(\n",
    "    input_dir = ROOT_GENOTYPE_INPUT_DIR,\n",
    "    output_dir = ROOT_GENOTYPE_OUTPUT_DIR\n",
    ")\n",
    "for species in [\"erato\", \"melpomene\"]:\n",
    "    species_genome_path = Path(f\"{species}/genome\")\n",
    "    for root, dirs, files in os.walk(ROOT_GENOTYPE_INPUT_DIR / species_genome_path):\n",
    "        for i, f in enumerate(tqdm(files, desc=f\"Processing: {species}\")):\n",
    "            if species == \"erato\" and i < 9:\n",
    "                print(\"continuing\")\n",
    "                continue # Do this for now. Delete after\n",
    "            fname = f.split(\".\")[0]\n",
    "            preprocessor.process(pca_csv_path_suffix=species_genome_path / f)\n",
    "            preprocessor.save_result(f\"genome/{species}/{fname}\")\n",
    "\n",
    "\n",
    "\n",
    "\n"
   ]
  },
  {
   "cell_type": "code",
   "execution_count": 1,
   "metadata": {},
   "outputs": [
    {
     "name": "stderr",
     "output_type": "stream",
     "text": [
      "/home/carlyn.1/dna-trait-analysis/src/gtp/dataloading/data_preprocessors.py:61: SyntaxWarning: invalid escape sequence '\\/'\n",
      "  \"\"\"\n",
      "/home/carlyn.1/miniconda3/envs/dna/lib/python3.12/site-packages/tqdm/auto.py:21: TqdmWarning: IProgress not found. Please update jupyter and ipywidgets. See https://ipywidgets.readthedocs.io/en/stable/user_install.html\n",
      "  from .autonotebook import tqdm as notebook_tqdm\n",
      "Processing: melpomene:   0%|          | 0/38 [00:00<?, ?it/s]\n"
     ]
    },
    {
     "ename": "NameError",
     "evalue": "name 'fname' is not defined",
     "output_type": "error",
     "traceback": [
      "\u001b[0;31m---------------------------------------------------------------------------\u001b[0m",
      "\u001b[0;31mNameError\u001b[0m                                 Traceback (most recent call last)",
      "\u001b[1;32m/home/carlyn.1/dna-trait-analysis/notebooks/run_pipeline2.ipynb Cell 4\u001b[0m line \u001b[0;36m2\n\u001b[1;32m     <a href='vscode-notebook-cell://ssh-remote%2Bcse-cnc196909s.coeit.osu.edu/home/carlyn.1/dna-trait-analysis/notebooks/run_pipeline2.ipynb#W3sdnNjb2RlLXJlbW90ZQ%3D%3D?line=25'>26</a>\u001b[0m \u001b[39mfor\u001b[39;00m root, dirs, files \u001b[39min\u001b[39;00m os\u001b[39m.\u001b[39mwalk(ROOT_GENOTYPE_INPUT_DIR \u001b[39m/\u001b[39m species_genome_path):\n\u001b[1;32m     <a href='vscode-notebook-cell://ssh-remote%2Bcse-cnc196909s.coeit.osu.edu/home/carlyn.1/dna-trait-analysis/notebooks/run_pipeline2.ipynb#W3sdnNjb2RlLXJlbW90ZQ%3D%3D?line=26'>27</a>\u001b[0m     \u001b[39mfor\u001b[39;00m i, f \u001b[39min\u001b[39;00m \u001b[39menumerate\u001b[39m(tqdm(files, desc\u001b[39m=\u001b[39m\u001b[39mf\u001b[39m\u001b[39m\"\u001b[39m\u001b[39mProcessing: \u001b[39m\u001b[39m{\u001b[39;00mspecies\u001b[39m}\u001b[39;00m\u001b[39m\"\u001b[39m)):\n\u001b[0;32m---> <a href='vscode-notebook-cell://ssh-remote%2Bcse-cnc196909s.coeit.osu.edu/home/carlyn.1/dna-trait-analysis/notebooks/run_pipeline2.ipynb#W3sdnNjb2RlLXJlbW90ZQ%3D%3D?line=27'>28</a>\u001b[0m         \u001b[39mif\u001b[39;00m os\u001b[39m.\u001b[39mpath\u001b[39m.\u001b[39mexists(ROOT_GENOTYPE_OUTPUT_DIR \u001b[39m/\u001b[39m \u001b[39mf\u001b[39m\u001b[39m\"\u001b[39m\u001b[39mgenome/\u001b[39m\u001b[39m{\u001b[39;00mspecies\u001b[39m}\u001b[39;00m\u001b[39m/\u001b[39m\u001b[39m{\u001b[39;00mfname\u001b[39m}\u001b[39;00m\u001b[39m/ml_ready.npy\u001b[39m\u001b[39m\"\u001b[39m): \n\u001b[1;32m     <a href='vscode-notebook-cell://ssh-remote%2Bcse-cnc196909s.coeit.osu.edu/home/carlyn.1/dna-trait-analysis/notebooks/run_pipeline2.ipynb#W3sdnNjb2RlLXJlbW90ZQ%3D%3D?line=28'>29</a>\u001b[0m             \u001b[39mprint\u001b[39m(\u001b[39m\"\u001b[39m\u001b[39mContinue\u001b[39m\u001b[39m\"\u001b[39m)\n\u001b[1;32m     <a href='vscode-notebook-cell://ssh-remote%2Bcse-cnc196909s.coeit.osu.edu/home/carlyn.1/dna-trait-analysis/notebooks/run_pipeline2.ipynb#W3sdnNjb2RlLXJlbW90ZQ%3D%3D?line=29'>30</a>\u001b[0m             \u001b[39mcontinue\u001b[39;00m \u001b[39m# Delete this after\u001b[39;00m\n",
      "\u001b[0;31mNameError\u001b[0m: name 'fname' is not defined"
     ]
    }
   ],
   "source": [
    "import os\n",
    "from concurrent.futures import ThreadPoolExecutor, as_completed\n",
    "from tqdm import tqdm\n",
    "from pathlib import Path\n",
    "\n",
    "from gtp.dataloading.data_preprocessors import ButterflyGenePreprocessor\n",
    "\n",
    "ROOT_GENOTYPE_INPUT_DIR = Path(\"/local/scratch/carlyn.1/dna/vcfs/\")\n",
    "ROOT_GENOTYPE_OUTPUT_DIR = Path(\"/local/scratch/carlyn.1/dna/vcfs/processed\")\n",
    "\n",
    "def process_fn(pca_csv_path_suffix, save_dir):\n",
    "    preprocessor = ButterflyGenePreprocessor(\n",
    "        input_dir = ROOT_GENOTYPE_INPUT_DIR,\n",
    "        output_dir = ROOT_GENOTYPE_OUTPUT_DIR\n",
    "    )\n",
    "    preprocessor.process(pca_csv_path_suffix=pca_csv_path_suffix)\n",
    "    preprocessor.save_result(save_dir)\n",
    "    return True\n",
    "\n",
    "futures = []\n",
    "process_data = []\n",
    "pool = ThreadPoolExecutor(16)\n",
    "\n",
    "for species in [\"melpomene\"]:\n",
    "    species_genome_path = Path(f\"{species}/genome\")\n",
    "    for root, dirs, files in os.walk(ROOT_GENOTYPE_INPUT_DIR / species_genome_path):\n",
    "        for i, f in enumerate(tqdm(files, desc=f\"Processing: {species}\")):\n",
    "            fname = f.split(\".\")[0]\n",
    "            if os.path.exists(ROOT_GENOTYPE_OUTPUT_DIR / f\"genome/{species}/{fname}/ml_ready.npy\"): \n",
    "                print(\"Continue\")\n",
    "                continue # Delete this after\n",
    "            future = pool.submit(process_fn, species_genome_path / f, f\"genome/{species}/{fname}\")\n",
    "            futures.append(future)\n",
    "            process_data.append([species_genome_path / f, f\"genome/{species}/{fname}\"])\n",
    "            \n",
    "progress_bar = tqdm(len(process_data))\n",
    "progress_bar.set_description(\"Processing Genotype data\")\n",
    "\n",
    "for future in as_completed(futures):\n",
    "    success = future.result()\n",
    "    progress_bar.update(1)\n",
    "    progress_bar.set_postfix(completed=f\":)\")"
   ]
  }
 ],
 "metadata": {
  "kernelspec": {
   "display_name": "dna",
   "language": "python",
   "name": "python3"
  },
  "language_info": {
   "codemirror_mode": {
    "name": "ipython",
    "version": 3
   },
   "file_extension": ".py",
   "mimetype": "text/x-python",
   "name": "python",
   "nbconvert_exporter": "python",
   "pygments_lexer": "ipython3",
   "version": "3.12.3"
  }
 },
 "nbformat": 4,
 "nbformat_minor": 2
}
